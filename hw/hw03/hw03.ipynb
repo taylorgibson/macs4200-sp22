{
 "cells": [
  {
   "cell_type": "code",
   "execution_count": null,
   "id": "10ef7a42",
   "metadata": {
    "deletable": false,
    "editable": false
   },
   "outputs": [],
   "source": [
    "# Initialize Otter\n",
    "import otter\n",
    "grader = otter.Notebook(\"hw03.ipynb\")"
   ]
  },
  {
   "cell_type": "markdown",
   "id": "3d9d02b7",
   "metadata": {},
   "source": [
    "# Homework 03: Public key encryption\n",
    "\n",
    "This homework will focus on topics covered in the final week of the course: public key cryptography."
   ]
  },
  {
   "cell_type": "markdown",
   "id": "fdf6a43d",
   "metadata": {},
   "source": [
    "## Helper functions\n",
    "\n",
    "To get you started, run the cell below to load functions that have been written in earlier homework assignments. Functions that are included:\n",
    "* `gcd(<a>,<b>)`. This function will compute the greatest common divisor between `a` and `b`\n",
    "* `mod_inverse(<e>, <n>)`. Computes the multiplicative inverse of `e` in modulus `n`\n",
    "* `phi(<n>)`. This is Euler's totient function as described in [11.3 RSA](https://macs4200.org/chapters/11/3/rsa.html)\n",
    "\n",
    "You can use these functions in any of your code below after you've imported them."
   ]
  },
  {
   "cell_type": "code",
   "execution_count": null,
   "id": "3527f751",
   "metadata": {},
   "outputs": [],
   "source": [
    "from hw03toolkit import *"
   ]
  },
  {
   "cell_type": "markdown",
   "id": "f4ef295a",
   "metadata": {},
   "source": [
    "## 1. KidRSA\n",
    "*Recommended Reading:* https://www.macs4200.org/chapters/11/1/kidrsa.html\n",
    "\n",
    "In this question you will implement the KidRSA algorithm."
   ]
  },
  {
   "cell_type": "markdown",
   "id": "b782820c",
   "metadata": {},
   "source": [
    "### Part A: Key Generation\n",
    "\n",
    "Write a function `kidrsa_keygen` that uses the values for `a`, `b`, `a_prime`, and `b_prime` to compute a pair of public and private keys using the Kid RSA key generation algorithm. The function will return the pair of keys as a list of lists. The first key in the list should be the public key $\\left(e,n\\right)$ and the second key in the list should be the private key $\\left(d,n\\right)$.\n",
    "\n",
    "**Sample Test Cases**:\n",
    "```\n",
    ">>> kidrsa_keygen(3,7,5,11)\n",
    "[[103, 1169], [227, 1169]]\n",
    "\n",
    ">>> kidrsa_keygen(2,324,100,8)\n",
    "[[64702, 550017], [5500, 550017]]\n",
    "```"
   ]
  },
  {
   "cell_type": "code",
   "execution_count": null,
   "id": "fc71f1c5",
   "metadata": {
    "tags": []
   },
   "outputs": [],
   "source": [
    "def kidrsa_keygen(a, b, a_prime, b_prime):\n",
    "    M = ...\n",
    "    e = ...\n",
    "    d = ...\n",
    "    n = ...\n",
    "    return [ [e, n], [d, n] ]"
   ]
  },
  {
   "cell_type": "markdown",
   "id": "4f2c9476",
   "metadata": {},
   "source": [
    "Use the empty cell below to put your function through a few tests of your own, then run the autograder cell."
   ]
  },
  {
   "cell_type": "code",
   "execution_count": null,
   "id": "5dd50bfa",
   "metadata": {},
   "outputs": [],
   "source": [
    "# You test your function here\n"
   ]
  },
  {
   "cell_type": "code",
   "execution_count": null,
   "id": "de658a00",
   "metadata": {
    "deletable": false,
    "editable": false
   },
   "outputs": [],
   "source": [
    "grader.check(\"q1_a\")"
   ]
  },
  {
   "cell_type": "markdown",
   "id": "74bd2e4d",
   "metadata": {
    "tags": []
   },
   "source": [
    "### Part B: Encryption / Decryption\n",
    "\n",
    "Write a function `kidrsa` that takes in a numerical integer message, a list containing either a public or private key, and encrypts or decrypts the message. Since the process for encryption and decryption are identical, you do not need a boolean `encipher` parameter as in earlier homework assignments.\n",
    "\n",
    "`kidrsa` should output a numerical integer that represents ciphertext when the function is provided numerical plaintext, and vice-versa.\n",
    "\n",
    "**Reminder:** Your message, `message`, must be less than the modulus `n` from the key **and** be relatively prime to `n` (i.e `gcd(m,n) == 1`). Your function must check for this condition and return the boolean value `False` if it does not meet these criteria.\n",
    "\n",
    "**Sample Test Cases**:\n",
    "```\n",
    ">>> kidrsa( 348, [18221, 347273])\n",
    "89994\n",
    "\n",
    ">>> kidrsa( 89994, [9377, 347273])\n",
    "348\n",
    "```\n",
    "\n",
    "If `message` $\\gt n$\n",
    "```\n",
    ">>> kidrsa( 500000, [18221, 347273])\n",
    "False\n",
    "```\n",
    "\n",
    "If $gcd(message, n) \\neq 1$\n",
    "```\n",
    ">>> kidrsa( 61, [18221, 347273])\n",
    "False\n",
    "```"
   ]
  },
  {
   "cell_type": "markdown",
   "id": "1431b721",
   "metadata": {},
   "source": [
    "_Type your answer here, replacing this text._"
   ]
  },
  {
   "cell_type": "code",
   "execution_count": null,
   "id": "c018b18a",
   "metadata": {
    "tags": []
   },
   "outputs": [],
   "source": [
    "def kidrsa(message, key, encrypt=True):\n",
    "    e_or_d = ...\n",
    "    n = ...\n",
    "    \n",
    "    \n",
    "    ..."
   ]
  },
  {
   "cell_type": "code",
   "execution_count": null,
   "id": "e811a1ee",
   "metadata": {
    "tags": []
   },
   "outputs": [],
   "source": [
    "# You test your function here\n"
   ]
  },
  {
   "cell_type": "code",
   "execution_count": null,
   "id": "f7df3853",
   "metadata": {
    "deletable": false,
    "editable": false
   },
   "outputs": [],
   "source": [
    "grader.check(\"q1_b\")"
   ]
  },
  {
   "cell_type": "markdown",
   "id": "3b6cd4c8",
   "metadata": {},
   "source": [
    "### Part C: Cracking Keys\n",
    "\n",
    "KidRSA is not secure because it's fairly easy and fast to determine a private key if you have someone's private key. Write a function `crack_kidrsa` that accepts a public key (as a list) as the input, and returns the private key.\n",
    "\n",
    "`crack_kidrsa` must return an a list that represents the private key formatted as `[d, n]`. `crack_kidrsa` must check to ensure that the provided value of `e` has an inverse in mod `n`. If they aren't the function should return the boolean value `False`\n",
    "\n",
    "**HINT:** You should not brute force this! You should use the `mod_inverse` function to help here. `mod_inverse` returns the boolean value `False` if there is no multiplicative inverse found. \n",
    "\n",
    "**Sample Test Cases**:\n",
    "```\n",
    ">>> crack_kidrsa( [18221, 347273] )\n",
    "[9377, 347273]\n",
    "\n",
    ">>> crack_kidrsa( [4, 12] )\n",
    "False\n",
    "```"
   ]
  },
  {
   "cell_type": "code",
   "execution_count": null,
   "id": "d3cd2647",
   "metadata": {
    "tags": []
   },
   "outputs": [],
   "source": [
    "def crack_kidrsa(public_key):\n",
    "    e = ...\n",
    "    n = ...\n",
    "    d = ...\n",
    "    \n",
    "    \n",
    "    return [d,n]"
   ]
  },
  {
   "cell_type": "markdown",
   "id": "8d35cfae",
   "metadata": {},
   "source": [
    "Use the empty cell below to put your function through a few tests of your own, then run the autograder cell."
   ]
  },
  {
   "cell_type": "code",
   "execution_count": null,
   "id": "39bfaec1",
   "metadata": {},
   "outputs": [],
   "source": [
    "# You test your function here\n"
   ]
  },
  {
   "cell_type": "code",
   "execution_count": null,
   "id": "91d1bce3",
   "metadata": {
    "deletable": false,
    "editable": false
   },
   "outputs": [],
   "source": [
    "grader.check(\"q1_c\")"
   ]
  },
  {
   "cell_type": "markdown",
   "id": "59c2ba46",
   "metadata": {},
   "source": [
    "## 2. The RSA Cipher\n",
    "*Recommended Reading:* https://www.macs4200.org/chapters/11/3/rsa.html"
   ]
  },
  {
   "cell_type": "markdown",
   "id": "5deedf70",
   "metadata": {},
   "source": [
    "### Part A: Key Generation\n",
    "\n",
    "Write a function `rsa_keygen` that uses the prime integers `p` and `q`, and the encryption exponent `e` to compute a pair of public and private keys using the RSA key generation algorithm. `e` should take on the default value of `65537`. \n",
    "\n",
    "The function must return the pair of keys as a list of lists. The first key in the list should be the public key $\\left(e,n\\right)$ and the second key in the list should be the private key $\\left(d,n\\right)$.\n",
    "\n",
    "`rsa_keygen` must check that `e` is a valid encryption exponent. If it's not, `kid_rsa` should return the boolean value `False`\n",
    "\n",
    "**Reminder:**  $e$ and $\\varphi(n)$ need to be relatively prime for $e$ to be valid.\n",
    "\n",
    "**Sample Test Cases**:\n",
    "```\n",
    ">>> rsa_keygen(3, 11, 3)\n",
    "[(3, 33), (7, 33)]\n",
    "\n",
    ">>> rsa_keygen(1787, 3881)\n",
    "[(65537, 6935347), (5655233, 6935347)]\n",
    "\n",
    ">>> rsa_keygen(1787, 3881, e=36)\n",
    "False\n",
    "```"
   ]
  },
  {
   "cell_type": "code",
   "execution_count": null,
   "id": "2283af57",
   "metadata": {
    "tags": []
   },
   "outputs": [],
   "source": [
    "def rsa_keygen(p, q, e=65537):\n",
    "    n = ...\n",
    "    my_phi = ...\n",
    "    d = ...\n",
    "    \n",
    "    \n",
    "    return [ [e,n], [d,n] ]"
   ]
  },
  {
   "cell_type": "markdown",
   "id": "f583c8d2",
   "metadata": {},
   "source": [
    "Use the empty cell below to put your function through a few tests of your own, then run the autograder cell."
   ]
  },
  {
   "cell_type": "code",
   "execution_count": null,
   "id": "365b10b8",
   "metadata": {},
   "outputs": [],
   "source": [
    "# You test your function here\n"
   ]
  },
  {
   "cell_type": "code",
   "execution_count": null,
   "id": "8c5356d0",
   "metadata": {
    "deletable": false,
    "editable": false
   },
   "outputs": [],
   "source": [
    "grader.check(\"q2a\")"
   ]
  },
  {
   "cell_type": "markdown",
   "id": "f8a4629f",
   "metadata": {},
   "source": [
    "### Part B: Encryption / Decryption\n",
    "\n",
    "Write a function `rsa` that takes in a numerical integer message, a list containing either a public or private key, and encrypts or decrypts the message. Since the process for encryption and decryption are identical, you do not need a boolean `encipher` parameter as in earlier homework assignments.\n",
    "\n",
    "`rsa` should output a numerical integer that represents ciphertext when the function is provided numerical plaintext, and vice-versa.\n",
    "\n",
    "**Reminder:** Your message, `message`, must be less than the modulus `n` from the key. Your function must check for this condition and return the boolean value `False` if it does not meet the criteria.\n",
    "\n",
    "**Hint:** You should use the `pow` function instead of the `**` operator so you're using the fast modular exponentiation algorithm. This will drastically reduce the time to encrypt or decrypt a message. The numbers in this example are far too large for Python to efficiently carry out the exponentiation with the `**` operator!\n",
    "\n",
    "**Sample Test Cases**:\n",
    "```\n",
    ">>> rsa( 5, [3,33] )\n",
    "26\n",
    "\n",
    ">>> rsa( 26, (7,33) )\n",
    "5\n",
    "\n",
    ">>> rsa( 234712, [65537, 6935347])\n",
    "2678654\n",
    "\n",
    ">>> rsa( 2678654, [5655233, 6935347])\n",
    "234712\n",
    "\n",
    "m > n case\n",
    ">>> rsa( 26786543243423, [5655233, 6935347])\n",
    "False\n",
    "```"
   ]
  },
  {
   "cell_type": "code",
   "execution_count": null,
   "id": "f131b7a7",
   "metadata": {
    "tags": []
   },
   "outputs": [],
   "source": [
    "def rsa(message, key):\n",
    "    e_or_d = ...\n",
    "    n = ...\n",
    "    \n",
    "    \n",
    "    return pow(message, e_or_d, n)"
   ]
  },
  {
   "cell_type": "markdown",
   "id": "be8c13b3",
   "metadata": {},
   "source": [
    "Use the empty cell below to put your function through a few tests of your own, then run the autograder cell."
   ]
  },
  {
   "cell_type": "code",
   "execution_count": null,
   "id": "4115f829",
   "metadata": {},
   "outputs": [],
   "source": [
    "# You test your function here\n"
   ]
  },
  {
   "cell_type": "code",
   "execution_count": null,
   "id": "3fd8ff6e",
   "metadata": {
    "deletable": false,
    "editable": false
   },
   "outputs": [],
   "source": [
    "grader.check(\"q2_b\")"
   ]
  },
  {
   "cell_type": "markdown",
   "id": "f74eb28f",
   "metadata": {
    "deletable": false,
    "editable": false
   },
   "source": [
    "## Submission\n",
    "\n",
    "Make sure you have run all cells in your notebook in order before running the cell below, so that all images/graphs appear in the output. The cell below will generate a zip file for you to submit. **Please save before exporting!**\n",
    "\n",
    "Before exporting, SAVE your notebook, then RESTART AND RUN ALL CELLS. This will run the export cell. Make sure you submit the most recent copy by using the date-time stamp on the file."
   ]
  },
  {
   "cell_type": "code",
   "execution_count": null,
   "id": "d3f60590",
   "metadata": {
    "deletable": false,
    "editable": false
   },
   "outputs": [],
   "source": [
    "# Save your notebook first, then run this cell to export your submission.\n",
    "grader.export(pdf=False)"
   ]
  },
  {
   "cell_type": "markdown",
   "id": "b13d2382",
   "metadata": {},
   "source": [
    " "
   ]
  }
 ],
 "metadata": {
  "kernelspec": {
   "display_name": "Python 3 (ipykernel)",
   "language": "python",
   "name": "python3"
  },
  "language_info": {
   "codemirror_mode": {
    "name": "ipython",
    "version": 3
   },
   "file_extension": ".py",
   "mimetype": "text/x-python",
   "name": "python",
   "nbconvert_exporter": "python",
   "pygments_lexer": "ipython3",
   "version": "3.9.6"
  },
  "otter": {
   "tests": {
    "q1_a": {
     "name": "q1_a",
     "points": 1,
     "suites": [
      {
       "cases": [
        {
         "code": ">>> kidrsa_keygen(3,7,5,11) != None\nTrue",
         "failure_message": "Make sure you are using a return statement in your function, not just printing the output",
         "hidden": false,
         "locked": false,
         "points": 0
        },
        {
         "code": ">>> type(kidrsa_keygen(3,7,5,11)[0][1]) != float\nTrue",
         "failure_message": "The value for n should be an integer, not a float. HINT dividing with // returns an integer.",
         "hidden": false,
         "locked": false,
         "points": 0
        },
        {
         "code": ">>> kidrsa_keygen(3,7,5,11)\n[[103, 1169], [227, 1169]]",
         "failure_message": "Your keys are incorrect",
         "hidden": false,
         "locked": false,
         "points": 0.5
        },
        {
         "code": ">>> kidrsa_keygen(2,324,100,8)\n[[64702, 550017], [5500, 550017]]",
         "failure_message": "Your keys are incorrect",
         "hidden": false,
         "locked": false,
         "points": 0.5
        }
       ],
       "scored": true,
       "setup": "",
       "teardown": "",
       "type": "doctest"
      }
     ]
    },
    "q1_b": {
     "name": "q1_b",
     "points": 3,
     "suites": [
      {
       "cases": [
        {
         "code": ">>> kidrsa( 348, [18221, 347273]) != None\nTrue",
         "failure_message": "Make sure you are using a return statement in your function, not just printing the output",
         "hidden": false,
         "locked": false,
         "points": 0
        },
        {
         "code": ">>> kidrsa( 348, [18221, 347273])\n89994",
         "failure_message": "Sample case not working",
         "hidden": false,
         "locked": false,
         "points": 0.5
        },
        {
         "code": ">>> kidrsa( 89994, [9377, 347273])\n348",
         "failure_message": "Sample case not working",
         "hidden": false,
         "locked": false,
         "points": 0.5
        },
        {
         "code": ">>> kidrsa( 500000, [18221, 347273])\nFalse",
         "failure_message": "Sample case not working",
         "hidden": false,
         "locked": false,
         "points": 0.5
        },
        {
         "code": ">>> kidrsa( 61, [18221, 347273])\nFalse",
         "failure_message": "Sample case not working",
         "hidden": false,
         "locked": false,
         "points": 0.5
        }
       ],
       "scored": true,
       "setup": "",
       "teardown": "",
       "type": "doctest"
      }
     ]
    },
    "q1_c": {
     "name": "q1_c",
     "points": 3,
     "suites": [
      {
       "cases": [
        {
         "code": ">>> crack_kidrsa( [18221, 347273] ) != None\nTrue",
         "failure_message": "Make sure you are using a return statement in your function, not just printing the output",
         "hidden": false,
         "locked": false,
         "points": 0
        },
        {
         "code": ">>> crack_kidrsa( [18221, 347273] )\n[9377, 347273]",
         "failure_message": "Sample case not working",
         "hidden": false,
         "locked": false,
         "points": 0.25
        },
        {
         "code": ">>> crack_kidrsa( [4, 12] )\nFalse",
         "failure_message": "Sample case not working",
         "hidden": false,
         "locked": false,
         "points": 0.25
        }
       ],
       "scored": true,
       "setup": "",
       "teardown": "",
       "type": "doctest"
      }
     ]
    },
    "q2_b": {
     "name": "q2_b",
     "points": 3,
     "suites": [
      {
       "cases": [
        {
         "code": ">>> rsa( 5, [3,33] ) != None\nTrue",
         "failure_message": "Make sure you are using a return statement in your function, not just printing the output",
         "hidden": false,
         "locked": false,
         "points": 0
        },
        {
         "code": ">>> rsa( 5, [3,33] )\n26",
         "failure_message": "Are you cleaning your message?",
         "hidden": false,
         "locked": false,
         "points": 0.5
        },
        {
         "code": ">>> rsa( 234712, (65537, 6935347))\n2678654",
         "failure_message": "Is your deciphered text lowercase?",
         "hidden": false,
         "locked": false,
         "points": 0.5
        },
        {
         "code": ">>> rsa( 2678654, (5655233, 6935347))\n234712",
         "failure_message": "Is your ciphertext uppercase?",
         "hidden": false,
         "locked": false,
         "points": 0.5
        },
        {
         "code": ">>> rsa( 26786543243423, (5655233, 6935347))\nFalse",
         "failure_message": "Is your ciphertext blocked?",
         "hidden": false,
         "locked": false,
         "points": 0.5
        }
       ],
       "scored": true,
       "setup": "",
       "teardown": "",
       "type": "doctest"
      }
     ]
    },
    "q2a": {
     "name": "q2a",
     "points": 2,
     "suites": [
      {
       "cases": [
        {
         "code": ">>> rsa_keygen(3, 11, 3) != None\nTrue",
         "failure_message": "Make sure you are using a return statement in your function, not just printing the output",
         "hidden": false,
         "locked": false,
         "points": 0
        },
        {
         "code": ">>> rsa_keygen(1787, 3881)\n[[65537, 6935347], [5655233, 6935347]]",
         "failure_message": "Sample case not working",
         "hidden": false,
         "locked": false,
         "points": 0.5
        },
        {
         "code": ">>> rsa_keygen(1787, 3881, e=36)\nFalse",
         "failure_message": "Sample case not working",
         "hidden": false,
         "locked": false,
         "points": 0.5
        }
       ],
       "scored": true,
       "setup": "",
       "teardown": "",
       "type": "doctest"
      }
     ]
    }
   }
  }
 },
 "nbformat": 4,
 "nbformat_minor": 5
}
