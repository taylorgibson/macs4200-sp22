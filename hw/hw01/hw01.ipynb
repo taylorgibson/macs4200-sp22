{
 "cells": [
  {
   "cell_type": "code",
   "execution_count": null,
   "id": "4a3e853e",
   "metadata": {
    "deletable": false,
    "editable": false
   },
   "outputs": [],
   "source": [
    "# Initialize Otter\n",
    "import otter\n",
    "grader = otter.Notebook(\"hw01.ipynb\")"
   ]
  },
  {
   "cell_type": "markdown",
   "id": "16853c9d",
   "metadata": {},
   "source": [
    "# Homework 01: Monoalphabetic Ciphers and Cryptanalysis\n",
    "\n",
    "At this point, we know enough about monoalphabetic substitution ciphers and how to analyze them to complete a homework to showcase you also know enough Python to program them. If you've been keeping up with the activities for each lesson, this homework should not take you long at all to complete!"
   ]
  },
  {
   "cell_type": "markdown",
   "id": "7a6c79d2",
   "metadata": {},
   "source": [
    "## Part 1: Programming With Loops, Functions, and Conditional Branches"
   ]
  },
  {
   "cell_type": "markdown",
   "id": "592292ae",
   "metadata": {},
   "source": [
    "### Question 1.1: Triangular Numbers\n",
    "\n",
    "A *triangular number*, $T_n$ is a number obtained by adding all positive integers less than or equal to $n$. For example:\n",
    "  * $T_1 = 1$ \n",
    "  * $T_2 = 3 = 1 + 2$\n",
    "  * $T_3 = 6 = 1 + 2 + 3$\n",
    "  * $T_4 = 10 = 1 + 2 + 3 + 4$\n",
    "\n",
    "are all triangular numbers.\n",
    "\n",
    "In the code cell below write a function named `triangular_number` that generates triangular numbers and **returns** them as integers. The function only needs to work for non-negative integer inputs (0 or above).\n",
    "\n",
    "**Hint:** A loop should make short work of this!"
   ]
  },
  {
   "cell_type": "code",
   "execution_count": null,
   "id": "83d49767",
   "metadata": {
    "tags": []
   },
   "outputs": [],
   "source": [
    "def triangular_number(n):\n",
    "    # YOUR CODE GOES BELOW THIS LINE\n",
    "    "
   ]
  },
  {
   "cell_type": "code",
   "execution_count": null,
   "id": "00e59e3e",
   "metadata": {
    "deletable": false,
    "editable": false
   },
   "outputs": [],
   "source": [
    "grader.check(\"q1_1\")"
   ]
  },
  {
   "cell_type": "markdown",
   "id": "a0319192",
   "metadata": {},
   "source": [
    "### Question 1.2: Conditional Branches\n",
    "\n",
    "In the code cell below, write a function named `integer_compare()` that compares two integer values and returns a string depending on their relative size.\n",
    "\n",
    "The string the function should **return** should be:\n",
    "  * `'x is larger than y'` if $x \\gt y$\n",
    "  * `'y is larger than x'` if $x \\lt y$ \n",
    "  * `'x and y are equal'` if $x = y$"
   ]
  },
  {
   "cell_type": "code",
   "execution_count": null,
   "id": "94da4169",
   "metadata": {
    "tags": []
   },
   "outputs": [],
   "source": [
    "def integer_compare(x, y):\n",
    "    # YOUR CODE GOES BELOW THIS LINE\n",
    "    "
   ]
  },
  {
   "cell_type": "code",
   "execution_count": null,
   "id": "66bcdb6e",
   "metadata": {},
   "outputs": [],
   "source": [
    "# try out your code here\n",
    "print( integer_compare(3, 7) )"
   ]
  },
  {
   "cell_type": "code",
   "execution_count": null,
   "id": "9e7f3ccc",
   "metadata": {
    "deletable": false,
    "editable": false
   },
   "outputs": [],
   "source": [
    "grader.check(\"q1_2\")"
   ]
  },
  {
   "cell_type": "markdown",
   "id": "4b4c1d18",
   "metadata": {},
   "source": [
    "## Part Two: Function Checkpoint"
   ]
  },
  {
   "cell_type": "markdown",
   "id": "6bd71c6b",
   "metadata": {},
   "source": [
    "You've been asked to write several functions throughout the course so far. Please use that work to quickly provide code for the following functions."
   ]
  },
  {
   "cell_type": "markdown",
   "id": "44647eb9",
   "metadata": {},
   "source": [
    "### Question 2.1: `text_clean`\n",
    "\n",
    "Text clean is the function we use to prepare text for enciphering / deciphering. As a reminder, this function takes in a string `text`, makes all of the characters uppercase,  then only returns those characters that are also in the `LETTERS` string. By default, `LETTERS` only contains the 26 uppercase English letters but this value could be overridden by providing an argument to the `LETTERS` parameter."
   ]
  },
  {
   "cell_type": "code",
   "execution_count": null,
   "id": "cbd36d40",
   "metadata": {
    "tags": []
   },
   "outputs": [],
   "source": [
    "def text_clean( text, LETTERS = 'ABCDEFGHIJKLMNOPQRSTUVWXYZ'):\n",
    "    \"\"\"\n",
    "    Arguments:\n",
    "        text (str): a piece of text for cleaning\n",
    "        LETTERS (str, optional): defines the alphabet of allowable characters\n",
    "    Returns:\n",
    "        (str): text with only the characters also found in LETTERS\n",
    "               lower-case letters in text will be made upper-case  \n",
    "    \"\"\"\n",
    "    # YOUR CODE GOES BELOW THIS LINE\n",
    "    "
   ]
  },
  {
   "cell_type": "code",
   "execution_count": null,
   "id": "a7e42771",
   "metadata": {
    "deletable": false,
    "editable": false
   },
   "outputs": [],
   "source": [
    "grader.check(\"q2_1\")"
   ]
  },
  {
   "cell_type": "markdown",
   "id": "6fd73fbc",
   "metadata": {},
   "source": [
    "### Question 2.2: `text_block`\n",
    "\n",
    "This function should take in a string and return the same exact string, only grouped into blocks of `size` characters. By default it should be blocks of 5 characters, but this could be overridden by passing a different integer argument to the parameter `size`.\n",
    "\n",
    "You can assume that any input to this function is already \"clean\" so you don't need to clean `text` against a `LETTERS` string inside this function."
   ]
  },
  {
   "cell_type": "code",
   "execution_count": null,
   "id": "d0e5656b",
   "metadata": {
    "tags": []
   },
   "outputs": [],
   "source": [
    "def text_block( text, size = 5 ):\n",
    "    \"\"\"\n",
    "    Arguments:\n",
    "        text (str): text to block\n",
    "        size (int, optional): # of characters in a block\n",
    "    Returns:\n",
    "        (str): text blocked into groups of specified size\n",
    "    \"\"\"\n",
    "    # YOUR CODE GOES BELOW THIS LINE\n",
    "    "
   ]
  },
  {
   "cell_type": "code",
   "execution_count": null,
   "id": "04c21b2f",
   "metadata": {
    "deletable": false,
    "editable": false
   },
   "outputs": [],
   "source": [
    "grader.check(\"q2_2\")"
   ]
  },
  {
   "cell_type": "markdown",
   "id": "87d08eb8",
   "metadata": {},
   "source": [
    "### Question 2.3: `caesar`\n",
    "\n",
    "The `caesar` function takes in a key and message and returns the enciphered or deciphered version of that message depending on if the parameter `encipher` is set to `True` or `False`. This function should use `text_clean` to clean the message before attempting to encipher or decipher the message.\n",
    "\n",
    "Strings returned that are ciphertext should only contain those characters specified in `LETTERS` and should be blocked into groups of 5 characters.\n",
    "\n",
    "Strings returned that are plaintext should only contain those characters specified in `LETTERS`, but lowercase, and should **not** be blocked into groups."
   ]
  },
  {
   "cell_type": "code",
   "execution_count": null,
   "id": "5bc84fbe",
   "metadata": {
    "tags": []
   },
   "outputs": [],
   "source": [
    "def caesar(key, message, encipher=True, LETTERS='ABCDEFGHIJKLMNOPQRSTUVWXYZ'):\n",
    "    \"\"\"\n",
    "    Arguments:\n",
    "        key (int): an integer used as the key to encipher the message\n",
    "        message (str): the message to encipher\n",
    "        encipher (bool, optional): True --> encipher the message, False -- decipher\n",
    "        LETTERS (str, optional): defines the alphabet of allowable characters\n",
    "    Returns:\n",
    "        (str): encrypted / decrypted version of message\n",
    "    \"\"\"\n",
    "    # YOUR CODE GOES BELOW THIS LINE\n",
    "    "
   ]
  },
  {
   "cell_type": "code",
   "execution_count": null,
   "id": "f3ac74cb",
   "metadata": {
    "deletable": false,
    "editable": false
   },
   "outputs": [],
   "source": [
    "grader.check(\"q2_3\")"
   ]
  },
  {
   "cell_type": "markdown",
   "id": "6f1f540e",
   "metadata": {
    "tags": []
   },
   "source": [
    "### Question 2.4: `affine`\n",
    "\n",
    "The `affine` function takes in a multiplicative key, an additive key, and message and returns the affine enciphered or deciphered version of that message depending on if the parameter `encipher` is set to `True` or `False`. This function should use `text_clean` to clean the message before attempting to encipher or decipher the message. The decipher process will need to compute a multiplicative inverse in the mod of the length of LETTERS. You can use the provided `multiplicative_inverse` function to perform this step.\n",
    "\n",
    "Strings returned that are ciphertext should only contain those characters specified in `LETTERS` and should be blocked into groups of 5 characters.\n",
    "\n",
    "Strings returned that are plaintext should only contain those characters specified in `LETTERS`, but lowercase, and should **not** be blocked into groups."
   ]
  },
  {
   "cell_type": "code",
   "execution_count": null,
   "id": "c35bb46e",
   "metadata": {},
   "outputs": [],
   "source": [
    "def multiplicative_inverse(n, m):\n",
    "    row1 = [m, 1, 0] \n",
    "    row2 = [n, 0, 1] \n",
    "    \n",
    "    while row2[0] != 1: \n",
    "        k = row1[0] // row2[0] \n",
    "\n",
    "        row3 = [ row1[0] - k*row2[0], row1[1] - k*row2[1], row1[2] - k*row2[2] ] \n",
    "\n",
    "        row1 = row2 \n",
    "        row2 = row3 \n",
    "    \n",
    "    inverse = row2[2] % m \n",
    "    \n",
    "    return inverse"
   ]
  },
  {
   "cell_type": "code",
   "execution_count": null,
   "id": "4e0f9dd7",
   "metadata": {
    "tags": []
   },
   "outputs": [],
   "source": [
    "def affine(km, ka, message, encipher=True, LETTERS='ABCDEFGHIJKLMNOPQRSTUVWXYZ'):\n",
    "    \"\"\"\n",
    "    Arguments:\n",
    "        km (int): an integer used as the multiplicative key to encipher the message\n",
    "        ka (int): an integer used as the additive key to encipher the message\n",
    "        message (str): the message to encipher\n",
    "        encipher (bool, optional): True --> encipher the message, False -- decipher\n",
    "        LETTERS (str, optional): defines the alphabet of allowable characters\n",
    "    Returns:\n",
    "        (str): encrypted / decrypted version of message\n",
    "    \"\"\"\n",
    "    # YOUR CODE GOES BELOW THIS LINE\n",
    "    "
   ]
  },
  {
   "cell_type": "code",
   "execution_count": null,
   "id": "ddeebc1d",
   "metadata": {
    "deletable": false,
    "editable": false
   },
   "outputs": [],
   "source": [
    "grader.check(\"q2_4\")"
   ]
  },
  {
   "cell_type": "markdown",
   "id": "10292e5f",
   "metadata": {},
   "source": [
    "### Question 2.5: `chi_squared_score`\n",
    "\n",
    "The `chi_squared_score` function should take in a candidate plaintext, clean it, and then score it using the $\\chi^2$ method. Your function should use the provided letter frequencies in the list `standard_frequencies`, since there is no agreed upon set of frequencies of each letter in the English language."
   ]
  },
  {
   "cell_type": "code",
   "execution_count": null,
   "id": "c1e766ef",
   "metadata": {
    "tags": []
   },
   "outputs": [],
   "source": [
    "def chi_squared_score( candidate, LETTERS = 'ABCDEFGHIJKLMNOPQRSTUVWXYZ' ):\n",
    "    candidate = text_clean( candidate, LETTERS )\n",
    "    standard_frequencies = [0.08167, 0.01492, 0.02782, 0.04253, 0.12702, 0.02228, 0.02015, 0.06094, 0.06966, 0.00153, 0.00772, 0.04025, 0.02406, 0.06749, 0.07507, 0.01929, 0.00095, 0.05987, 0.06327, 0.09056, 0.02758, 0.00978, 0.02360, 0.00150, 0.01974, 0.00074]\n",
    "    # YOUR CODE GOES BELOW THIS LINE\n",
    "    "
   ]
  },
  {
   "cell_type": "code",
   "execution_count": null,
   "id": "446b5ce4",
   "metadata": {
    "deletable": false,
    "editable": false
   },
   "outputs": [],
   "source": [
    "grader.check(\"q2_5\")"
   ]
  },
  {
   "cell_type": "markdown",
   "id": "3d0d11fa",
   "metadata": {},
   "source": [
    "## Part 3: Cryptanalysis\n",
    "\n",
    "You'll be using the ciphertext contained in `hw01.txt` to complete the following questions. Run the cell below to load it as the string `ciphertext`. The first 100 characters will be printed to verify it's been loaded correctly."
   ]
  },
  {
   "cell_type": "code",
   "execution_count": null,
   "id": "7d872482",
   "metadata": {},
   "outputs": [],
   "source": [
    "with open('hw01.txt') as f: \n",
    "    ciphertext = f.read() \n",
    "\n",
    "print(ciphertext[0:100], '...')"
   ]
  },
  {
   "cell_type": "markdown",
   "id": "0c5ba4a3",
   "metadata": {},
   "source": [
    "### Question 3.1\n",
    "\n",
    "In the cell below, create a list of frequencies for each character in `LETTERS`. Then, use that list to create a bar chart that displays the frequency of the 26 English letters in the current `ciphertext` message. Each frequency should be between 0 and 1 (a proportion, not a percentage) and the bar chart should have labels for both the x-axis and y-axis, as well as a title for the entire chart.\n",
    "\n",
    "This question will be graded manually, but there are a few grader checks provided to help you check for some common mistakes."
   ]
  },
  {
   "cell_type": "code",
   "execution_count": null,
   "id": "64399daf",
   "metadata": {
    "tags": []
   },
   "outputs": [],
   "source": [
    "import matplotlib.pyplot as plt\n",
    "LETTERS = 'ABCDEFGHIJKLMNOPQRSTUVWXYZ'\n",
    "frequencies = []\n",
    "ciphertext_length = ...\n",
    "# YOUR CODE GOES BELOW THIS LINE\n",
    "\n",
    "    \n",
    "# Everything above this comment should be about computing the frequencies    \n",
    "# Everything below this comment should be about creating the bar chart\n",
    "\n",
    "...\n",
    "...\n",
    "...\n",
    "...\n",
    "\n",
    "..."
   ]
  },
  {
   "cell_type": "code",
   "execution_count": null,
   "id": "6f45c34c",
   "metadata": {
    "deletable": false,
    "editable": false
   },
   "outputs": [],
   "source": [
    "grader.check(\"q3_1\")"
   ]
  },
  {
   "cell_type": "markdown",
   "id": "1dd82a5d",
   "metadata": {},
   "source": [
    "### Question 3.2\n",
    "\n",
    "Use the `chi_squared_score` function and the provided loops to score all 312 possible candidates for the correct plaintext. Store each of the 312 individual results to a variable named `one_result` in the format:\n",
    "\n",
    "`[<multiplicative-key>, <additive-key>, <chi-squared score>]` \n",
    "\n",
    "which should then appended to the list named `results` which will eventually hold all 312 result lists.\n",
    "\n",
    "The last 4 lines of code will sort `results` by the chi-squared score as long as `results` is constructed correctly, and then extract the most likely km and ka values from the top single result."
   ]
  },
  {
   "cell_type": "code",
   "execution_count": null,
   "id": "e3d8a8f2",
   "metadata": {
    "tags": []
   },
   "outputs": [],
   "source": [
    "results = []\n",
    "\n",
    "for km in [1, 3, 5, 7, 9, 11, 15, 17, 19, 21, 23, 25]:\n",
    "    for ka in range(26):\n",
    "        candidate_text = ...\n",
    "        one_result = ...\n",
    "        ...\n",
    "        \n",
    "# DON'T CHANGE THE CODE BELOW THIS COMMENT\n",
    "# THE CODE BELOW WILL SORT YOUR RESULTS FOR YOU\n",
    "from operator import itemgetter\n",
    "results = sorted(results, key=itemgetter(2))\n",
    "\n",
    "likely_km = results[0][0]\n",
    "likely_ka = results[0][1]"
   ]
  },
  {
   "cell_type": "code",
   "execution_count": null,
   "id": "079de161",
   "metadata": {
    "tags": []
   },
   "outputs": [],
   "source": [
    "print( \"Likely multiplicative key:\", likely_km)\n",
    "print( \"Likely additive key:\", likely_ka )"
   ]
  },
  {
   "cell_type": "code",
   "execution_count": null,
   "id": "c6a4030d",
   "metadata": {
    "deletable": false,
    "editable": false
   },
   "outputs": [],
   "source": [
    "grader.check(\"q3_2\")"
   ]
  },
  {
   "cell_type": "markdown",
   "id": "180ce896",
   "metadata": {
    "deletable": false,
    "editable": false
   },
   "source": [
    "## Submission\n",
    "\n",
    "Make sure you have run all cells in your notebook in order before running the cell below, so that all images/graphs appear in the output. The cell below will generate a zip file for you to submit. **Please save before exporting!**"
   ]
  },
  {
   "cell_type": "code",
   "execution_count": null,
   "id": "09109b13",
   "metadata": {
    "deletable": false,
    "editable": false
   },
   "outputs": [],
   "source": [
    "# Save your notebook first, then run this cell to export your submission.\n",
    "grader.export(pdf=False)"
   ]
  },
  {
   "cell_type": "markdown",
   "id": "241d1441",
   "metadata": {},
   "source": [
    " "
   ]
  }
 ],
 "metadata": {
  "kernelspec": {
   "display_name": "Python 3 (ipykernel)",
   "language": "python",
   "name": "python3"
  },
  "language_info": {
   "codemirror_mode": {
    "name": "ipython",
    "version": 3
   },
   "file_extension": ".py",
   "mimetype": "text/x-python",
   "name": "python",
   "nbconvert_exporter": "python",
   "pygments_lexer": "ipython3",
   "version": "3.9.6"
  },
  "otter": {
   "tests": {
    "q1_1": {
     "name": "q1_1",
     "points": 1,
     "suites": [
      {
       "cases": [
        {
         "code": ">>> triangular_number(0)\n0",
         "hidden": false,
         "locked": false
        },
        {
         "code": ">>> triangular_number(1)\n1",
         "hidden": false,
         "locked": false
        },
        {
         "code": ">>> triangular_number(3)\n6",
         "hidden": false,
         "locked": false
        },
        {
         "code": ">>> triangular_number(10)\n55",
         "hidden": false,
         "locked": false
        }
       ],
       "scored": true,
       "setup": "",
       "teardown": "",
       "type": "doctest"
      }
     ]
    },
    "q1_2": {
     "name": "q1_2",
     "points": 1,
     "suites": [
      {
       "cases": [
        {
         "code": ">>> integer_compare(3, 7)\n'y is larger than x'",
         "hidden": false,
         "locked": false
        },
        {
         "code": ">>> integer_compare(5, 1)\n'x is larger than y'",
         "hidden": false,
         "locked": false
        },
        {
         "code": ">>> integer_compare(4, 4)\n'x and y are equal'",
         "hidden": false,
         "locked": false
        }
       ],
       "scored": true,
       "setup": "",
       "teardown": "",
       "type": "doctest"
      }
     ]
    },
    "q2_1": {
     "name": "q2_1",
     "points": 1,
     "suites": [
      {
       "cases": [
        {
         "code": ">>> text_clean('heLlO')\n'HELLO'",
         "failure_message": "Make sure your output is uppercase letters only.",
         "hidden": false,
         "locked": false
        },
        {
         "code": ">>> text_clean('this is a m3ssage!?')\n'THISISAMSSAGE'",
         "failure_message": "non letter characters (digits and punctuation) should be removed",
         "hidden": false,
         "locked": false
        },
        {
         "code": ">>> text_clean('hello', LETTERS='ABCDEFGH')\n'HE'",
         "failure_message": "Only letters specified in the LETTERS string should remain in the output",
         "hidden": false,
         "locked": false
        }
       ],
       "scored": true,
       "setup": "",
       "teardown": "",
       "type": "doctest"
      }
     ]
    },
    "q2_2": {
     "name": "q2_2",
     "points": 1,
     "suites": [
      {
       "cases": [
        {
         "code": ">>> text_block('TESTMESSAGE')\n'TESTM ESSAG E'",
         "failure_message": "Check to make sure that you meet the basic specifications of this function",
         "hidden": false,
         "locked": false
        },
        {
         "code": ">>> text_block('0123456789') != '01234 56789 '\nTrue",
         "failure_message": "If there are a (multiple of size) characters, the message should not end in a space.",
         "hidden": false,
         "locked": false
        },
        {
         "code": ">>> text_block('012345', size=4)\n'0123 45'",
         "failure_message": "Make sure you are using the size parameter to produce your blocks",
         "hidden": false,
         "locked": false
        },
        {
         "code": ">>> text_block('01234567', size=4) != '0123 4567'\nFalse",
         "failure_message": "If there are a (multiple of size) characters, the message should not end in a space.",
         "hidden": false,
         "locked": false
        }
       ],
       "scored": true,
       "setup": "",
       "teardown": "",
       "type": "doctest"
      }
     ]
    },
    "q2_3": {
     "name": "q2_3",
     "points": 1,
     "suites": [
      {
       "cases": [
        {
         "code": ">>> caesar(3, 'hello!') == caesar(3, 'HELLO')\nTrue",
         "failure_message": "Make sure you clean the text before encryption / decryption",
         "hidden": false,
         "locked": false
        },
        {
         "code": ">>> len(caesar(5, 'hello!', LETTERS='ABCDEFGH'))\n2",
         "failure_message": "Make sure you are using the LETTERS argument when cleaning text",
         "hidden": false,
         "locked": false
        },
        {
         "code": ">>> len(caesar(17, 'test message'))\n13",
         "failure_message": "Make sure you are blocking the text when encrypting",
         "hidden": false,
         "locked": false
        },
        {
         "code": ">>> caesar(14, 'test message')\n'HSGHA SGGOU S'",
         "failure_message": "Not encrypting correctly with default settings",
         "hidden": false,
         "locked": false
        },
        {
         "code": ">>> caesar(14, 'HSGHA SGGOU S', encipher=False)\n'testmessage'",
         "failure_message": "Not decrypting correctly with default settings",
         "hidden": false,
         "locked": false
        },
        {
         "code": ">>> caesar(5, 'bag', LETTERS='ABCDEFGH')\n'GFD'",
         "failure_message": "Not encrypting correctly with non-default LETTERS",
         "hidden": false,
         "locked": false
        },
        {
         "code": ">>> caesar(5, 'GFD', encipher=False, LETTERS='ABCDEFGH')\n'bag'",
         "failure_message": "Not decrypting correctly with non-default LETTERS",
         "hidden": false,
         "locked": false
        }
       ],
       "scored": true,
       "setup": "",
       "teardown": "",
       "type": "doctest"
      }
     ]
    },
    "q2_4": {
     "name": "q2_4",
     "points": 1,
     "suites": [
      {
       "cases": [
        {
         "code": ">>> affine(3, 10, 'hello!') == affine(3, 10, 'HELLO')\nTrue",
         "failure_message": "Make sure you clean the text before encryption / decryption",
         "hidden": false,
         "locked": false
        },
        {
         "code": ">>> len(affine(3, 10, 'hello!', LETTERS='ABCDEFGH'))\n2",
         "failure_message": "Make sure you are using the LETTERS argument when cleaning text",
         "hidden": false,
         "locked": false
        },
        {
         "code": ">>> len(affine(3, 10, 'test message'))\n13",
         "failure_message": "Make sure you are blocking the text when encrypting",
         "hidden": false,
         "locked": false
        },
        {
         "code": ">>> affine(7, 2, 'test message')\n'FEYFI EYYCS E'",
         "failure_message": "Not encrypting correctly with default settings",
         "hidden": false,
         "locked": false
        },
        {
         "code": ">>> affine(7, 2, 'FEYFI EYYCS E', encipher=False)\n'testmessage'",
         "failure_message": "Not decrypting correctly with default settings",
         "hidden": false,
         "locked": false
        },
        {
         "code": ">>> affine(19, 3, 'bag', LETTERS='ABCDEFGH')\n'GDF'",
         "failure_message": "Not encrypting correctly with non-default LETTERS",
         "hidden": false,
         "locked": false
        },
        {
         "code": ">>> affine(19, 3, 'GDF', encipher=False, LETTERS='ABCDEFGH')\n'bag'",
         "failure_message": "Not decrypting correctly with non-default LETTERS",
         "hidden": false,
         "locked": false
        }
       ],
       "scored": true,
       "setup": "",
       "teardown": "",
       "type": "doctest"
      }
     ]
    },
    "q2_5": {
     "name": "q2_5",
     "points": 1,
     "suites": [
      {
       "cases": [
        {
         "code": ">>> chi_squared_score('hello!') == chi_squared_score('HELLO')\nTrue",
         "failure_message": "Make sure you clean each candidate, just to be safe",
         "hidden": false,
         "locked": false
        },
        {
         "code": ">>> round( chi_squared_score('HELLO'), 5)\n22.39638",
         "failure_message": "You are not computing the correct score for a small message",
         "hidden": false,
         "locked": false
        },
        {
         "code": ">>> round( chi_squared_score('JDFKJHGKJHSDGKJFHGKEHWBHJBFKJHDSFBDKJHFGKUYEGWYHGKALKJHIUYERIOUWEBVNMCBXMQEORIUE'), 5 )\n703.7612",
         "failure_message": "You are not computing the correct score for a long message",
         "hidden": false,
         "locked": false
        }
       ],
       "scored": true,
       "setup": "",
       "teardown": "",
       "type": "doctest"
      }
     ]
    },
    "q3_1": {
     "name": "q3_1",
     "points": 0,
     "suites": [
      {
       "cases": [
        {
         "code": ">>> ciphertext_length\n530",
         "failure_message": "When computing the length of the message, make sure you are removing the spaces before you count.",
         "hidden": false,
         "locked": false
        },
        {
         "code": ">>> round( sum(frequencies), 5)\n1.0",
         "failure_message": "The frequencies list should sum to 1.0. If it doesn't, are you over or under counting?",
         "hidden": false,
         "locked": false
        },
        {
         "code": ">>> round( frequencies[0], 5)\n0.06604",
         "failure_message": "The ciphertext should have 0.06604 (6.604%) of the message as the character A",
         "hidden": false,
         "locked": false
        }
       ],
       "scored": true,
       "setup": "",
       "teardown": "",
       "type": "doctest"
      }
     ]
    },
    "q3_2": {
     "name": "q3_2",
     "points": 1,
     "suites": [
      {
       "cases": [
        {
         "code": ">>> round(results[0][2], 5)\n41.85382",
         "failure_message": "You are not computing the correct lowest score for this message.",
         "hidden": false,
         "locked": false
        },
        {
         "code": ">>> likely_km\n17",
         "failure_message": "You are not computing the correct multiplicative key",
         "hidden": false,
         "locked": false
        },
        {
         "code": ">>> likely_ka\n6",
         "failure_message": "You are not computing the correct additive key",
         "hidden": false,
         "locked": false
        }
       ],
       "scored": true,
       "setup": "",
       "teardown": "",
       "type": "doctest"
      }
     ]
    }
   }
  }
 },
 "nbformat": 4,
 "nbformat_minor": 5
}
