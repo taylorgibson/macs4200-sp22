{
 "cells": [
  {
   "cell_type": "code",
   "execution_count": null,
   "id": "bff23425",
   "metadata": {
    "deletable": false,
    "editable": false
   },
   "outputs": [],
   "source": [
    "# Initialize Otter\n",
    "import otter\n",
    "grader = otter.Notebook(\"activity-12-decrypt-the-classics.ipynb\")"
   ]
  },
  {
   "cell_type": "markdown",
   "id": "9b25646f",
   "metadata": {},
   "source": [
    "# Activity 12: Decrypt the Classics"
   ]
  },
  {
   "cell_type": "markdown",
   "id": "9eb7b801",
   "metadata": {},
   "source": [
    "In **Activity 11: Encrypt the Classics**, you generated a ciphertext that was created from a text file of a classic novel from Project Gutenberg (https://www.gutenberg.org). In this lesson you will be decrypting a message from a classmate without prior knowledge of the key. To do so, you'll implement a brute force attack combined with $\\chi^2$ scoring to automatically choose the most likely candidate plaintext."
   ]
  },
  {
   "cell_type": "markdown",
   "id": "a3f5b6ed",
   "metadata": {},
   "source": [
    "## Step 1: Sharing Ciphertext"
   ]
  },
  {
   "cell_type": "markdown",
   "id": "f9cb30d5",
   "metadata": {},
   "source": [
    "### Question 1.1\n",
    "\n",
    "Revisit the notebook you created for Activity 11 in which you created the ciphertext used to create the bar chart. Add a cell to the end of the notebook to save this ciphertext to a textfile (see Lab 02 for a reminder on how to do this!). Your ciphertext should only contain the 26 uppercase English letters. No spaces, no punctuation or other symbols. \n",
    "\n",
    "Name this file as `activity-12-<first name initial><last name initial>.txt`. For example, Julius Caesar would name his file `activity-12-jc.txt`. Download this file to your local computer."
   ]
  },
  {
   "cell_type": "markdown",
   "id": "852b9c18",
   "metadata": {},
   "source": [
    "### Question 1.2\n",
    "\n",
    "Reply to the Activity 12 thread on EdSTEM with a post in which you include this file so your classmates can analyze it later on in this activity."
   ]
  },
  {
   "cell_type": "markdown",
   "id": "f37f97c7",
   "metadata": {},
   "source": [
    "### Question 1.3\n",
    "\n",
    "Download another student's ciphertext to your local computer from EdSTEM, and then upload it to `activities` subfolder contained in the course folder. That's the same location as the file you're working in right now."
   ]
  },
  {
   "cell_type": "markdown",
   "id": "f0dbd8ab",
   "metadata": {},
   "source": [
    "### Question 1.4\n",
    "\n",
    "Load the ciphertext from your classmate into this notebook (see Activity 11 or Lab 02 for a refresher) as a string stored to the variable named `book`.\n",
    "\n",
    "#### WARNING\n",
    "\n",
    "The variable `book` will contain a VERY long string. So long, in fact, that Datahub will struggle if you try to print out the whole thing at one time. When testing your code throughout this activity, you should never attempt to print the entire string at a time, but rather print a small slice of that string (100 or even a 1000 characters is no issue)."
   ]
  },
  {
   "cell_type": "code",
   "execution_count": null,
   "id": "55be6e3c",
   "metadata": {
    "tags": []
   },
   "outputs": [],
   "source": [
    "...\n",
    "    book = ...\n",
    "\n",
    "print(book[0:1000])"
   ]
  },
  {
   "cell_type": "code",
   "execution_count": null,
   "id": "095b55f3",
   "metadata": {
    "deletable": false,
    "editable": false
   },
   "outputs": [],
   "source": [
    "grader.check(\"q1_4\")"
   ]
  },
  {
   "cell_type": "markdown",
   "id": "e3c3997e",
   "metadata": {},
   "source": [
    "## Step 2: Write a Scoring Function\n",
    "\n",
    "In order to help determine the correct keys, you'll need a function to help score the candidate plaintexts. Recall the method for $\\chi^2$ scoring:\n",
    "\n",
    "$$ \\chi^2 = \\sum_{i=A}^Z \\frac{\\left( A_i-E_i \\right)^2}{E_i} $$\n",
    "\n",
    "where $A_i$ is the actual count of the character in the message, and $E_i$ is the expected count of the character in the message. You do this calculation once for each character in the message, and then sum each of the calculations to determine the total score, $\\chi^2$.\n",
    "\n",
    "Let's work through a few of the calculations on their own, and then ultimately put them together in a function to perform the scoring all at once."
   ]
  },
  {
   "cell_type": "markdown",
   "id": "333501c1",
   "metadata": {},
   "source": [
    "### Question 2.1: Counting the Characters\n",
    "\n",
    "Write a `for` loop below that iterates over `LETTERS` one character at a time, and for each character counts the number of occurrences of that character in the string named `book`. Each time you count a character, append the value to a list named `count`."
   ]
  },
  {
   "cell_type": "code",
   "execution_count": null,
   "id": "b6f6d968",
   "metadata": {
    "tags": []
   },
   "outputs": [],
   "source": [
    "LETTERS = 'ABCDEFGHIJKLMNOPQRSTUVWXYZ'\n",
    "count = []\n",
    "\n",
    "for char in LETTERS:\n",
    "    ..."
   ]
  },
  {
   "cell_type": "code",
   "execution_count": null,
   "id": "8f19f5f1",
   "metadata": {
    "deletable": false,
    "editable": false
   },
   "outputs": [],
   "source": [
    "grader.check(\"q2_1\")"
   ]
  },
  {
   "cell_type": "markdown",
   "id": "5d589375",
   "metadata": {},
   "source": [
    "## Question 2.2: Computing the Expected Characters\n",
    "\n",
    "Write another `for` loop below that computes the **expected** number of occurrences of each character from the standard English alphabet that would be contained the string named `book` if were correctly deciphered. Remember, this calculation is based on the distribution of English letters (provided for you from A-Z in the list named `standard_frequencies`) and the length of `book`. Each time you compute the expected number of characters, append the value to the list named `expected`."
   ]
  },
  {
   "cell_type": "code",
   "execution_count": null,
   "id": "246144f4",
   "metadata": {
    "tags": []
   },
   "outputs": [],
   "source": [
    "LETTERS = 'ABCDEFGHIJKLMNOPQRSTUVWXYZ'\n",
    "standard_frequencies = [0.08167, 0.01492, 0.02782, 0.04253, 0.12702, 0.02228, 0.02015, 0.06094, 0.06966, 0.00153, 0.00772, 0.04025, 0.02406, 0.06749, 0.07507, 0.01929, 0.00095, 0.05987, 0.06327, 0.09056, 0.02758, 0.00978, 0.02360, 0.00150, 0.01974, 0.00074]\n",
    "length_of_book = ...\n",
    "expected  = []\n",
    "\n",
    "for i in standard_frequencies:\n",
    "    ...\n",
    "    \n",
    "print(expected)"
   ]
  },
  {
   "cell_type": "code",
   "execution_count": null,
   "id": "b75a2e38",
   "metadata": {
    "deletable": false,
    "editable": false
   },
   "outputs": [],
   "source": [
    "grader.check(\"q2_2\")"
   ]
  },
  {
   "cell_type": "markdown",
   "id": "b2a74855",
   "metadata": {},
   "source": [
    "### Question 2.3: Scoring the Ciphertext\n",
    "\n",
    "We know that the ciphertext you took from a classmate is NOT plaintext, so we'd expect it to have a poor (large) $\\chi^2$ score. Let's confirm that by computing the score in the cell below. Remember, you have the values for $A$ (actual count of the candidate plaintext, or in this case ciphertext) contained in the list `count` and $E$ the expected count of characters for a message of this length contained in the list `expected`. You should pull out corresponding values from these lists to make your calculation for each of the 26 characters."
   ]
  },
  {
   "cell_type": "code",
   "execution_count": null,
   "id": "58f578b2",
   "metadata": {
    "tags": []
   },
   "outputs": [],
   "source": [
    "sub_scores = []\n",
    "\n",
    "...\n",
    "    ...\n",
    "\n",
    "print(sub_scores)"
   ]
  },
  {
   "cell_type": "code",
   "execution_count": null,
   "id": "a9212672",
   "metadata": {
    "deletable": false,
    "editable": false
   },
   "outputs": [],
   "source": [
    "grader.check(\"q2_3\")"
   ]
  },
  {
   "cell_type": "markdown",
   "id": "2ed2fe27",
   "metadata": {},
   "source": [
    "### Question 2.4\n",
    "\n",
    "Now that you've got all the `sub_scores` in a list, write a quick line of code that will sum them up to finish computing the $\\chi^2$ score."
   ]
  },
  {
   "cell_type": "code",
   "execution_count": null,
   "id": "7e9e4263",
   "metadata": {
    "tags": []
   },
   "outputs": [],
   "source": [
    "score = ...\n",
    "print(score)"
   ]
  },
  {
   "cell_type": "code",
   "execution_count": null,
   "id": "96e1ba97",
   "metadata": {
    "deletable": false,
    "editable": false
   },
   "outputs": [],
   "source": [
    "grader.check(\"q2_4\")"
   ]
  },
  {
   "cell_type": "markdown",
   "id": "4cf1a1c7",
   "metadata": {},
   "source": [
    "## Step 3: Putting it all Together\n",
    "\n",
    "Now that you've done all the individual steps of the process, let's put it all together to determine the keys used to create the message."
   ]
  },
  {
   "cell_type": "markdown",
   "id": "ffc09088",
   "metadata": {},
   "source": [
    "### Question 3.1 Functionize It\n",
    "\n",
    "Write a function `chi_squared_score` that takes in a candidate plaintext (`str`) and returns the chi-squared score (`float`) of that string. The start of that function is in the cell below. Make sure that you are now referring to the parameter of the function, `candidate` instead of the string `book` that you were working in in parts 1 and 2. We can pass the function `book` if we want to, but it should also correctly score other strings that get passed in as well."
   ]
  },
  {
   "cell_type": "code",
   "execution_count": null,
   "id": "030fcd0c",
   "metadata": {
    "tags": []
   },
   "outputs": [],
   "source": [
    "def chi_squared_score( candidate ):\n",
    "    LETTERS = 'ABCDEFGHIJKLMNOPQRSTUVWXYZ'\n",
    "    standard_frequencies = [0.08167, 0.01492, 0.02782, 0.04253, 0.12702, 0.02228, 0.02015, 0.06094, 0.06966, 0.00153, 0.00772, 0.04025, 0.02406, 0.06749, 0.07507, 0.01929, 0.00095, 0.05987, 0.06327, 0.09056, 0.02758, 0.00978, 0.02360, 0.00150, 0.01974, 0.00074]\n",
    "    \n",
    "    count = ...\n",
    "    expected  = ...\n",
    "    sub_scores = ...\n",
    "    \n",
    "    length_of_candidate = ...\n",
    "    \n",
    "    ...\n",
    "        ...\n",
    "        \n",
    "    ...\n",
    "        ...\n",
    "        \n",
    "    ...\n",
    "        ...\n",
    "    \n",
    "    score = ...\n",
    "    \n",
    "    return score"
   ]
  },
  {
   "cell_type": "code",
   "execution_count": null,
   "id": "e90b6fa6",
   "metadata": {
    "deletable": false,
    "editable": false
   },
   "outputs": [],
   "source": [
    "grader.check(\"q3_1\")"
   ]
  },
  {
   "cell_type": "markdown",
   "id": "2f507b62",
   "metadata": {},
   "source": [
    "### Question 3.2: Determine the Keys\n",
    "\n",
    "The code below will implement a brute-force attack on the ciphertext contained in `book`, and use your chi-squared function to score each candidate plaintext. The way it will do this is by using a `for` loop to select each valid multiplicative key `km` and for each of those keys use another `for` loop to select each valid additive key `ka`. After computing the score for each of the 312 candidate plaintexts, the code stores each `km`, `ka`, and $\\chi^2$ score into a list together. Each of these lists is then stored into a different list named `results` that contains all possible 312 lists. It sorts those lists by the $\\chi^2$ score and displays the `km`, `ka` used to generate the lowest score. Assuming everything before this cell worked correctly, you should just be able to run the cell below to generate the results.\n",
    "\n",
    "**Note:** This next cell will likely run for a minute or two, so be patient. Keep in mind that it's deciphering the book you've imported 312 times, and for each of those candidates it's counting every character and then computing the $\\chi^2$ score for the candidate. It's going to take a little while!\n",
    "\n",
    "**Note 2:** While you don't need to fully understand the code below (especially the last line and the parts that make the progress bar run), you should be able to read it and get a feel for what the code is doing."
   ]
  },
  {
   "cell_type": "code",
   "execution_count": null,
   "id": "e8664bab",
   "metadata": {},
   "outputs": [],
   "source": [
    "from operator import itemgetter\n",
    "from activity12toolkit import affine\n",
    "from tqdm import tqdm\n",
    "\n",
    "results = []\n",
    "\n",
    "with tqdm(total=312) as pbar:\n",
    "    for km in [1, 3, 5, 7, 9, 11, 15, 17, 19, 21, 23, 25]:\n",
    "        for ka in range(26):\n",
    "            candidate_text = affine(book, km, ka, encipher=False)\n",
    "            one_result = [km, ka, chi_squared_score( candidate_text )]\n",
    "            results.append( one_result )\n",
    "            pbar.update(1)\n",
    "\n",
    "results = sorted(results, key=itemgetter(2))\n",
    "print('Done!')"
   ]
  },
  {
   "cell_type": "markdown",
   "id": "6b1891f9",
   "metadata": {},
   "source": [
    "Once the cell above finishes running, you can run the cell below to see your results."
   ]
  },
  {
   "cell_type": "code",
   "execution_count": null,
   "id": "8c2e546a",
   "metadata": {},
   "outputs": [],
   "source": [
    "print(f\"The multiplicative key {results[0][0]} and additive key {results[0][1]} yield the lowest chi-squared score of {results[0][2]}\")\n",
    "deciphered_book = affine(book, results[0][0], results[0][1], encipher=False).lower()\n",
    "print(f\"A sample of the best candidate is: {deciphered_book[0:1000]}\")"
   ]
  },
  {
   "cell_type": "markdown",
   "id": "dd9a86e6",
   "metadata": {},
   "source": [
    "### Wrapping Up\n",
    "\n",
    "Assuming everything seems reasonable with your solution, go ahead and post a response to EdSTEM replying to the person from whom you chose your ciphertext. You should include the keys you determined, and if you could figure it out from the sample plaintext above, the title of the book they chose. If you need more text to work from, you can inspect the variable `deciphered_book` which should contain the best guess at the plaintext book. **Warning** It may be very long, so it's best not to print the whole thing out. You could either save it to a file, or just print some of the characters using a slice."
   ]
  },
  {
   "cell_type": "code",
   "execution_count": null,
   "id": "c106b227",
   "metadata": {},
   "outputs": [],
   "source": [
    "print( deciphered_book[0:1000] )"
   ]
  }
 ],
 "metadata": {
  "kernelspec": {
   "display_name": "Python 3 (ipykernel)",
   "language": "python",
   "name": "python3"
  },
  "language_info": {
   "codemirror_mode": {
    "name": "ipython",
    "version": 3
   },
   "file_extension": ".py",
   "mimetype": "text/x-python",
   "name": "python",
   "nbconvert_exporter": "python",
   "pygments_lexer": "ipython3",
   "version": "3.9.6"
  },
  "otter": {
   "tests": {
    "q1_4": {
     "name": "q1_4",
     "points": 1,
     "suites": [
      {
       "cases": [
        {
         "code": ">>> type(book[0:10]) == str\nTrue",
         "failure_message": "You didn't store the encrypted book to a string named book.",
         "hidden": false,
         "locked": false
        }
       ],
       "scored": true,
       "setup": "",
       "teardown": "",
       "type": "doctest"
      }
     ]
    },
    "q2_1": {
     "name": "q2_1",
     "points": 1,
     "suites": [
      {
       "cases": [
        {
         "code": ">>> sum(count) == len(book)\nTrue",
         "failure_message": "The total of the counted characters isn't equal to the total of characters in the string book. Does it contain spaces or punctuation?",
         "hidden": false,
         "locked": false
        }
       ],
       "scored": true,
       "setup": "",
       "teardown": "",
       "type": "doctest"
      }
     ]
    },
    "q2_2": {
     "name": "q2_2",
     "points": 1,
     "suites": [
      {
       "cases": [
        {
         "code": ">>> len(expected) == len(LETTERS)\nTrue",
         "failure_message": "You should have one element in the list `expected` for each character in the string `LETTERS`.",
         "hidden": false,
         "locked": false
        },
        {
         "code": ">>> abs( sum(expected) - length_of_book ) < 100\nTrue",
         "failure_message": "The total number of expected characters should be fairly close to the number of characters in the book, with the only difference due to round-off error in the frequencies.",
         "hidden": false,
         "locked": false
        }
       ],
       "scored": true,
       "setup": "",
       "teardown": "",
       "type": "doctest"
      }
     ]
    },
    "q2_3": {
     "name": "q2_3",
     "points": 1,
     "suites": [
      {
       "cases": [
        {
         "code": ">>> len(sub_scores) == len(LETTERS)\nTrue",
         "failure_message": "You should have one element in the list `sub_scores` for each character in the string `LETTERS`.",
         "hidden": false,
         "locked": false
        }
       ],
       "scored": true,
       "setup": "",
       "teardown": "",
       "type": "doctest"
      }
     ]
    },
    "q2_4": {
     "name": "q2_4",
     "points": 1,
     "suites": [
      {
       "cases": [
        {
         "code": ">>> score == sum(sub_scores)\nTrue",
         "failure_message": "You should have one element in the list `sub_scores` for each character in the string `LETTERS`.",
         "hidden": false,
         "locked": false
        }
       ],
       "scored": true,
       "setup": "",
       "teardown": "",
       "type": "doctest"
      }
     ]
    },
    "q3_1": {
     "name": "q3_1",
     "points": 1,
     "suites": [
      {
       "cases": [
        {
         "code": ">>> chi_squared_score('HELLO')\n22.396378323566896",
         "hidden": false,
         "locked": false
        },
        {
         "code": ">>> chi_squared_score('FOURSCOREANDSEVENYEARSAGO')\n17.040903595773784",
         "hidden": false,
         "locked": false
        },
        {
         "code": ">>> chi_squared_score('DFIUGUIELHLHRYOIUQHIUEHRWEURIHEHKJDNKVJBKJHDFS')\n199.49716528867003",
         "hidden": false,
         "locked": false
        }
       ],
       "scored": true,
       "setup": "",
       "teardown": "",
       "type": "doctest"
      }
     ]
    }
   }
  }
 },
 "nbformat": 4,
 "nbformat_minor": 5
}
