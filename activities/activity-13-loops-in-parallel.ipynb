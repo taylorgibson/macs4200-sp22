{
 "cells": [
  {
   "cell_type": "code",
   "execution_count": null,
   "id": "5623f75d",
   "metadata": {
    "deletable": false,
    "editable": false
   },
   "outputs": [],
   "source": [
    "# Initialize Otter\n",
    "import otter\n",
    "grader = otter.Notebook(\"activity-13-loops-in-parallel.ipynb\")"
   ]
  },
  {
   "cell_type": "markdown",
   "id": "e566cd37",
   "metadata": {},
   "source": [
    "# Activity 13: Looping over Strings in Parallel"
   ]
  },
  {
   "cell_type": "markdown",
   "id": "692c4377",
   "metadata": {},
   "source": [
    "In **Activity 13: The Tabula Recta**, you saw how you could use a collection of characters as a key to work with the Tabula Recta. This is different than the keys you've work with so far, which have been an integer (or integers). As a result, you'll need to determine how to start using strings as keys alongside strings as messages."
   ]
  },
  {
   "cell_type": "markdown",
   "id": "783b94b7",
   "metadata": {},
   "source": [
    "## Step 1: Looping in Parallel\n",
    "\n",
    "Suppose you have two lists of equal length. One contains student names and the other contains their grade on a recent Quick Check quiz."
   ]
  },
  {
   "cell_type": "code",
   "execution_count": null,
   "id": "16f08724",
   "metadata": {},
   "outputs": [],
   "source": [
    "names = ['Alexis', 'Dee', 'Daryl', 'Sebastian', 'Ora']\n",
    "grades = [2, 3, 2, 3, 1]"
   ]
  },
  {
   "cell_type": "markdown",
   "id": "669460d4",
   "metadata": {},
   "source": [
    "Suppose you want to generate a report that prints out a student's name with their grade next to it. If you were trying to avoid a loop, you could do that the **long** way by typing:"
   ]
  },
  {
   "cell_type": "code",
   "execution_count": null,
   "id": "4aec239a",
   "metadata": {},
   "outputs": [],
   "source": [
    "print(names[0], grades[0])\n",
    "print(names[1], grades[1])\n",
    "print(names[2], grades[2])\n",
    "print(names[3], grades[3])\n",
    "print(names[4], grades[4])"
   ]
  },
  {
   "cell_type": "markdown",
   "id": "7e95ba3d",
   "metadata": {},
   "source": [
    "But that seems a bit repetitive! (Also, did you see how if you give the `print` function 2 arguments it will print them side by side, with just a space in between, EVEN if they are different data types? Nice!)"
   ]
  },
  {
   "cell_type": "markdown",
   "id": "87e8dde2",
   "metadata": {},
   "source": [
    "## Question 1.1\n",
    "Write a `for` loop below that results in the same output printed to the screen.\n",
    "\n",
    "**Hint:** Thank about how you can compute how many items are in the lists, and then how to use that value to create a `range` of values that would correspond to the indices. Since the lists are the same length, any index that works for one is guaranteed to work on the other."
   ]
  },
  {
   "cell_type": "markdown",
   "id": "fb94bd6f",
   "metadata": {},
   "source": [
    "<!-- BEGIN QUESTION -->\n",
    "\n"
   ]
  },
  {
   "cell_type": "code",
   "execution_count": null,
   "id": "fb61879a",
   "metadata": {
    "tags": []
   },
   "outputs": [],
   "source": [
    "...\n",
    "    ..."
   ]
  },
  {
   "cell_type": "markdown",
   "id": "0d049a60",
   "metadata": {
    "tags": []
   },
   "source": [
    "<!-- END QUESTION -->\n",
    "\n",
    "<!-- BEGIN QUESTION -->\n",
    "\n",
    "### Question 1.2\n",
    "\n",
    "Strings and lists aren't that different as they each are a collection of smaller objects, but a string is a collection specifically of individual characters. In the last question you looped over two lists of equal length and printed the element found at each index. \n",
    "\n",
    "**Do the same for the two strings of equal length below.** The output should look like:\n",
    "```\n",
    "s b\n",
    "e l\n",
    "c a\n",
    "r i\n",
    "e s\n",
    "t e\n",
    "```\n",
    "\n",
    "Remember, you should be writing a loop that references the strings by name and should work no matter what characters the strings contain. (e.g. don't write code that would only work with the provided strings, it should work without modification no matter their contents)"
   ]
  },
  {
   "cell_type": "code",
   "execution_count": null,
   "id": "d06222fb",
   "metadata": {
    "tags": []
   },
   "outputs": [],
   "source": [
    "q12_keyword = 'secret'\n",
    "q12_message = 'blaise'\n",
    "\n",
    "...\n",
    "    ..."
   ]
  },
  {
   "cell_type": "markdown",
   "id": "f4692f19",
   "metadata": {},
   "source": [
    "<!-- END QUESTION -->\n",
    "\n",
    "#### Using Indices With Strings\n",
    "\n",
    "You likely have already realized that this question is easiest solved by not iterating character by character over each string, but rather index value by index value. By writing a loop that starts:\n",
    "\n",
    "`for i in range(len(message))`\n",
    "\n",
    "You can use `i`, the string index to reference corresponding characters in *any* string, in this case both `keyword` and `message`. If you had started with a loop like:\n",
    "\n",
    "`for char in message:`\n",
    "\n",
    "you would have had an easy way to pull each character out of the `message` string, but no easy way to match it up with the corresponding character in `keyword`. For parallel looping, indices are your friend!"
   ]
  },
  {
   "cell_type": "markdown",
   "id": "3329227b",
   "metadata": {},
   "source": [
    "### Strings of Different Lengths\n",
    "\n",
    "So, what can you do when strings have unequal length? The Tabula Recta method assumes that your keyword is equally long as the message, so each character in the message has a corresponding character in the key to work with. Keys are usually decided upon ahead of time, but the length of messages will vary from message to message. We'll need a way to make sure that any given key is properly used with variable length messages. We saw in the lesson that you could just repeat the key until it's long enough to \"cover\" the message. To do that in Python we have two ways to mimic this step:\n",
    "\n",
    "1. Take your key as a string and repeatedly append copies of itself to the end until it's long enough to match the message.\n",
    "2. Use a mod operator `%` to ensure that the correct index from the key is referenced , even when index values for the message get to be larger than the index values for the key.\n",
    "\n",
    "Let's explore both options so you can see which you prefer.\n"
   ]
  },
  {
   "cell_type": "markdown",
   "id": "8783ea12",
   "metadata": {},
   "source": [
    "### Question 1.3\n",
    "\n",
    "In the cell below, compute the length of both the key and message, and then use that information to compute how many times the keyword would need to be repeated to \"cover\" the message. You should *not* manually count the length of each string, use Python code to do this."
   ]
  },
  {
   "cell_type": "code",
   "execution_count": null,
   "id": "caba805a",
   "metadata": {
    "tags": []
   },
   "outputs": [],
   "source": [
    "q13_key = 'ABCDEFG'\n",
    "q13_message = 'thisisalongermessage'\n",
    "\n",
    "q13_key_length = ...\n",
    "q13_message_length = ...\n",
    "\n",
    "times_to_repeat = ...\n",
    "long_key = q13_key * times_to_repeat\n",
    "\n",
    "print(times_to_repeat)\n",
    "print(long_key)\n",
    "print(q13_message)"
   ]
  },
  {
   "cell_type": "code",
   "execution_count": null,
   "id": "d4d79c84",
   "metadata": {
    "deletable": false,
    "editable": false
   },
   "outputs": [],
   "source": [
    "grader.check(\"q1_3\")"
   ]
  },
  {
   "cell_type": "markdown",
   "id": "520c1bac",
   "metadata": {},
   "source": [
    "The code cell above used a nice trick using strings. You can use the multiplication operator `*` to create a repeated copy of itself that was saved to `long_key`. Hopefully you saw that this multiplied version is now as long or longer than the string contained in `message`. You should now be able to run the cell below:"
   ]
  },
  {
   "cell_type": "code",
   "execution_count": null,
   "id": "05899a23",
   "metadata": {},
   "outputs": [],
   "source": [
    "for i in range(len(q13_message)):\n",
    "    print(long_key[i], q13_message[i])"
   ]
  },
  {
   "cell_type": "markdown",
   "id": "1c6b6ca2",
   "metadata": {
    "tags": []
   },
   "source": [
    "<!-- BEGIN QUESTION -->\n",
    "\n",
    "## Question 1.4\n",
    "\n",
    "The other option to work with keys and messages of unequal length is to use the mod operator `%` combined with the index for the message to compute the index of the corresponding character in the key. For example, for the character at index `107` in your message, which character in your `8` character key should be used to encipher the message? You should be able to compute that value using the current index `107`, and the length of your key, `8`.\n",
    "\n",
    "Once you determine how to complete that computation, finish the following loop to print the correct character pairings between the two strings. The output should read:\n",
    "\n",
    "```\n",
    "A h\n",
    "B e\n",
    "C l\n",
    "A l\n",
    "B o\n",
    "C f\n",
    "A r\n",
    "B i\n",
    "C e\n",
    "A n\n",
    "B d\n",
    "```"
   ]
  },
  {
   "cell_type": "code",
   "execution_count": null,
   "id": "7043070f",
   "metadata": {
    "tags": []
   },
   "outputs": [],
   "source": [
    "q14_key = 'ABC'\n",
    "q14_message = 'hellofriend'\n",
    "\n",
    "for i in range(len(q14_message)):\n",
    "    ..."
   ]
  },
  {
   "cell_type": "markdown",
   "id": "507f33bb",
   "metadata": {},
   "source": [
    "<!-- END QUESTION -->\n",
    "\n"
   ]
  }
 ],
 "metadata": {
  "kernelspec": {
   "display_name": "Python 3 (ipykernel)",
   "language": "python",
   "name": "python3"
  },
  "language_info": {
   "codemirror_mode": {
    "name": "ipython",
    "version": 3
   },
   "file_extension": ".py",
   "mimetype": "text/x-python",
   "name": "python",
   "nbconvert_exporter": "python",
   "pygments_lexer": "ipython3",
   "version": "3.9.6"
  },
  "otter": {
   "tests": {
    "q1_3": {
     "name": "q1_3",
     "points": 1,
     "suites": [
      {
       "cases": [
        {
         "code": ">>> len(long_key) >= len(q13_message)\nTrue",
         "hidden": false,
         "locked": false
        },
        {
         "code": ">>> times_to_repeat\n3",
         "hidden": false,
         "locked": false
        }
       ],
       "scored": true,
       "setup": "",
       "teardown": "",
       "type": "doctest"
      }
     ]
    }
   }
  }
 },
 "nbformat": 4,
 "nbformat_minor": 5
}
