{
 "cells": [
  {
   "cell_type": "code",
   "execution_count": null,
   "id": "dad1dbd5",
   "metadata": {
    "deletable": false,
    "editable": false
   },
   "outputs": [],
   "source": [
    "# Initialize Otter\n",
    "import otter\n",
    "grader = otter.Notebook(\"activity-22-prng-stream-cipher.ipynb\")"
   ]
  },
  {
   "cell_type": "markdown",
   "id": "f4b1974a",
   "metadata": {},
   "source": [
    "# Activity 22: Creating a Pseudorandom Number Generator Stream Cipher"
   ]
  },
  {
   "cell_type": "markdown",
   "id": "52849b0c",
   "metadata": {},
   "source": [
    "In **Activity 22: Introduction to Stream Ciphers**, you saw how you could use ASCII to convert a keyword and plaintext into a stream of binary that could be XOR'd to produce binary ciphertext. In an ideal environment, the keystream would not be based on a word that could be guessed, but rather contain a truly random sequence of 1's and 0's. Since true randomness is essentially impossible to capture, and even if it was, it would be actually impossible to ensure that both the sending and receiving parties had access to the same stream to encrypt and decrypt the message. After all, if you had a way to securely send over the random stream of 1's and 0's that was unique to each message so the receiver could use it, then why bother with encryption in the first place? Just send the message in the same fashion that you are sending the keystream! \n",
    "\n",
    "We can attempt to mimic a true One-time Pad (OTP) Cipher using the pseudorandom number generator that Python has built-in and is found in the `random` library."
   ]
  },
  {
   "cell_type": "markdown",
   "id": "02ff1b8a",
   "metadata": {},
   "source": [
    "## Question 1.1: Choose a message\n",
    "\n",
    "Store an ASCII compliant message as a string to the variable `ascii_plaintext` below."
   ]
  },
  {
   "cell_type": "code",
   "execution_count": null,
   "id": "edcd9c8d",
   "metadata": {
    "tags": []
   },
   "outputs": [],
   "source": [
    "ascii_plaintext = ..."
   ]
  },
  {
   "cell_type": "code",
   "execution_count": null,
   "id": "34b771a5",
   "metadata": {
    "deletable": false,
    "editable": false
   },
   "outputs": [],
   "source": [
    "grader.check(\"q1_1\")"
   ]
  },
  {
   "cell_type": "markdown",
   "id": "0f5caf04",
   "metadata": {},
   "source": [
    "## Question 1.2: Convert plaintext to binary\n",
    "\n",
    "Write a `for` loop that iterates over `ascii_plaintext` one character at a time and uses `ord` to convert the character to it's ASCII/UTF-8 decimal value. Then, use the `format` function to convert this into an 8-bit string. Finally, append these 8 bits (1 byte) to the end of the string named `binary_plaintext`."
   ]
  },
  {
   "cell_type": "code",
   "execution_count": null,
   "id": "477a1aa0",
   "metadata": {
    "tags": []
   },
   "outputs": [],
   "source": [
    "binary_plaintext = ''\n",
    "...\n",
    "    ...\n",
    "\n",
    "print(binary_plaintext)"
   ]
  },
  {
   "cell_type": "code",
   "execution_count": null,
   "id": "ce0e7884",
   "metadata": {
    "deletable": false,
    "editable": false
   },
   "outputs": [],
   "source": [
    "grader.check(\"q1_2\")"
   ]
  },
  {
   "cell_type": "markdown",
   "id": "ed2996f0",
   "metadata": {},
   "source": [
    "## Question 1.3: Generate a keystream\n",
    "You'll need to generate a keystream that has the same number of bits that your binary plaintext uses. \n",
    "\n",
    "You can do this by:\n",
    "* set a seed of your choosing to initialize the random number generator. The notebook starts with a seed value of 4200 (the course number) but you can change it to anything you want. This value should be kept secret from prying eyes!\n",
    "* using the `random.getrandbits()` function. Remember this function takes in an argument that specifies how many random bits you want. **Hint:** the length of the `binary_plaintext` string could be helpful here!\n",
    "  * Remember, `.getrandbits()` will return an integer in decimal form by default. **That's okay**. We can use it to XOR in this form, even though we think about XOR using binary number. Python can convert for us behind the scenes as needed."
   ]
  },
  {
   "cell_type": "code",
   "execution_count": null,
   "id": "e065e50d",
   "metadata": {
    "tags": []
   },
   "outputs": [],
   "source": [
    "import random\n",
    "random.seed(4200)\n",
    "keystream = ...\n",
    "print(keystream)"
   ]
  },
  {
   "cell_type": "code",
   "execution_count": null,
   "id": "e8419a10",
   "metadata": {
    "deletable": false,
    "editable": false
   },
   "outputs": [],
   "source": [
    "grader.check(\"q1_3\")"
   ]
  },
  {
   "cell_type": "markdown",
   "id": "0c81fd68",
   "metadata": {
    "tags": []
   },
   "source": [
    "### Question 1.4: XOR the plaintext and keystream\n",
    "Now that you have plaintext as a binary string and the keystream as a decimal, you are just about ready to encrypt your message. First, convert `binary_plaintext` to it's decimal representation using the `int` function. Store the result to `numerical_plaintext`. Then use the XOR operation (`^`) in Python to XOR `numerical_plaintext` and `keystream` and save this result as `numerical_ciphertext`."
   ]
  },
  {
   "cell_type": "code",
   "execution_count": null,
   "id": "ffaf7494",
   "metadata": {
    "tags": []
   },
   "outputs": [],
   "source": [
    "numerical_plaintext = ...\n",
    "numerical_ciphertext = ...\n",
    "print(numerical_ciphertext)"
   ]
  },
  {
   "cell_type": "code",
   "execution_count": null,
   "id": "1cb61bf5",
   "metadata": {
    "deletable": false,
    "editable": false
   },
   "outputs": [],
   "source": [
    "grader.check(\"q1_4\")"
   ]
  },
  {
   "cell_type": "markdown",
   "id": "b2bb3b87",
   "metadata": {},
   "source": [
    "### Question 1.5: Convert ciphertext to ASCII\n",
    "Now that you have your ciphertext in decimal format, it's time to work it back to binary and then to ASCII so we can visually inspect it as a string.\n",
    "\n",
    "Below is code that will convert your decimal to a binary representation of equal length as the original message. It does this by constructing the second argument of the `format` function using 3 concatenated strings: \n",
    "* `0`: the leading 0 indicates to pad this binary number using 0's\n",
    "* `str(len(binary_plaintext))`: this computes the length of the plaintext (in binary) and then converts that number to a string\n",
    "* `b`: the trailing `b` indicates to format the number in binary.\n",
    "\n",
    "So if your original message was 40 binary digits, the second argument in the code below would be essentially the string `'040b'`\n",
    "\n",
    "If you didn't include these specifics, and just included `'b'` as the second argument, you run the risk that the decimal representation of the ciphertext doesn't need as many bits as the plaintext did (maybe it had a few leading 0's) and therefore doesn't have a quantity of bits that is divisible by 8. This way, we can collect groups of 8 bits to convert to characters without worrying that we are \"missing\" some bits at the front of the binary representation."
   ]
  },
  {
   "cell_type": "code",
   "execution_count": null,
   "id": "9c8d5764",
   "metadata": {},
   "outputs": [],
   "source": [
    "binary_ciphertext = format( numerical_ciphertext, '0'+str(len(binary_plaintext))+'b')\n",
    "print(binary_ciphertext)"
   ]
  },
  {
   "cell_type": "markdown",
   "id": "d79ddbb5",
   "metadata": {},
   "source": [
    "In the cell below, use a `loop` to iterate over 8 bits of `binary_ciphertext` at a time, each time converting those 8 bits to a decimal using `int`, and then using `chr` to convert the numerical value to the corresponding ASCII character. This character should be appended to the end of the string named `ascii_ciphertext`.\n",
    "\n",
    "After conversion, look at how `print(ascii_ciphertext)` and `print(ascii(ascii_ciphertext))` differ. If there are any 8-bit numbers that correspond to a decimal value outside of the standard printable ASCII range of 32-127 then the hexadecimal code will be displayed instead. So characters that only appear in extended-ASCII or UTF-8, for example `Û`, will display like `\\xdb` and other non-printable ASCII characters like `\u0011` will display as `\\x11`. \n",
    "\n",
    "**Remember:** All the information is correctly stored in the string `ascii_ciphertext`, using the `ascii` function just decides how to display that information when printing it out. "
   ]
  },
  {
   "cell_type": "code",
   "execution_count": null,
   "id": "41b37b8f",
   "metadata": {
    "tags": []
   },
   "outputs": [],
   "source": [
    "ascii_ciphertext = ''\n",
    "\n",
    "...\n",
    "    ...\n",
    "\n",
    "print(ascii_ciphertext)\n",
    "print(ascii(ascii_ciphertext))"
   ]
  },
  {
   "cell_type": "code",
   "execution_count": null,
   "id": "fc3d745c",
   "metadata": {
    "deletable": false,
    "editable": false
   },
   "outputs": [],
   "source": [
    "grader.check(\"q1_5\")"
   ]
  },
  {
   "cell_type": "markdown",
   "id": "77fabf2c",
   "metadata": {},
   "source": [
    "### Question 1.6: Deciphering the message\n",
    "\n",
    "Run the cell below to  confirm that when you XOR the ciphertext with the keystream, the result is the original plaintext message. In this example it's sufficient to verify that their numerical representations are identical since we know that the numerical representations determine the text."
   ]
  },
  {
   "cell_type": "code",
   "execution_count": null,
   "id": "42ecb1d7",
   "metadata": {},
   "outputs": [],
   "source": [
    "verify_plaintext = numerical_ciphertext ^ keystream\n",
    "print('             plaintext (decimal): ', numerical_plaintext)\n",
    "print('ciphertext ^ keystream (decimal): ', verify_plaintext)"
   ]
  },
  {
   "cell_type": "markdown",
   "id": "60af8708",
   "metadata": {},
   "source": [
    "## Wrapping Up\n",
    "\n",
    "That's it! You've found a way to generate a pseudorandom stream of bits that can be used with the XOR operation to implement a stream cipher in Python. As long as the person you send your message to knows the `seed` value you used to prepare the random number generator, they can decipher any message you send them. You should *of course* never reuse the same seed however, as reuse of the key can allow for an attacker to collect ciphertexts that were encrypted used the same keystream and eventually determine the keystream."
   ]
  },
  {
   "cell_type": "markdown",
   "id": "d2fb8190",
   "metadata": {
    "deletable": false,
    "editable": false
   },
   "source": [
    "---\n",
    "\n",
    "To double-check your work, the cell below will rerun all of the autograder tests."
   ]
  },
  {
   "cell_type": "code",
   "execution_count": null,
   "id": "020a4c67",
   "metadata": {
    "deletable": false,
    "editable": false
   },
   "outputs": [],
   "source": [
    "grader.check_all()"
   ]
  }
 ],
 "metadata": {
  "kernelspec": {
   "display_name": "Python 3 (ipykernel)",
   "language": "python",
   "name": "python3"
  },
  "language_info": {
   "codemirror_mode": {
    "name": "ipython",
    "version": 3
   },
   "file_extension": ".py",
   "mimetype": "text/x-python",
   "name": "python",
   "nbconvert_exporter": "python",
   "pygments_lexer": "ipython3",
   "version": "3.9.6"
  },
  "otter": {
   "tests": {
    "q1_1": {
     "name": "q1_1",
     "points": 1,
     "suites": [
      {
       "cases": [
        {
         "code": ">>> ascii_plaintext.isascii()\nTrue",
         "hidden": false,
         "locked": false
        }
       ],
       "scored": true,
       "setup": "",
       "teardown": "",
       "type": "doctest"
      }
     ]
    },
    "q1_2": {
     "name": "q1_2",
     "points": 1,
     "suites": [
      {
       "cases": [
        {
         "code": ">>> len(binary_plaintext) == len(ascii_plaintext) * 8\nTrue",
         "hidden": false,
         "locked": false
        }
       ],
       "scored": true,
       "setup": "",
       "teardown": "",
       "type": "doctest"
      }
     ]
    },
    "q1_3": {
     "name": "q1_3",
     "points": 1,
     "suites": [
      {
       "cases": [
        {
         "code": ">>> random.seed(4200)\n>>> keystream == random.getrandbits(len(binary_plaintext))\nTrue",
         "hidden": false,
         "locked": false
        }
       ],
       "scored": true,
       "setup": "",
       "teardown": "",
       "type": "doctest"
      }
     ]
    },
    "q1_4": {
     "name": "q1_4",
     "points": 1,
     "suites": [
      {
       "cases": [
        {
         "code": ">>> numerical_ciphertext == numerical_plaintext ^ keystream\nTrue",
         "hidden": false,
         "locked": false
        }
       ],
       "scored": true,
       "setup": "",
       "teardown": "",
       "type": "doctest"
      }
     ]
    },
    "q1_5": {
     "name": "q1_5",
     "points": 1,
     "suites": [
      {
       "cases": [
        {
         "code": ">>> len(ascii_ciphertext) == len(ascii_plaintext)\nTrue",
         "hidden": false,
         "locked": false
        }
       ],
       "scored": true,
       "setup": "",
       "teardown": "",
       "type": "doctest"
      }
     ]
    }
   }
  }
 },
 "nbformat": 4,
 "nbformat_minor": 5
}
