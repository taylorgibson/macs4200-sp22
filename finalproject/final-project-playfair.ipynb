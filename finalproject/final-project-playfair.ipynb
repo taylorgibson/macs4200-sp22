{
 "cells": [
  {
   "cell_type": "code",
   "execution_count": null,
   "id": "4d217b3e",
   "metadata": {
    "deletable": false,
    "editable": false
   },
   "outputs": [],
   "source": [
    "# Initialize Otter\n",
    "import otter\n",
    "grader = otter.Notebook(\"final-project-playfair.ipynb\")"
   ]
  },
  {
   "cell_type": "markdown",
   "id": "5e604189",
   "metadata": {},
   "source": [
    "# Final Project: Playfair cipher\n",
    "\n",
    "This choice for the final project will focus on the [Playfair cipher](https://en.wikipedia.org/wiki/Playfair_cipher).\n",
    "\n",
    "From Wikipedia:\n",
    ">The technique encrypts pairs of letters (bigrams or digrams), instead of single letters as in the simple substitution cipher and rather more complex Vigenère cipher systems then in use. The Playfair is thus significantly harder to break since the frequency analysis used for simple substitution ciphers does not work with it. The frequency analysis of bigrams is possible, but considerably more difficult. With 600 possible bigrams rather than the 26 possible monograms (single symbols, usually letters in this context), a considerably larger cipher text is required in order to be useful.\n",
    "\n",
    "You will investigate how to create the key and implement the encryption / decryption algorithms in Python."
   ]
  },
  {
   "cell_type": "markdown",
   "id": "462aa0e2",
   "metadata": {},
   "source": [
    "## Import your toolkit\n",
    "\n",
    "You are provided the following functions to help complete this assignment:\n",
    "* `text_clean`\n",
    "* `text_block`\n",
    "\n",
    "Run the cell below to import these assignments"
   ]
  },
  {
   "cell_type": "code",
   "execution_count": null,
   "id": "f4030ca3",
   "metadata": {},
   "outputs": [],
   "source": [
    "from finaltoolkit import text_clean, text_block"
   ]
  },
  {
   "cell_type": "markdown",
   "id": "df88e8e8",
   "metadata": {},
   "source": [
    "## The Polybius square\n",
    "\n",
    "The Playfair cipher uses a Polybius square as the substitution key, similar to the ADFGVX and bifid ciphers.\n",
    "\n",
    "From Wikipedia:\n",
    "\n",
    ">The Polybius square, also known as the Polybius checkerboard, is a device invented by the ancient Greeks Cleoxenus and Democleitus, and made famous by the historian and scholar Polybius. The device is used for fractionating plaintext characters so that they can be represented by a smaller set of symbols, which is useful for telegraphy, steganography, and cryptography. The device was originally used for fire signalling, allowing for the coded transmission of any message, not just a finite amount of predetermined options as was the convention before.\n",
    "\n",
    "To create a Polybius square, first create an empty 5x5 grid. Then, fill it with each of the 26 English characters, with `I` and `J` sharing a square (`I` is only shown when displayed). There are $25!$ different ways to fill the square, which makes it very unlikely that someone would be able to guess your key at random.\n",
    "\n",
    "In practice, however, a keyword is often used to create the square. The letters of the key (without duplicates) are placed from left to right starting in the top row, moving from top to bottom. When the letters in the keyword are used up, the rest of the alphabet follows in regular order. \n",
    "\n",
    "For example, the keyword `playfair example` would result in square below, where duplicate letters are omitted from the square, but still shown in red:\n",
    "\n",
    "![](https://upload.wikimedia.org/wikipedia/commons/e/ef/Playfair_Cipher_building_grid_omitted_letters.png)"
   ]
  },
  {
   "cell_type": "markdown",
   "id": "f1cf83f9",
   "metadata": {},
   "source": [
    "For this assignment, the polybius square must be represented as a string, which is constructed by reading the square left to right, top to bottom.\n",
    "\n",
    "For example, polybius square from the keyword `playfair example` would be represented as:"
   ]
  },
  {
   "cell_type": "code",
   "execution_count": null,
   "id": "b0195ecb",
   "metadata": {},
   "outputs": [],
   "source": [
    "example_keyword = 'PLAYFIREXMBCDGHKNOQSTUVWZ'\n",
    "example_keyword"
   ]
  },
  {
   "cell_type": "markdown",
   "id": "fdcd84bc",
   "metadata": {},
   "source": [
    "**Note**: When creating keys, only the character `I` was stored to the list, not `I/J`. For this assignment, both `I` and `J` should be treated as the character `I`. This will create some odd plaintext messages when deciphering, but humans are good at reading `I`'s as `J`'s when needed. For example, the phrase \"Now stop and give me `10 Iumping Iacks`!\" would likely be readable to most people."
   ]
  },
  {
   "cell_type": "markdown",
   "id": "4c6fa611",
   "metadata": {},
   "source": [
    "### Question 1: Accessing elements of the key\n",
    "The operations needed to encipher and decipher messages require knowing the row and column number for each character in the key. Write a function `get_character` which returns the character at an indicated row and column in the square. You will need to determine how to use the values for `row` and `col` to compute a corresponding index value in the string `key`.\n",
    "\n",
    "**Note:** The top row will be numbered as row 0, and the last row will be numbered as row 4. The same numbering system applies to the columns.\n",
    "\n",
    "**Sample Test Cases:**\n",
    "```\n",
    ">> get_character('PLAYFIREXMBCDGHKNOQSTUVWZ', row=0, col=0)\n",
    "'P'\n",
    "\n",
    ">> get_character('PLAYFIREXMBCDGHKNOQSTUVWZ', row=1, col=4)\n",
    "'M'\n",
    "\n",
    ">> get_character('PLAYFIREXMBCDGHKNOQSTUVWZ', row=4, col=3)\n",
    "'W'\n",
    "```"
   ]
  },
  {
   "cell_type": "code",
   "execution_count": null,
   "id": "122b9873",
   "metadata": {
    "tags": []
   },
   "outputs": [],
   "source": [
    "def get_character(key, row, col):\n",
    "    ..."
   ]
  },
  {
   "cell_type": "code",
   "execution_count": null,
   "id": "ffd450f6",
   "metadata": {
    "deletable": false,
    "editable": false
   },
   "outputs": [],
   "source": [
    "grader.check(\"q1\")"
   ]
  },
  {
   "cell_type": "markdown",
   "id": "cf3887d3",
   "metadata": {},
   "source": [
    "### Question 2\n",
    "\n",
    "It is also required to determine the row and column number for a given character. Write the functions `get_row` and `get_col` that return an integer that represents the row and column numbers respectively when provided a key and a character contained in the key."
   ]
  },
  {
   "cell_type": "markdown",
   "id": "14295eec",
   "metadata": {},
   "source": [
    "#### Part A: `get_row`\n",
    "\n",
    "**Sample Test Cases:**\n",
    "\n",
    "```\n",
    ">> get_row('PLAYFIREXMBCDGHKNOQSTUVWZ', 'P')\n",
    "0\n",
    "\n",
    ">> get_row('PLAYFIREXMBCDGHKNOQSTUVWZ', 'M')\n",
    "1\n",
    "\n",
    ">> get_row('PLAYFIREXMBCDGHKNOQSTUVWZ', 'W')\n",
    "4\n",
    "```"
   ]
  },
  {
   "cell_type": "code",
   "execution_count": null,
   "id": "c32055db",
   "metadata": {
    "tags": []
   },
   "outputs": [],
   "source": [
    "def get_row(key, char):\n",
    "    ..."
   ]
  },
  {
   "cell_type": "code",
   "execution_count": null,
   "id": "ee7dbd2d",
   "metadata": {
    "deletable": false,
    "editable": false
   },
   "outputs": [],
   "source": [
    "grader.check(\"q2a\")"
   ]
  },
  {
   "cell_type": "markdown",
   "id": "3228ef56",
   "metadata": {},
   "source": [
    "#### Part B: `get_col`\n",
    "\n",
    "**Sample Test Cases:**\n",
    "\n",
    "```\n",
    ">> get_col('PLAYFIREXMBCDGHKNOQSTUVWZ', 'P')\n",
    "0\n",
    "\n",
    ">> get_col('PLAYFIREXMBCDGHKNOQSTUVWZ', 'M')\n",
    "4\n",
    "\n",
    ">> get_col('PLAYFIREXMBCDGHKNOQSTUVWZ', 'W')\n",
    "3\n",
    "```"
   ]
  },
  {
   "cell_type": "code",
   "execution_count": null,
   "id": "0448ce46",
   "metadata": {
    "tags": []
   },
   "outputs": [],
   "source": [
    "def get_col(key, char):\n",
    "    ..."
   ]
  },
  {
   "cell_type": "code",
   "execution_count": null,
   "id": "2b9932ca",
   "metadata": {
    "deletable": false,
    "editable": false
   },
   "outputs": [],
   "source": [
    "grader.check(\"q2b\")"
   ]
  },
  {
   "cell_type": "markdown",
   "id": "2ec883c0",
   "metadata": {},
   "source": [
    "### Question 3: Creating the key\n",
    "\n",
    "Write a function, `keygen` that creates a Polybius square key that is formatted as a list of lists. `keygen` should accept a keyword (as a string) to create the key. If a keyword is not provided, then the square should should be filled with the alphabet in normal order.\n",
    "\n",
    "**Hint:** You can use the Python operator `in` and `not in` to determine if a character is already in a string. For example:"
   ]
  },
  {
   "cell_type": "code",
   "execution_count": null,
   "id": "4d759de6",
   "metadata": {},
   "outputs": [],
   "source": [
    "'Y' in 'PLAYFAIR'"
   ]
  },
  {
   "cell_type": "code",
   "execution_count": null,
   "id": "99a67bfa",
   "metadata": {},
   "outputs": [],
   "source": [
    "'L' not in 'PLAYFAIR'"
   ]
  },
  {
   "cell_type": "markdown",
   "id": "0c086046",
   "metadata": {},
   "source": [
    "This could be helpful if you were to implement a strategy that:\n",
    "* constructs a string, `all_characters` that consis of the characters in `keyword` and `LETTERS`\n",
    "* replaces `J` with `I` and saves the result as `all_characters_no_J`\n",
    "* appends each character of `all_characters_no_J` into a new string, `key`, each time checking checking to make sure it's not already in `key`. \n",
    "\n",
    "This should guarantee that `key` only contains the 25 valid characters. Make sure they appear in the correct order!"
   ]
  },
  {
   "cell_type": "markdown",
   "id": "d5e184d4",
   "metadata": {},
   "source": [
    "**Sample Test Cases**:\n",
    "```\n",
    ">> keygen()\n",
    "'ABCDEFGHIKLMNOPQRSTUVWXYZ`\n",
    "\n",
    ">> keygen( 'Polybius Cipher' )\n",
    "'POLYBIUSCHERADFGKMNQTVWXZ\n",
    "\n",
    ">> keygen( keyword = 'Long Jump' )\n",
    "'LONGIUMPABCDEFHKQRSTVWXYZ'\n",
    "```"
   ]
  },
  {
   "cell_type": "code",
   "execution_count": null,
   "id": "11b29d9f",
   "metadata": {
    "tags": []
   },
   "outputs": [],
   "source": [
    "def keygen(keyword='', LETTERS='ABCDEFGHIKLMNOPQRSTUVWXYZ'):\n",
    "    \n",
    "    all_characters = ...\n",
    "    all_characters_no_J = ...\n",
    "    key = ...\n",
    "    \n",
    "    \n",
    "    ..."
   ]
  },
  {
   "cell_type": "code",
   "execution_count": null,
   "id": "5c0715e1",
   "metadata": {
    "deletable": false,
    "editable": false
   },
   "outputs": [],
   "source": [
    "grader.check(\"q3\")"
   ]
  },
  {
   "cell_type": "markdown",
   "id": "fdbe4b41",
   "metadata": {},
   "source": [
    "## The Playfair Cipher\n",
    "\n",
    "From Wikipedia:\n",
    "\n",
    "To encrypt a message, one would break the message into digrams (groups of 2 letters) such that, for example, `HelloWorld` becomes `HE LL OW OR LD`. These digrams will be substituted using the key table. \n",
    "\n",
    "Since encryption requires pairs of letters, messages with an odd number of characters usually append an uncommon letter, such as `X`, to complete the final digram. \n",
    "\n",
    "The two letters of the digram are considered opposite corners of a rectangle in the key table. To perform the substitution, apply the following 4 rules, in order, to each pair of letters in the plaintext:\n",
    "\n",
    "1. If both letters are the same (or only one letter is left), add an `X` after the first letter. Encrypt the new pair and continue.\n",
    "2. If the letters appear on the same row of your table, replace them with the letters to their immediate right respectively (wrapping around to the left side of the row if a letter in the original pair was on the right side of the row). <br>![](https://upload.wikimedia.org/wikipedia/commons/2/29/Playfair_Cipher_10_EX_to_XD.png)\n",
    "3. If the letters appear on the same column of your table, replace them with the letters immediately below respectively (wrapping around to the top side of the column if a letter in the original pair was on the bottom side of the column).<br>![](https://upload.wikimedia.org/wikipedia/commons/4/44/Playfair_Cipher_02_DE_to_OD.png)\n",
    "4. If the letters are not on the same row or column, replace them with the letters on the same row respectively but at the other pair of corners of the rectangle defined by the original pair. The order is important – the first letter of the encrypted pair is the one that lies on the same row as the first letter of the plaintext pair.<br>![](https://upload.wikimedia.org/wikipedia/commons/4/40/Playfair_Cipher_01_HI_to_BM.png)\n",
    "\n",
    "To decrypt, use the inverse (opposite) of the two shift rules, selecting the letter to the left or upwards as appropriate. The last rule remains unchanged, as the transformation switches the selected letters of the rectangle to the opposite diagonal, and a repeat of the transformation returns the selection to its original state. The first rule can only be reversed by dropping any extra instances of the chosen insert letter, `X`, that do not make sense in the final message when finished. This is typically done by hand."
   ]
  },
  {
   "cell_type": "markdown",
   "id": "21b97bfc",
   "metadata": {},
   "source": [
    "### Question 4: Cleaning the message\n",
    "\n",
    "When encrypting a message, the Playfair Cipher selects two consecutive plaintext letters and uses the Polybius square to perform a substitution to produce 2 ciphertext characters. The algorithm requires the following:\n",
    "   * There should not be any `J`'s in your message. `J` should replaced with `I`\n",
    "   * Two consecutive letters must be different characters. If they are the same character, insert an 'X' after the first character.\n",
    "   * The message must be even in length so letters can always be taken in pairs.\n",
    "   \n",
    "Write a function `playfair_textclean` that ensures the criteria are met for any provided message.\n",
    "\n",
    "**Sample Test Cases**:\n",
    "```\n",
    ">>> playfair_textclean( 'HEY' )\n",
    "'HEYX'\n",
    "\n",
    ">>> playfair_textclean( 'Jump' )\n",
    "'IUMP'\n",
    "\n",
    ">>> playfair_textclean( 'Hide the gold in the tree stump' )\n",
    "'HIDETHEGOLDINTHETREXESTUMP'\n",
    "\n",
    ">>> playfair_textclean( 'mississippi' )\n",
    "'MISXSISXSIPXPI'\n",
    "```"
   ]
  },
  {
   "cell_type": "code",
   "execution_count": null,
   "id": "3c4d7d01",
   "metadata": {
    "tags": []
   },
   "outputs": [],
   "source": [
    "def playfair_textclean(message):\n",
    "    \n",
    "    # Clean the message using text_clean, then replace the Js\n",
    "    cleaned_message = ...\n",
    "    \n",
    "    # Handle any pairs of letters that are the same character\n",
    "    \n",
    "    \n",
    "    # Determine if the message has an odd number of characters\n",
    "    # and if so, append an 'X' at the end.\n",
    "    "
   ]
  },
  {
   "cell_type": "code",
   "execution_count": null,
   "id": "3be00e25",
   "metadata": {
    "deletable": false,
    "editable": false
   },
   "outputs": [],
   "source": [
    "grader.check(\"q4\")"
   ]
  },
  {
   "cell_type": "markdown",
   "id": "a73ca171",
   "metadata": {},
   "source": [
    "### Question 5: Encryption / Decryption\n",
    "\n",
    "At this point you should now be able write a function `playfair` that implements the playfair cipher using a provided keyword and message. The function should also accept a boolean value to `encipher` that when set to `True` encrypts the `message` with the `key` and when set to `False` decrypts the `message` with the `key`.\n",
    "\n",
    "**Sample Test Cases**:\n",
    "```\n",
    ">>> playfair('playfair example', 'Hide the gold in the tree stump')\n",
    "'BMODZ BXDNA BEKUD MUIXM MOUVI F'\n",
    "\n",
    ">>> playfair('playfair example', 'BMODZ BXDNA BEKUD MUIXM MOUVI F', False)\n",
    "'hidethegoldinthetrexestump'\n",
    "```"
   ]
  },
  {
   "cell_type": "code",
   "execution_count": null,
   "id": "7530e8a5",
   "metadata": {
    "tags": []
   },
   "outputs": [],
   "source": [
    "def playfair(keyword, message, encipher=True):\n",
    "    \n",
    "    key = ...\n",
    "    cleaned_message = ...\n",
    "    output = ''\n",
    "    \n",
    "    \n",
    "    ..."
   ]
  },
  {
   "cell_type": "code",
   "execution_count": null,
   "id": "504d4676",
   "metadata": {
    "deletable": false,
    "editable": false
   },
   "outputs": [],
   "source": [
    "grader.check(\"q5\")"
   ]
  },
  {
   "cell_type": "markdown",
   "id": "be9405e4",
   "metadata": {},
   "source": [
    "## Ciphertext analysis"
   ]
  },
  {
   "cell_type": "markdown",
   "id": "48130260",
   "metadata": {},
   "source": [
    "There is a file included with this notebook that contains the first chapter of Pride and Prejudice. The questions below will ask you to analyze a ciphertext that uses this chapter as the plaintext. Each question will ask you to replace `...`'s in a code cell with your answer, either a multiple choice response (`'A'`, `'B'`, etc) or a free response. These responses will only be graded for accuracy once you've submitted your assignment, so make sure you are certain of your answers before submitting!\n",
    "\n",
    "Run the cell below to load the chapter to the string named `plaintext`"
   ]
  },
  {
   "cell_type": "code",
   "execution_count": null,
   "id": "e5a258b9",
   "metadata": {},
   "outputs": [],
   "source": [
    "with open('pride-prejudice-chapter-01.txt') as f:\n",
    "    plaintext = f.read()"
   ]
  },
  {
   "cell_type": "markdown",
   "id": "389d28e4",
   "metadata": {},
   "source": [
    "<!-- BEGIN QUESTION -->\n",
    "\n",
    "### Question 6: Creating a bar chart\n",
    "\n",
    "Encrypt the plaintext using a keyword of `Jane Austen`, then create a bar chart that shows the single character frequencies of each of the 25 English characters used in the message."
   ]
  },
  {
   "cell_type": "code",
   "execution_count": null,
   "id": "6a8febb0",
   "metadata": {
    "tags": []
   },
   "outputs": [],
   "source": [
    "ciphertext = ...\n"
   ]
  },
  {
   "cell_type": "markdown",
   "id": "cc3897c1",
   "metadata": {},
   "source": [
    "<!-- END QUESTION -->\n",
    "\n",
    "### Question 7: Index of Coincidence\n",
    "\n",
    "Write a function `index_of_coincidence` to compute the index of coincidence of the ciphertext.\n",
    "\n",
    "**Hint:** Reference Lesson 17 and Lab 04 if you need a refresher!"
   ]
  },
  {
   "cell_type": "code",
   "execution_count": null,
   "id": "5c17b3f0",
   "metadata": {
    "tags": []
   },
   "outputs": [],
   "source": [
    "def index_of_coincidence(message, LETTERS='ABCDEFGHIKLMNOPQRSTUVWXYZ'):\n",
    "    \n",
    "    ..."
   ]
  },
  {
   "cell_type": "code",
   "execution_count": null,
   "id": "e663182b",
   "metadata": {
    "deletable": false,
    "editable": false
   },
   "outputs": [],
   "source": [
    "grader.check(\"q7\")"
   ]
  },
  {
   "cell_type": "markdown",
   "id": "fbd20184",
   "metadata": {},
   "source": [
    "### Question 8: Classifying the cipher\n",
    "\n",
    "The Playfair cipher is what's known as a polygraphic cipher. It's not a monoalphabetic substitution cipher or a polyalphabetic substitution cipher.\n",
    "\n",
    "Based on the coincidence value you computed in Question 7, which of the following does it behave *most* like:\n",
    "\n",
    "1. monoalphabetic substitution cipher\n",
    "2. polyalphabetic substitution cipher\n",
    "\n",
    "Assign the answer choice as an integer to the variable `q8` below."
   ]
  },
  {
   "cell_type": "code",
   "execution_count": null,
   "id": "33e6757c",
   "metadata": {
    "tags": []
   },
   "outputs": [],
   "source": [
    "q8 = ..."
   ]
  },
  {
   "cell_type": "markdown",
   "id": "db809172",
   "metadata": {
    "deletable": false,
    "editable": false
   },
   "source": [
    "## Submission\n",
    "\n",
    "Make sure you have run all cells in your notebook in order before running the cell below, so that all images/graphs appear in the output. The cell below will generate a zip file for you to submit. **Please save before exporting!**\n",
    "\n",
    "Before exporting, SAVE your notebook, then RESTART AND RUN ALL CELLS. This will run the export cell. Make sure you submit the most recent copy by using the date-time stamp on the file."
   ]
  },
  {
   "cell_type": "code",
   "execution_count": null,
   "id": "54f9898f",
   "metadata": {
    "deletable": false,
    "editable": false
   },
   "outputs": [],
   "source": [
    "# Save your notebook first, then run this cell to export your submission.\n",
    "grader.export(pdf=False)"
   ]
  },
  {
   "cell_type": "markdown",
   "id": "40303499",
   "metadata": {},
   "source": [
    " "
   ]
  }
 ],
 "metadata": {
  "kernelspec": {
   "display_name": "Python 3 (ipykernel)",
   "language": "python",
   "name": "python3"
  },
  "language_info": {
   "codemirror_mode": {
    "name": "ipython",
    "version": 3
   },
   "file_extension": ".py",
   "mimetype": "text/x-python",
   "name": "python",
   "nbconvert_exporter": "python",
   "pygments_lexer": "ipython3",
   "version": "3.9.6"
  },
  "otter": {
   "tests": {
    "q1": {
     "name": "q1",
     "points": 1,
     "suites": [
      {
       "cases": [
        {
         "code": ">>> get_character('PLAYFIREXMBCDGHKNOQSTUVWZ', row=0, col=0) != None\nTrue",
         "failure_message": "Make sure you're using a return statement",
         "hidden": false,
         "locked": false,
         "points": 0
        },
        {
         "code": ">>> get_character('PLAYFIREXMBCDGHKNOQSTUVWZ', row=0, col=0)\n'P'",
         "hidden": false,
         "locked": false,
         "points": 0
        },
        {
         "code": ">>> get_character('PLAYFIREXMBCDGHKNOQSTUVWZ', row=1, col=4)\n'M'",
         "hidden": false,
         "locked": false,
         "points": 0.5
        },
        {
         "code": ">>> get_character('PLAYFIREXMBCDGHKNOQSTUVWZ', row=4, col=3)\n'W'",
         "hidden": false,
         "locked": false,
         "points": 0.5
        }
       ],
       "scored": true,
       "setup": "",
       "teardown": "",
       "type": "doctest"
      }
     ]
    },
    "q2a": {
     "name": "q2a",
     "points": 1,
     "suites": [
      {
       "cases": [
        {
         "code": ">>> get_row('PLAYFIREXMBCDGHKNOQSTUVWZ', 'P') != None\nTrue",
         "failure_message": "Make sure you're using a return statement",
         "hidden": false,
         "locked": false,
         "points": 0
        },
        {
         "code": ">>> get_row('PLAYFIREXMBCDGHKNOQSTUVWZ', 'P')\n0",
         "hidden": false,
         "locked": false,
         "points": 0
        },
        {
         "code": ">>> get_row('PLAYFIREXMBCDGHKNOQSTUVWZ', 'M')\n1",
         "hidden": false,
         "locked": false,
         "points": 0.5
        },
        {
         "code": ">>> get_row('PLAYFIREXMBCDGHKNOQSTUVWZ', 'W')\n4",
         "hidden": false,
         "locked": false,
         "points": 0.5
        }
       ],
       "scored": true,
       "setup": "",
       "teardown": "",
       "type": "doctest"
      }
     ]
    },
    "q2b": {
     "name": "q2b",
     "points": 1,
     "suites": [
      {
       "cases": [
        {
         "code": ">>> get_col('PLAYFIREXMBCDGHKNOQSTUVWZ', 'P') != None\nTrue",
         "failure_message": "Make sure you're using a return statement",
         "hidden": false,
         "locked": false,
         "points": 0
        },
        {
         "code": ">>> get_col('PLAYFIREXMBCDGHKNOQSTUVWZ', 'P')\n0",
         "hidden": false,
         "locked": false,
         "points": 0
        },
        {
         "code": ">>> get_col('PLAYFIREXMBCDGHKNOQSTUVWZ', 'M')\n4",
         "hidden": false,
         "locked": false,
         "points": 0.5
        },
        {
         "code": ">>> get_col('PLAYFIREXMBCDGHKNOQSTUVWZ', 'W')\n3",
         "hidden": false,
         "locked": false,
         "points": 0.5
        }
       ],
       "scored": true,
       "setup": "",
       "teardown": "",
       "type": "doctest"
      }
     ]
    },
    "q3": {
     "name": "q3",
     "points": 2,
     "suites": [
      {
       "cases": [
        {
         "code": ">>> keygen() != None\nTrue",
         "failure_message": "Make sure you're using a return statement",
         "hidden": false,
         "locked": false,
         "points": 0
        },
        {
         "code": ">>> keygen()\n'ABCDEFGHIKLMNOPQRSTUVWXYZ'",
         "hidden": false,
         "locked": false,
         "points": 0
        },
        {
         "code": ">>> keygen('Polybius Cipher')\n'POLYBIUSCHERADFGKMNQTVWXZ'",
         "hidden": false,
         "locked": false,
         "points": 0
        },
        {
         "code": ">>> keygen( keyword = 'Long Jump' )\n'LONGIUMPABCDEFHKQRSTVWXYZ'",
         "hidden": false,
         "locked": false,
         "points": 1
        }
       ],
       "scored": true,
       "setup": "",
       "teardown": "",
       "type": "doctest"
      }
     ]
    },
    "q4": {
     "name": "q4",
     "points": 3,
     "suites": [
      {
       "cases": [
        {
         "code": ">>> playfair_textclean( 'HEY' ) != None\nTrue",
         "failure_message": "Make sure you're using a return statement",
         "hidden": false,
         "locked": false,
         "points": 0
        },
        {
         "code": ">>> playfair_textclean( 'HEY' )\n'HEYX'",
         "hidden": false,
         "locked": false,
         "points": 0
        },
        {
         "code": ">>> playfair_textclean( 'Jump' )\n'IUMP'",
         "hidden": false,
         "locked": false,
         "points": 0
        },
        {
         "code": ">>> playfair_textclean( 'Hide the gold in the tree stump' )\n'HIDETHEGOLDINTHETREXESTUMP'",
         "hidden": false,
         "locked": false,
         "points": 0
        },
        {
         "code": ">>> playfair_textclean( 'mississippi' )\n'MISXSISXSIPXPI'",
         "hidden": false,
         "locked": false,
         "points": 1
        }
       ],
       "scored": true,
       "setup": "",
       "teardown": "",
       "type": "doctest"
      }
     ]
    },
    "q5": {
     "name": "q5",
     "points": 6,
     "suites": [
      {
       "cases": [
        {
         "code": ">>> playfair('playfair example', 'Hide the gold in the tree stump' ) != None\nTrue",
         "failure_message": "Make sure you're using a return statement",
         "hidden": false,
         "locked": false,
         "points": 0
        },
        {
         "code": ">>> playfair('playfair example', 'BM OD ZB XD NA BE KU DM UI XM MO UV IF', False ) != None\nTrue",
         "failure_message": "Make sure you're using a return statement",
         "hidden": false,
         "locked": false,
         "points": 0
        },
        {
         "code": ">>> playfair('playfair example', 'Hide the gold in the tree stump' )\n'BMODZ BXDNA BEKUD MUIXM MOUVI F'",
         "hidden": false,
         "locked": false,
         "points": 1
        },
        {
         "code": ">>> playfair('playfair example', 'BM OD ZB XD NA BE KU DM UI XM MO UV IF', False )\n'HIDET HEGOL DINTH ETREX ESTUM P'",
         "hidden": false,
         "locked": false,
         "points": 1
        }
       ],
       "scored": true,
       "setup": "",
       "teardown": "",
       "type": "doctest"
      }
     ]
    },
    "q7": {
     "name": "q7",
     "points": 2,
     "suites": [
      {
       "cases": [
        {
         "code": ">>> index_of_coincidence('test message') != None\nTrue",
         "failure_message": "Make sure you're using a return statement",
         "hidden": false,
         "locked": false,
         "points": 0
        },
        {
         "code": ">>> round(index_of_coincidence('test message'), 5) == round(index_of_coincidence('TESTMESSAGE'), 5)\nTrue",
         "failure_message": "Make sure you are cleaning your message before computing the IC",
         "hidden": false,
         "locked": false,
         "points": 0
        },
        {
         "code": ">>> round(index_of_coincidence('test message'), 5)\n0.12727",
         "hidden": false,
         "locked": false,
         "points": 1
        }
       ],
       "scored": true,
       "setup": "",
       "teardown": "",
       "type": "doctest"
      }
     ]
    }
   }
  }
 },
 "nbformat": 4,
 "nbformat_minor": 5
}
