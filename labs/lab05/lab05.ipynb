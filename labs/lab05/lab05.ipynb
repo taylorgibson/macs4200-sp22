{
 "cells": [
  {
   "cell_type": "code",
   "execution_count": null,
   "id": "1cf789d7",
   "metadata": {
    "deletable": false,
    "editable": false
   },
   "outputs": [],
   "source": [
    "# Initialize Otter\n",
    "import otter\n",
    "grader = otter.Notebook(\"lab05.ipynb\")"
   ]
  },
  {
   "cell_type": "markdown",
   "id": "0bb00b3f",
   "metadata": {},
   "source": [
    "# Lab 05: Binary Stream Ciphers\n",
    "\n",
    "Binary stream ciphers, like the Linear Feedback Shift Register (LFSR), are great at producing statistically random sequences of 1's and 0's. In this lab we'll learn how to work with binary numbers a bit more in Python, and program a function to implement a LFSR in Python."
   ]
  },
  {
   "cell_type": "markdown",
   "id": "05bb3b7e",
   "metadata": {},
   "source": [
    "## Shift Operators\n",
    "\n",
    "Bitwise shift operators are another kind of tool for bit manipulation. They let you move the bits around, which will be handy for creating bitmasks later on. In the past, they were often used to improve the speed of certain mathematical operations since they are very low level operations on the computer and can be executed very quickly.\n",
    "\n",
    "### Left Shift\n",
    "\n",
    "The bitwise left shift operator (`<<`) moves the bits of its first operand to the left by the number of places specified in its second operand. It also takes care of inserting enough zero bits to fill the gap that arises on the right edge of the new bit pattern:\n",
    "\n",
    "![](https://files.realpython.com/media/lshift.e06f1509d89f.gif)\n",
    "\n",
    "Run the cell below to see this operation in action:"
   ]
  },
  {
   "cell_type": "code",
   "execution_count": null,
   "id": "de53407c",
   "metadata": {},
   "outputs": [],
   "source": [
    "a = 0b100111\n",
    "print( 'a:        ', format(a, 'b'), a )\n",
    "print( 'a << 1:  ', format(a << 1, 'b'), a << 1 )\n",
    "print( 'a << 2: ', format(a << 2, 'b'), a << 2 )\n",
    "print( 'a << 3:', format(a << 3, 'b'), a << 3 )"
   ]
  },
  {
   "cell_type": "markdown",
   "id": "c5928602",
   "metadata": {},
   "source": [
    "You may have noticed that, in general, shifting bits to the left corresponds to multiplying the number by a **power of two**, with an exponent equal to the number of places shifted:\n",
    "\n",
    "$$a << n = a \\cdot 2^n$$\n",
    "\n",
    "Think about why shifting each bit to the left is equivalent to doubling the value of the entire number. Discuss with your classmates in your group before moving on."
   ]
  },
  {
   "cell_type": "markdown",
   "id": "e147c5db",
   "metadata": {},
   "source": [
    "### Right Shift\n",
    "\n",
    "The bitwise right shift operator (`>>`) is analogous to the left one, but instead of moving bits to the left, it pushes them to the right by the specified number of places. The rightmost bits always get dropped:\n",
    "\n",
    "![](https://files.realpython.com/media/rshift.9d585c1c838e.gif)\n",
    "\n",
    "Every time you shift a bit to the right by one position, you halve its underlying value. Moving the same bit by two places to the right produces a quarter of the original value, and so on. When you add up all the individual bits, you’ll see that the same rule applies to the decimal number they represent:"
   ]
  },
  {
   "cell_type": "code",
   "execution_count": null,
   "id": "09119782",
   "metadata": {},
   "outputs": [],
   "source": [
    "a = 0b100111\n",
    "print( 'a:     ', format(a, 'b'), a )\n",
    "print( 'a >> 1: ', format(a >> 1, 'b'), a >> 1 )\n",
    "print( 'a >> 2:  ', format(a >> 2, 'b'), a >> 2 )\n",
    "print( 'a >> 3:   ', format(a >> 3, 'b'), a >> 3 )"
   ]
  },
  {
   "cell_type": "markdown",
   "id": "81552e3a",
   "metadata": {},
   "source": [
    "Halving an odd number such as $15710$ would produce a fraction. To get rid of it, the right shift operator automatically floors the result (rounds down to the nearest integer). It’s virtually the same as a floor division by a power of two:\n",
    "\n",
    "$$ a >> n = \\left\\lfloor \\frac{a}{2^n} \\right\\rfloor $$\n",
    "\n",
    "That means in Python you can either shift a number 1 bit to the right, `a >> 1`, or floor divide by 2, `a // 2` to obtain the same result."
   ]
  },
  {
   "cell_type": "code",
   "execution_count": null,
   "id": "e187fba7",
   "metadata": {},
   "outputs": [],
   "source": [
    "print(5 >> 1)\n",
    "print(5 // 2)"
   ]
  },
  {
   "cell_type": "markdown",
   "id": "5a823758",
   "metadata": {},
   "source": [
    "## Bitmasks\n",
    "\n",
    "A bitmask works like a graffiti stencil that blocks the paint from being sprayed on particular areas of a surface. It lets you isolate the bits to apply some function on them selectively. Bitmasking involves both the bitwise logical operators and the bitwise shift operators that you’ve read about.\n",
    "\n",
    "There are a few common types of operations associated with bitmasks. You’ll take a quick look at some of them below.\n",
    "\n",
    "### Getting a Bit\n",
    "\n",
    "Remember, the bitwise AND operation will match up corresponding bits in a number and return a 0 if both bits are 0, a 0 if one bit is 0 and one bit 1, and return a 1 if both bits are 1. \n",
    "\n",
    "If you think about that, that means that if you take any number, and use the bitwise AND operation against it with a binary number of all 0's, you'll get back all zeros. That's because if your original number had a bit with value 0, `0 AND 0` returns 0, and if your original number had a bit with value 1, `1 AND 0` returns 0:"
   ]
  },
  {
   "cell_type": "code",
   "execution_count": null,
   "id": "e89b1dd7",
   "metadata": {},
   "outputs": [],
   "source": [
    "# 215 & 0\n",
    "0b11010111 & 0b00000000"
   ]
  },
  {
   "cell_type": "markdown",
   "id": "b9712cb1",
   "metadata": {},
   "source": [
    "If you were to bitwise AND a number against a bitmask of all 1's, you'd get back the exact same number, since if your original number had a bit with value 0, `0 AND 1` returns 0, and if your original number has a bit with value 1, `1 AND 1` returns 1."
   ]
  },
  {
   "cell_type": "code",
   "execution_count": null,
   "id": "3f4da783",
   "metadata": {},
   "outputs": [],
   "source": [
    "0b11010111 & 0b11111111"
   ]
  },
  {
   "cell_type": "markdown",
   "id": "b1c92909",
   "metadata": {},
   "source": [
    "We can use these bitmasks (with the shift operators) to create a method to read the value of a particular bit in a number.\n",
    "\n",
    "To read the value of a particular bit at a given position, you can use the bitwise AND (`&` operator) against a bitmask composed of all 0's except for one bit set to 1 at the desired location. The resulting number will have a 0 anywhere the bitmask had a 0, and retain the value of the bits anywhere the bitmask had a 1.\n",
    "\n",
    "Example #1:\n",
    "\n",
    "```\n",
    " number: 10100000\n",
    "bitmask: 00010000  <-- will return value of bit at b_5\n",
    "-----------------\n",
    "result:  00000000\n",
    "            ^ (the bit at b_5 was a 0)\n",
    "```"
   ]
  },
  {
   "cell_type": "code",
   "execution_count": null,
   "id": "9fc99593",
   "metadata": {},
   "outputs": [],
   "source": [
    "0b10100000 & 0b10000"
   ]
  },
  {
   "cell_type": "markdown",
   "id": "ab6189cc",
   "metadata": {},
   "source": [
    "Example #2\n",
    "```\n",
    " number: 10100000\n",
    "bitmask: 00100000  <-- will return value of bit at b_6\n",
    "-----------------\n",
    "result:  00100000  (32 in decimal)\n",
    "           ^ (the bit at b_6 was a 1)\n",
    "```"
   ]
  },
  {
   "cell_type": "code",
   "execution_count": null,
   "id": "7d04a91d",
   "metadata": {},
   "outputs": [],
   "source": [
    "0b10100000 & 0b100000"
   ]
  },
  {
   "cell_type": "markdown",
   "id": "51033cf8",
   "metadata": {},
   "source": [
    "If you were interested in just knowing the bit value, 0 or 1, and not keeping the rest of the output from the bitmask process, then all you need to do is right-shift the result (`>>`) the appropriate number of spaces.\n",
    "\n",
    "```\n",
    " number: 10100000\n",
    "bitmask: 00100000\n",
    "-----------------\n",
    "result:  00100000\n",
    "result >> 5 : 001\n",
    "```"
   ]
  },
  {
   "cell_type": "code",
   "execution_count": null,
   "id": "cdfd652d",
   "metadata": {},
   "outputs": [],
   "source": [
    "(0b10100000 & 0b100000) >> 5"
   ]
  },
  {
   "cell_type": "markdown",
   "id": "3e719265",
   "metadata": {},
   "source": [
    "### Question 1\n",
    "\n",
    "Write a function `get_bit` that takes in an integer (decimal or binary, remember Python treats them as the same) and the index of a bit in that number. The function should use the bitmask technique to return just a 0 or a 1 that matches the value at the indicated index in the provided number. **Remember, the right-most bit has an index value of 1!**\n",
    "\n",
    "**Hint:** Think about how you can use the argument passed to `bit_index` to construct the bit mask that you'll need to apply. Then use the AND `&` operation and right-shift `>>` to return just the indicated bit value."
   ]
  },
  {
   "cell_type": "code",
   "execution_count": null,
   "id": "f4c8f13b",
   "metadata": {
    "tags": []
   },
   "outputs": [],
   "source": [
    "def get_bit(value, bit_index):\n",
    "    bitmask = ...\n",
    "    result = ...\n",
    "    ..."
   ]
  },
  {
   "cell_type": "code",
   "execution_count": null,
   "id": "9d541814",
   "metadata": {},
   "outputs": [],
   "source": [
    "get_bit(0b10100001, bit_index=1)"
   ]
  },
  {
   "cell_type": "code",
   "execution_count": null,
   "id": "eee1214e",
   "metadata": {
    "deletable": false,
    "editable": false
   },
   "outputs": [],
   "source": [
    "grader.check(\"q1\")"
   ]
  },
  {
   "cell_type": "markdown",
   "id": "2a40bc93",
   "metadata": {},
   "source": [
    "### Setting a Bit\n",
    "\n",
    "Defining a bit to have a value of 1 is called *setting a bit*, and the operation similar to getting the value of a bit. You take advantage of the same bitmask as before, but instead of using bitwise AND, you use the bitwise OR (`|`, usually found near the enter key on your keyboard) operator.\n",
    "\n",
    "Think about why this would be true. The bitwise OR operator will match up corresponding bits in two numbers and return:\n",
    "* a 0 if both bits are 0, \n",
    "* a 1 if one bit is 0 and the other bit is 1, \n",
    "* a 1 both bits are 1. \n",
    "\n",
    "So if you wanted to set the bit at $b_4$ you could do:\n",
    "\n",
    "```\n",
    "number:  00010\n",
    "bitmask: 01000 <-- b_4's value is 1, rest of bits are 0\n",
    "--------------\n",
    "result:  01010 (10 in decimal)\n",
    "          ^ set to a 1 using the OR operation\n",
    "```"
   ]
  },
  {
   "cell_type": "code",
   "execution_count": null,
   "id": "023e82aa",
   "metadata": {},
   "outputs": [],
   "source": [
    "0b00010 | 0b01000"
   ]
  },
  {
   "cell_type": "markdown",
   "id": "91236fc6",
   "metadata": {},
   "source": [
    "### Question 2\n",
    "\n",
    "Write a function, `set_bit` that will set take in an integer and a the index of a bit in that number. The function should apply a bitmask that sets the bit at the indicated index to 1, and return that result."
   ]
  },
  {
   "cell_type": "code",
   "execution_count": null,
   "id": "3e008409",
   "metadata": {
    "tags": []
   },
   "outputs": [],
   "source": [
    "def set_bit(value, bit_index):\n",
    "    bitmask = ...\n",
    "    result = ...\n",
    "    ..."
   ]
  },
  {
   "cell_type": "code",
   "execution_count": null,
   "id": "f90b235d",
   "metadata": {},
   "outputs": [],
   "source": [
    "set_bit(0b10, bit_index = 4)"
   ]
  },
  {
   "cell_type": "code",
   "execution_count": null,
   "id": "f1d6e165",
   "metadata": {
    "deletable": false,
    "editable": false
   },
   "outputs": [],
   "source": [
    "grader.check(\"q2\")"
   ]
  },
  {
   "cell_type": "markdown",
   "id": "f56f3dc9",
   "metadata": {},
   "source": [
    "### Unsetting a Bit\n",
    "\n",
    "Defining a bit to have a value of 0 is called *unsetting a bit* or *clearing a bit*. You can use a bitmask and the bitwise AND (`&`) operator to accomplish this task.\n",
    "\n",
    "```\n",
    "number:  10010\n",
    "bitmask: 11101 <-- b_2's value is 0, rest of bits are 1\n",
    "--------------\n",
    "result:  10000  (16 in decimal)\n",
    "            ^ unset to a 0 using the AND operation\n",
    "```\n",
    "\n",
    "Notice how this is very similar to setting a bit, only the bitmask is inverted. That is, all the 0's are now 1's, and vice versa. It turns out, there's an operation that can do this for us! The invert (`~`) operation will invert an integer's binary form."
   ]
  },
  {
   "cell_type": "code",
   "execution_count": null,
   "id": "8a446f0a",
   "metadata": {},
   "outputs": [],
   "source": [
    "0b10010 & 0b11101"
   ]
  },
  {
   "cell_type": "code",
   "execution_count": null,
   "id": "e2e2e9c4",
   "metadata": {},
   "outputs": [],
   "source": [
    "0b10010 & ~(0b00010)"
   ]
  },
  {
   "cell_type": "markdown",
   "id": "df12e6f6",
   "metadata": {},
   "source": [
    "### Question 3\n",
    "\n",
    "Write a function, `clear_bit` that will set take in an integer and an index of a bit in that number. The function should apply a bitmask that unsets the bit at the indicated index to 0, and return that result."
   ]
  },
  {
   "cell_type": "code",
   "execution_count": null,
   "id": "af6b81e0",
   "metadata": {
    "tags": []
   },
   "outputs": [],
   "source": [
    "def clear_bit(value, bit_index):\n",
    "    bitmask = ...\n",
    "    result = ...\n",
    "    ..."
   ]
  },
  {
   "cell_type": "code",
   "execution_count": null,
   "id": "ab9ce037",
   "metadata": {},
   "outputs": [],
   "source": [
    "clear_bit(0b11111111, bit_index=6)"
   ]
  },
  {
   "cell_type": "code",
   "execution_count": null,
   "id": "5fd2628d",
   "metadata": {
    "deletable": false,
    "editable": false
   },
   "outputs": [],
   "source": [
    "grader.check(\"q3\")"
   ]
  },
  {
   "cell_type": "markdown",
   "id": "22af8a25",
   "metadata": {},
   "source": [
    "### Toggling a Bit\n",
    "\n",
    "Lastly, sometimes you'll just want to toggle a bit from a 1 to a 0 or vice versa. We can accomplish that using a bitmask with a bitwise XOR (`^`) operation. Remember, the bitwise XOR operation returns:\n",
    "\n",
    "* a 0 if the corresponding bits are the same (both 0's or both 1's)\n",
    "* a 1 if the corresponding bits are different (one is a 0 and the other is a 1)\n",
    "\n",
    "Example #1\n",
    "```\n",
    "number:  10010\n",
    "bitmask: 00100 <-- b_3's value is 1, rest of bits are 0\n",
    "--------------\n",
    "result:  10110 (decimal value of 22)\n",
    "           ^   toggled using a 1 in the bitmask with the XOR operation\n",
    "```"
   ]
  },
  {
   "cell_type": "code",
   "execution_count": null,
   "id": "f1a5ed18",
   "metadata": {},
   "outputs": [],
   "source": [
    "0b10010 ^ 0b00100"
   ]
  },
  {
   "cell_type": "markdown",
   "id": "a873ade2",
   "metadata": {},
   "source": [
    "Example #2\n",
    "```\n",
    "number:  10010\n",
    "bitmask: 10000 <-- b_5's value is 1, rest of bits are 0\n",
    "--------------\n",
    "result:  00010 (decimal value of 2)\n",
    "         ^     toggled using a 1 in the bitmask with the XOR operation\n",
    "```"
   ]
  },
  {
   "cell_type": "code",
   "execution_count": null,
   "id": "8d8e052f",
   "metadata": {},
   "outputs": [],
   "source": [
    "0b10010 ^ 0b10000"
   ]
  },
  {
   "cell_type": "markdown",
   "id": "f1e91ed0",
   "metadata": {},
   "source": [
    "### Question 4\n",
    "\n",
    "Write a function, `toggle_bit` that will set take in an integer and an index of a bit in that number. The function should apply a bitmask that toggles the bit at the indicated index and return the result."
   ]
  },
  {
   "cell_type": "code",
   "execution_count": null,
   "id": "f9225925",
   "metadata": {
    "tags": []
   },
   "outputs": [],
   "source": [
    "def toggle_bit(value, bit_index):\n",
    "    bitmask = ...\n",
    "    result = ...\n",
    "    ..."
   ]
  },
  {
   "cell_type": "code",
   "execution_count": null,
   "id": "e7a1a6b7",
   "metadata": {},
   "outputs": [],
   "source": [
    "toggle_bit(0b10010, bit_index=3)"
   ]
  },
  {
   "cell_type": "code",
   "execution_count": null,
   "id": "d96a9675",
   "metadata": {
    "deletable": false,
    "editable": false
   },
   "outputs": [],
   "source": [
    "grader.check(\"q4\")"
   ]
  },
  {
   "cell_type": "markdown",
   "id": "58e6aae0",
   "metadata": {},
   "source": [
    "## LFSR PRNGs\n",
    "\n",
    "Now that you understand how to shift, get, set, unset, and toggle bit values we know more than enough to write a function that can mimic the LFSR process of generating pseudorandom digits. Let's recall the process of an LFSR, but use the language of shift, get, set, unset, and toggle to describe the operations.\n",
    "\n",
    "We'll define the LFSR system of having a current state defined by the bits: $b_n, b_{n-1}, ..., b_2, b_1$ (this is like a row in the table representation that you've seen in class) and an output stream defined by $k_n, k_{n-1}, ..., k_2, k_1$ (these are the bits that are in the right-most column in the table representation in class).\n",
    "\n",
    "An LFSR System:\n",
    "* **gets** the value of the bit at $b_1$ in the current state\n",
    "* The output stream is **left-shifted** by 1, and the value of the new $k_1$ is either **set** or **unset** to match $b_1$\n",
    "* Using the LFSR definition, you **get** the value of some of the bits and **XOR** those values\n",
    "* The current state is **right-shifted** by 1\n",
    "* The result of the XOR is used to **set** $b_1$ in the shifted current state"
   ]
  },
  {
   "cell_type": "markdown",
   "id": "0ba34fd9",
   "metadata": {},
   "source": [
    "### Question 5\n",
    "\n",
    "Write a function, `lfsr8` that implements an 8-bit LFSR system with taps at bits 5, 4, 3, and 1. The function should take in a seed value and an integer that represents how many bits the LFSR should output. Use the comments in the scaffolded function below to help you think through what you could do to complete each operation."
   ]
  },
  {
   "cell_type": "code",
   "execution_count": null,
   "id": "82a36de6",
   "metadata": {
    "tags": []
   },
   "outputs": [],
   "source": [
    "def lfsr8(seed, num_bits):\n",
    "    \"\"\"\n",
    "            8 7 6 5 4 3 2 1 (bits == 8)\n",
    "           ┌─┬─┬─┬─┬─┬─┬─┬─┐\n",
    "        ┌─→│1│0│1│0│0│0│0│1├─→ output\n",
    "        │  └─┴─┴─┴┬┴┬┴┬┴─┴┬┘\n",
    "        └──────XOR┘ │ │   │\n",
    "                └─XOR─┘   │\n",
    "                      └XOR┘\n",
    "                          (taps == 5, 4, 3, 1)\n",
    "    \"\"\"\n",
    "    current_state = seed\n",
    "    output = 0\n",
    "    \n",
    "    for i in range(num_bits):\n",
    "        \n",
    "        # gets the value of the bit at $b_1$ in the current state\n",
    "        output_bit = ...\n",
    "        \n",
    "        # left-shift the output stream by 1\n",
    "        shifted_output = ...\n",
    "        \n",
    "        # if the output bit is 1, set k_1 to 1\n",
    "        if output_bit == 1:\n",
    "            output = ...\n",
    "        else: #else, just leave k_1 as 0 (assign shifted_output to outpust \"as is\")\n",
    "            output = ...\n",
    "        \n",
    "        # Get the value of bits 1 and 7 and **XOR** those values to generate a new bit\n",
    "        new_bit = ...\n",
    "        \n",
    "        # Right-shift the current state by 1, creating room for a new bit at position 8\n",
    "        shifted_current_state = ...\n",
    "        \n",
    "        # if the new_bit is 1, then set b_8 in shifted_current_state to 1 and assign to current_state\n",
    "        if new_bit == 1:\n",
    "            current_state = ...\n",
    "        else: # otherwise, just leave b_8 as 0 by assigning shifted_current_state to current_state\n",
    "            current_state = ...\n",
    "    \n",
    "    return output"
   ]
  },
  {
   "cell_type": "code",
   "execution_count": null,
   "id": "50dd16f2",
   "metadata": {},
   "outputs": [],
   "source": [
    "format( lfsr8(0b10100001, 100), 'b')"
   ]
  },
  {
   "cell_type": "code",
   "execution_count": null,
   "id": "3f8db1d9",
   "metadata": {
    "deletable": false,
    "editable": false
   },
   "outputs": [],
   "source": [
    "grader.check(\"q5\")"
   ]
  },
  {
   "cell_type": "markdown",
   "id": "38034aac",
   "metadata": {},
   "source": [
    "## A known-plaintext attack in action\n",
    "\n",
    "When data is stored on the computer as a file, there's frequently some additional data tucked away in the file called *metadata* or a *file header*. This additional data is usually used by your computer to help identify what kind of data the file contains (i.e. is it an image, a spreadsheet, a database, etc.) so it knows what to do with a file when you double click on it in your file explorer. These *file headers* are usually very well structured to help the computer to know what data to find where. This structure, however, can be helpful to an attacker! Since the header is going to be the same for every file of the same type, if the attacker knows what kind of file was encrypted then they have some guaranteed known plaintext about the file.\n",
    "\n",
    "Take for example the following blue square, saved as a *bitmap file*, which is an image file that ends in `.bmp`."
   ]
  },
  {
   "cell_type": "markdown",
   "id": "29414ddf",
   "metadata": {},
   "source": [
    "![Blue Square](blue.bmp)"
   ]
  },
  {
   "cell_type": "markdown",
   "id": "1dc2e234",
   "metadata": {},
   "source": [
    "Using a special tool called `xxd` we can inspect this file at the the bit level. Run the cell below to show the first 78 bytes (624 bits) of the file."
   ]
  },
  {
   "cell_type": "code",
   "execution_count": null,
   "id": "17a6cc73",
   "metadata": {},
   "outputs": [],
   "source": [
    "!xxd -l 78 -b blue.bmp"
   ]
  },
  {
   "cell_type": "markdown",
   "id": "082622b6",
   "metadata": {},
   "source": [
    "The first column is a counter of how many bytes have been displayed. The counter keeps track in hexadecimal. The far-right column displays each byte (8-bits) as an ASCII character, if that value corresponds to a printable ASCII character. The middle columns show the data stored in the file."
   ]
  },
  {
   "cell_type": "markdown",
   "id": "b39cde82",
   "metadata": {},
   "source": [
    "Now, take this image of a gold square\n",
    "\n",
    "![Gold Square](gold.bmp)\n",
    "\n",
    "and inspect the first 78 bytes of it's contents:"
   ]
  },
  {
   "cell_type": "code",
   "execution_count": null,
   "id": "26c7917c",
   "metadata": {},
   "outputs": [],
   "source": [
    "!xxd -l 78 -b gold.bmp"
   ]
  },
  {
   "cell_type": "markdown",
   "id": "b3d9e53f",
   "metadata": {},
   "source": [
    "Visually inspecting the contents of both files shows that they have the exact same contents up to the row labeled `00000036`. That means that the first 54 bytes (432 bits) of data are identical in these two files! The actual data about the image itself bust not start until row `00000036`, and everything before is part of the image *header*.\n",
    "\n",
    "Let's see how knowing that all bitmap files of this type will start the same could be helpful to us as an attacker when someone reuses a keystream."
   ]
  },
  {
   "cell_type": "markdown",
   "id": "a1ccb4c5",
   "metadata": {},
   "source": [
    "## Working with the binary\n",
    "\n",
    "The code below will pull out the binary that represents the entirety of the `blue.bmp` and `gold.bmp` files and store them as integers named `plaintext_blue` and `plaintext_gold` respectively."
   ]
  },
  {
   "cell_type": "code",
   "execution_count": null,
   "id": "2ddf2e48",
   "metadata": {},
   "outputs": [],
   "source": [
    "from struct import unpack\n",
    "\n",
    "plaintext_blue = ''\n",
    "plaintext_gold = ''\n",
    "\n",
    "with open(\"blue.bmp\", \"rb\") as file_object:\n",
    "    my_file = file_object.read()\n",
    "    for i in range(0, len(my_file)):\n",
    "        plaintext_blue += format(my_file[i], '08b')\n",
    "\n",
    "    plaintext_blue = int(plaintext_blue, 2)\n",
    "    \n",
    "with open(\"gold.bmp\", \"rb\") as file_object:\n",
    "    my_file = file_object.read()\n",
    "    for i in range(0, len(my_file)):\n",
    "        plaintext_gold += format(my_file[i], '08b')\n",
    "    \n",
    "    plaintext_gold = int(plaintext_gold, 2)"
   ]
  },
  {
   "cell_type": "markdown",
   "id": "bfc60e32",
   "metadata": {},
   "source": [
    "Let's look at the last 100 binary digits of these files. We can see that while the start of the files was the same due to the header, the end of these files are in fact different."
   ]
  },
  {
   "cell_type": "code",
   "execution_count": null,
   "id": "8dc85476",
   "metadata": {},
   "outputs": [],
   "source": [
    "format(plaintext_blue, 'b')[-100:-1]"
   ]
  },
  {
   "cell_type": "code",
   "execution_count": null,
   "id": "f16716a3",
   "metadata": {},
   "outputs": [],
   "source": [
    "format(plaintext_gold, 'b')[-100:-1]"
   ]
  },
  {
   "cell_type": "markdown",
   "id": "65a790e9",
   "metadata": {},
   "source": [
    "### Question 6\n",
    "\n",
    "Use the `lfsr8` function to generate a keystream with the seed value of `0b11010101` that's long enough to encrypt each of these files. Use the same keystream to encrypt each plaintext. Store the ciphertext to `ciphertext_blue` and `ciphertext_gold` respectively. The ciphertexts should be integers!\n",
    "\n",
    "**Hint:** Don't forget that the `.bit_length()` method can be used to figure out how many bits are needed to represent a number in binary!"
   ]
  },
  {
   "cell_type": "code",
   "execution_count": null,
   "id": "c8ace252",
   "metadata": {
    "tags": []
   },
   "outputs": [],
   "source": [
    "keystream = lfsr8(0b11010101, plaintext_blue.bit_length())\n",
    "ciphertext_blue = plaintext_blue ^ keystream\n",
    "ciphertext_gold = plaintext_gold ^ keystream"
   ]
  },
  {
   "cell_type": "code",
   "execution_count": null,
   "id": "65cf8bed",
   "metadata": {
    "deletable": false,
    "editable": false
   },
   "outputs": [],
   "source": [
    "grader.check(\"q6\")"
   ]
  },
  {
   "cell_type": "markdown",
   "id": "cddea94e",
   "metadata": {},
   "source": [
    "Looking at the first 400 bits of the ciphertexts, we can see that the plaintext bitmap headers were in fact encrypted to the exact ciphertext."
   ]
  },
  {
   "cell_type": "code",
   "execution_count": null,
   "id": "c95ebef6",
   "metadata": {},
   "outputs": [],
   "source": [
    "print(format(ciphertext_blue, 'b')[0:400])"
   ]
  },
  {
   "cell_type": "code",
   "execution_count": null,
   "id": "2f8e3fc8",
   "metadata": {},
   "outputs": [],
   "source": [
    "print(format(ciphertext_gold, 'b')[0:400])"
   ]
  },
  {
   "cell_type": "markdown",
   "id": "3035cf67",
   "metadata": {},
   "source": [
    "It's this predictability is what leads to the opportunity of a known-plaintext attack!\n",
    "\n",
    "Suppose you thought that the encrypted file was a bitmap (`.bmp`). You could XOR this intercepted ciphertext (for either file!) with the known header for bitmap files, which would produce the first 400 bits of the keystream. Unless your keystream has a long enough period, these 400 bits of the keystream that were recovered would be more than enough to deduce the seed value of the LFSR. In fact, obtaining $n$ bits of the keystream for an $n$-bit LFSR is enough to determine the seed value! Since we used an 8-bit LFSR to encrypt these images, knowing just 8 bits of the header would be enough to eventually produce the entire keystream and decrypt the entire file."
   ]
  },
  {
   "cell_type": "markdown",
   "id": "722c2062",
   "metadata": {
    "deletable": false,
    "editable": false
   },
   "source": [
    "## Submission\n",
    "\n",
    "Make sure you have run all cells in your notebook in order before running the cell below, so that all images/graphs appear in the output. The cell below will generate a zip file for you to submit. **Please save before exporting!**"
   ]
  },
  {
   "cell_type": "code",
   "execution_count": null,
   "id": "48633f1e",
   "metadata": {
    "deletable": false,
    "editable": false
   },
   "outputs": [],
   "source": [
    "# Save your notebook first, then run this cell to export your submission.\n",
    "grader.export(pdf=False)"
   ]
  },
  {
   "cell_type": "markdown",
   "id": "a3151d7a",
   "metadata": {},
   "source": [
    " "
   ]
  }
 ],
 "metadata": {
  "kernelspec": {
   "display_name": "Python 3 (ipykernel)",
   "language": "python",
   "name": "python3"
  },
  "language_info": {
   "codemirror_mode": {
    "name": "ipython",
    "version": 3
   },
   "file_extension": ".py",
   "mimetype": "text/x-python",
   "name": "python",
   "nbconvert_exporter": "python",
   "pygments_lexer": "ipython3",
   "version": "3.9.6"
  },
  "otter": {
   "tests": {
    "q1": {
     "name": "q1",
     "points": 1,
     "suites": [
      {
       "cases": [
        {
         "code": ">>> get_bit(0b10100001, bit_index=1)\n1",
         "hidden": false,
         "locked": false
        },
        {
         "code": ">>> get_bit(0b10100001, bit_index=2)\n0",
         "hidden": false,
         "locked": false
        },
        {
         "code": ">>> get_bit(0b10100001, bit_index=6)\n1",
         "hidden": false,
         "locked": false
        },
        {
         "code": ">>> get_bit(0b10100001, bit_index=8)\n1",
         "hidden": false,
         "locked": false
        }
       ],
       "scored": true,
       "setup": "",
       "teardown": "",
       "type": "doctest"
      }
     ]
    },
    "q2": {
     "name": "q2",
     "points": 1,
     "suites": [
      {
       "cases": [
        {
         "code": ">>> set_bit(0b10000000, bit_index=6)\n160",
         "hidden": false,
         "locked": false
        },
        {
         "code": ">>> set_bit(0b10000000, bit_index=5)\n144",
         "hidden": false,
         "locked": false
        },
        {
         "code": ">>> set_bit(0b10000000, bit_index=3)\n132",
         "hidden": false,
         "locked": false
        },
        {
         "code": ">>> set_bit(0b10000000, bit_index=1)\n129",
         "hidden": false,
         "locked": false
        }
       ],
       "scored": true,
       "setup": "",
       "teardown": "",
       "type": "doctest"
      }
     ]
    },
    "q3": {
     "name": "q3",
     "points": 1,
     "suites": [
      {
       "cases": [
        {
         "code": ">>> clear_bit(0b11111111, bit_index=6)\n223",
         "hidden": false,
         "locked": false
        },
        {
         "code": ">>> clear_bit(0b11111111, bit_index=4)\n247",
         "hidden": false,
         "locked": false
        },
        {
         "code": ">>> clear_bit(0b11111111, bit_index=3)\n251",
         "hidden": false,
         "locked": false
        },
        {
         "code": ">>> clear_bit(0b11111111, bit_index=1)\n254",
         "hidden": false,
         "locked": false
        }
       ],
       "scored": true,
       "setup": "",
       "teardown": "",
       "type": "doctest"
      }
     ]
    },
    "q4": {
     "name": "q4",
     "points": 1,
     "suites": [
      {
       "cases": [
        {
         "code": ">>> toggle_bit(0b10010, bit_index=3)\n22",
         "hidden": false,
         "locked": false
        },
        {
         "code": ">>> toggle_bit(0b10010, bit_index=5)\n2",
         "hidden": false,
         "locked": false
        }
       ],
       "scored": true,
       "setup": "",
       "teardown": "",
       "type": "doctest"
      }
     ]
    },
    "q5": {
     "name": "q5",
     "points": 3,
     "suites": [
      {
       "cases": [
        {
         "code": ">>> type(lfsr8(0b10100001, 100)) == int\nTrue",
         "hidden": false,
         "locked": false
        },
        {
         "code": ">>> lfsr8(0b10100001, 100)\n662979776157205528967939712391",
         "hidden": false,
         "locked": false
        },
        {
         "code": ">>> lfsr8(5, 100)\n792969008143519772445665127915",
         "hidden": false,
         "locked": false
        },
        {
         "code": ">>> lfsr8(0, 50)\n0",
         "hidden": false,
         "locked": false
        }
       ],
       "scored": true,
       "setup": "",
       "teardown": "",
       "type": "doctest"
      }
     ]
    },
    "q6": {
     "name": "q6",
     "points": 1,
     "suites": [
      {
       "cases": [
        {
         "code": ">>> type(ciphertext_blue) == int\nTrue",
         "hidden": false,
         "locked": false
        },
        {
         "code": ">>> type(ciphertext_gold) == int\nTrue",
         "hidden": false,
         "locked": false
        },
        {
         "code": ">>> ciphertext_blue\n16267953061700775952887717715792098970593365942160006852408290705373236889804031194352091777420084799431343486826680244795228057303439480156111900950564034215160614149855926173668450182721345075154550627966060718369782832660275636132672314049454340292579371116033066668004069998429021394694673288534380551908014904907286441813496887475936357363471621312392049922517780845755276321145306307626151679740505425986975263600386573378226164523711212037001780012646045956346871531925449077602577520746977728549914114299556872459935113174006040319897599862271750980601001431944313977726562118456794790179053990326341310200109647673913863922124522329422474141549046814605226453392534736150899514434757700834872069444493955514102819887099308305079180489902176826540672758642691157110563660101374143545326295522729291345287131133879038254280490861554352570234382587116758349751699724012338433355435824153682485832662319861414352625386149513508882318828100973297418943634344347765737991737866732417118983082803108580709258607503795691368714426979290694788495390126788596078574839959200234098269299106145584943381643513120720748280834363506911905906433472339023974594887869423868776916468845943582219848240782399182098761652450907253299445285654862735485460527282792838401549858033991273893460245483348385631894868735464942821640497377749437210374704223057433600810734383325749310619114966399552007315054553940221328720619368615872665485899823023249064135894799122715570239621838892513664738644449277725589462035954971957938392403370762355389137493678458559523367859221335798119402898482302894768196085545934718951052074857302158922468440061111691293268365576038620622674555184669842355263699667682160008421824848240864777041683633168068637149000211678006104729427410612889691663194996799033990123550538244188299781213347855374781219955506205687441402304800846155622003079594174007781463730241410726904911686078690775619072582701937334776888683777517975810880169682183492570328425210740451398671700982291577527500128539393017171399096454191633514904237001975100696873229295175253775719893743441314217239925696464570318286739027299984970256845400125207081899027259380723688432704774807854075735848665349336779621043482343310507709084615737552185472821303884607926287180730628307523776845015812653463986496418863090043335332037651864247605734911441307054647120773994000214969384430222331087905607761722887010710769036584124661068231839377306116971576417985470854459275927390815381195848408667124401686326161043556500085052481710646840167841863225590960522664352581057793186603983137363191249886354219391855833946487445426499622311380012747656004273100358350671327205406783127958290878029578106547936977636852923960867269600223688906038577683110865554769353611515273565588141708310286420092857257558762696188018773430048457404997520157707261637733985012947640664660233245160808609350113776997210450739505481732423340007169009227807807233393503728222879832981592661542219779666726937684055102269714623572960378145502817724827448788249820358802913977695297729054053080284901885553315622598325910684805206421554592279997124206753999456780760112854489963660806800838486942792492898287760991157172939597737664473373551580574340469713432147760114359813341776430354682407584508071792903882801057578566178951627480237581293309789898127155153868183210175744578530920746692321233449946293832949979945495670966668595264249017983371608908365566084731108871714459677423997164314254383917572409450327526051127023889318277765799089073461619071186310330369606325148206558381068273899887333881778924617860750220283222418718569745213784791489939172222922716526703325698959511778507564150437170818607354733209623028320351971374320506483810810767226802027576102452029185247171731674542171506610116286761036386363779129881137757330281458453826058965263880833275029018016188772712022312697124631907915428843502580314610087894980727379364154170580460932843895464725531636139855621315631566707422130715350882572841833574169421645543200017935715190746461069274783505277140467299321542333925772754814336810710125475130892713825591142990905000929438853533601878957869028580355988679649019290830916733931892456557972230668012859026524590991782796525505218558899998169780252292548691072720824603200197799452385912027018499201558725528538091957229426752787238405174514681258293328642847851994425545845323749118058831544679876897212827798143278475439933681392851005939231146251191915005219183393294750110973746081503665143900101600210765406831964627821998010278760881293682369039938844733219799649000984135461461274483765937534350035288627078758169175314147033804234262471215170087297372983846025759342880359009983563030151771136066934469701784584006474442854537935690042643502921610305040719979491263967123226672924053627103714659359201429413340775156964582112938967897902182242921449567291915282423731357885432157667467537330165955105501691388763818399187760402195624502858282882248491014749566652096534813623804679870738225210942434692791548756392177764738709847642126627337129368844685129256642728498204931674723474220581180804254513434242184244718089277046452211094354332594727347110081393795818798251244746087319974566856062786539995641048362814457180267264375833441602641200648228319356199508907887227958997274658349726232921593030433422381838720447885496511721079559272423148454096209735470943703518454761374354145190683640170279507260621458009543259429862222638431280347172576170872840770823359846664586980943723595888203596575051310295676557303015400822551755851313187517280798462226928151051201898362564152471800189441418361861172798702584368290353794769312401922485435720850954782551544904984317807303048597710734979170902819923978850373569249976527137324773019729992452554373820412851114821253160962790555264146498170384262517015380816399484150440215045378638012734178396264174476571945894694777561270090657939037551572150460124333261095350546861683163832866056072731712892292580417202530670619404644978629873673694998569891098796238419114346516554292562047628782116662048116387915216607247855065558535495208102996253420168088515217568639701833341159796738740890548459342878434877693026570686681680783516231608109437907311802194152136870042186443675997591697154635259095070032109484739871540713983813442640144057629960610096859288346408501303421608453556837458726021830075145078275780113116703672027978332084632465649142089064610835396734712813951525668304060853155909870301981868105382137738944215739495500241631334093431323097121904069665733817415327204929187938396530148166717801881507047231787822419290161159941786320122864806627947163310871914892181578600019237822688822804259003198927302100524966023120628261216884475525186768739801894852616072875093997811643423969059281172333570379757793478086746483079632339088718912781690590764907277625446622661544566264533909393774782421917998301472731300455639538941668802545299727041632412962558899853677159359644628466155642747562049381926630146248650544299408274817883099459593357470186289347333965823626011730088904424682736174168042337750184205212826209453096058420479738233602054023795151277203682368634244328023697124525646771882587337646270974589140568969690329352906145464211794093206336038132652256296389238744007395121526222672691464208815296237562496668557708789744253952433238369849241813623691114872314386588068234074369918570874966648543689894307089054569113662698747521461311619221320333395029472596503399435949326163072677330984267144939545218358432260270430473086434364978050557259051578257413869781885694443951807981437343388584912791273344777862763695520021309369877538582881963289339934412972916874002676834210440210772118244009027505088152831270963596064208397304556608395938764573047362289698565681082085519333609149867171559269902212455711016248592819418735694273636075757099900720092009081355819632876511105173496987403500349113390506281246670776811526688899556638154703916115706077056314344006063293974814260204799797586183058461598105243038779648714325592781050464515815651992511724311790002362523701426745372392802361079344556770824350350712612497737950877622479911430697132708911290920989155853233216552602147403886382936017591215366387204865569156078807952538521251861453310183735959858998034342133158993176618923809048759029154353999625183167048603519436962232678025085286217582562401704512949519184553086452710526448010511809411505758867223568107521689546496896356241395826271090881393313792939095448251516447254339174382899247788463813984604865341498127756655672560607615019546897657240015751107073479034699457874914713491314017418785634023031100034757182611228715536073915115708678929343458557782933816391081622591870680873693169005131647834287067907990451080801776173193920149482365417101206871291755570197034590041113279302816395823302977442947284311495423083345885816083837974663673648185180360930076272065294420025165166172891281406637731713870608921546166177875361560478171396591450515009510320444847119434690680208382246225419986832373326191432776956778240649418819405543472893431787625775489906083908535281215916251122023556942966627497861358745811820952034932569237626425422205926610547236899890365092340891134906253952478566133775635987244573323635680426144256588438712816672033248486939089621098065661835503029400925422226658092955905556037619785660958231506182275101792629845494926509828698704244481247698788345194275257540596875803504271760264508835973778631131194726858724727598297367288518369086983864890857876835617281141342581640146022030225214631947288308133495099813608448399478870569490698842649488422973750722497393244416273746764897323200519194258467427612145486174862724133499073335706419874168179111848613740186988221673626257155506698903771109551903497173247941734260310651344716383796443361467382679420894013791967476090969982905955866261288285238742830995721543242093062007942582537401560133183894291786861132289554096444922615985360120609326199734784622472527239324029952379997579432658887591802567777666496771756233020345923217143471400188523063297293584981378251596465218774904943980234659049118485371376404038213090139237436593469052240398263383167611353163115734090074840033297254493741193293090087339234384672628898199773274687659093796112434185771436221351481657193594340416090375497400305864843786944730488236933879147391656249925626913798742662555245563263522268124817317436708701665843018345270769228769257970870336053499366692490848972691149311839142662914581916026401880801555140238194446809264068206253603874175853088589022357739315007860133685034940481726198177498782269827886915748801636489272880178751273774908877249631648489710994764649833400155344987092829740829844217883132219612663231395602284104199797996645971221344915116231345579739402940195193477914205133559374437665054294971496156921946847533807304838830425189796367748257441208869472191710003141696774195347580549196167332887236403243687985446750516921901299187880697046703076573150379360011371854696680052060017722350397142882279638114228422979664148578170580394303295613199549952582205680486926830344817750032512298055451177322056737918531532254884633236223724067531405468676522526696444741460022317109632818498288407110180445910342498122538230236968037637629703663352002826767107162063663392923935146915252867115874972049891552583789217624670571377870180198901016215608988021558400427934789003691090319447278603326521210210110765301267566411107068809944255112010352832523018675079796933453674928941070437867914340919721430002415533239086110085215231348959072236729143974213969156679296652101309827793862894127551971040341446467196034143795936291410327160600296110696479804983575488202213863925963644632183208129807002695463385412030900219054932102789108513823424608477804272846817091986346564763788924851394252010164319983432179711814982591889104327153604402756042165067456048680939154099564059409000882330027979239597817263467406671837211115217875749503352990774041609915587700543764333115129872807720895403256303307033231451348460336247258428569831163604938367948760781575837802369498398756748185561460048820801510956671998243030931963232060715169262115711410755446968355200676842181703833065037656773788898491669003606229828248218223420324245200486164743835408199667459933604526653856728104338858811807775693062988542018658798034313490940017129497841264366180361693103824070799052803697977663809342502985080221836590358081802594791364522166903473890970733628778790987032475521792116204141787878695822610695061517622980238969024101271576288449438863448079906039230278615347340700165326135635104480092122730487633073240819566445691653625614858932419519995981183525869122099378189752144066700703534599185598173050403792897637285871725995990273546020365637703808132590705735408611824023520739253210788048666687723328112442030304724969103729937936447483779062923835724431158580099482858499399475467176351331801728262467149990616703837243194457481083663549504579365832370839828929181872706931654070876304203307040039983087192369760205087586015109509167464648902331434017041200871896511013647217839115532066483398400057782173528842798091653398368639040712924999159407328983823441817452794587887269980441679005712549873384788002749780270357306937276270095500527224154925599200713924826781116602625494391539075528454181988207744998881888005900628739434838741509482100211002635473280893148848696765702825989039332380109471838799511380340885723751640128661908492656280127646297850013417367806550500299149583944319056242963070477874456864878224005700459525303548450706857148458987258469245077060313028886265293598800551435287861525341256885304409795416072691506416143045253085839329095564606641364927167830341572287452510293330804067362819815849398792943200717376303248534394523484388899439062899729253260085584480672761630649264025316894802351448574010699433605577456051547940455983690516563638728050277432489771561895284653120640159415775188437542495347414353575577960664578045283288958235396097831527073395547578051864670866932550278096896635768394203114570421120797414713852131287321770024763365498906042420069411776384645142247047276688474214517591020928896291989288703074567391238474715025917410264582675486525791066998512945246686036170986808835711277578834011167395487868288905361067472717919729316374150841739381000880444711315693556838618750514923001515540579329748813776988622221947190708310992213360336097987157771122869575015914804691225255870010212023085451214566650848994285158019270164340651928273477816233972598657967661935245482144904418105088738578260556838398725840211941824659553083887458103014225701318865152261669206832612611303375416798055578221064033687099169678081366775748786478778645759088646892573658373705306177270698858577514253952119180645518102657629650935538581468568174798630509055527357348337894712453473703935564768934857194216995259159672073197125969667115241114293107162535983665856456582030896133087109302843559008149643118231622618730226141680254995881566612935273992785982043666313514659866966486066344439271312495320663960630039319680711474813215679285409912385266550385011134973433879217039603987447293345362290528923080465525968056170066314938559009146916071471436916083174944942472708509050782996975881585640602375085902765010072804459203633359342026363285090628643963633791853247997635549491476053974416123298355408703221291045155757886488618976256907737241193072118771818742342127044772153381456705052711210377495394054267949787744358284320967643526095751884627475729380645462896236604617995079998155099294286835275772703240002784418359538932369520923160799955578649216269496239448634840128150334597003727906830961498522409659052033723601657878332532589498341999871442781561307380765969858248149523058462394727734696416593637990313764616524072596847449081659450167867323918171582511945048203292696775569309259049001000727035611112981690799664396117684847613171290583694755831261781283112138191078872054025144142793811783080674238973089535233064459485614213773006292436925493010056691512107701516670397822963366796686656028849350211860357181308339527981402162576276617999715862390687174024527223619193689641368343725050141652559502721588829724571604021991226878407955126589895332212354189268614619898577050261179500092202030913605415100233154056886698335117125431323541802130710810255784579804406404827780771392274286687648618131320543761322450444906184267116765004745135948500176419246695713873750200999275117083077293287218873989578243429644532106596525575170355856940253230463224135585040434836537558986238396607330413142583267363374019249309376790578547294968850082556089698015283298048495138302421950636016546063527317220933002259055097185873785943956997018533375245366745021402067078314244062271289018736940935989592501441038057141221053808812792785377328058678177412901612624467179326945488187087230773104764087613379078531779020454978586952834950376396939017533106587915082984266135662081345112158141335578927415954838049354045413296937750380500537531255027744026121800473685682959591770590617283449159568001490067991588946491648622841358214592160788938390106824054003084529518074342643507332864501608230777889493148517269877513700948254980281943557565080961349587583247509042312594893741509830034795370633006831202692017947945025323125196211357215730610199185088272102199831708214845100164943396104463578597113606891021313504966814083671002099341684404592816089874257486609131874098651121065041516607888351117056206483150538899390821375027713084945489250240933613390751410252289153213901402519440019462625277092988237190586965893745884974703300365923795007066737946345446681317201676371487544972386855147032379141814220008977711244529749803012994727577280816390358544984677505363451097303699396456338825013841240704756570810486054024543010712009740098871887929020186246093869343514557048486844823545546720771069221510244840225423350978393722395936089529870755700569580820326010224866471501888138476518042174447972515848554079272211067688190374014675159295005648538172654465308388841889448669191959675810007003003055165674599236378504649330597010094776511448043775544448192135080676774808194690813381430259186034743318396085312894522422309978853634648030200590768315502731853010782350469983231654948728751849565479911954235090488455019909944627620171300835924575605976349733803205101078752419131977846529245060054193014010380475818379089494929566620657491876978160291648035947022275219598077964372865016869608945937689341608777116715754203831339520918439271509774804071436999120816130123627757354456555900324692569865180573654478733229662970141255499865043127394616960678509568330827284440233619307022953580652441793553149540240735850559338987941732487725697586773196478552111330791343161112782681944647796647485887454742537702118349056268271411650548698865602331669465887483198580025968158991837270828170824323893243991212317051217387002677579147325386579118907152013264662862400009973743104517231087252711629088819899559733042146037860956331742753958391199205757065284708718472654833346742043589780123229896566748320559408522851789478270338210150188776463045899148360769655623152240174397550984832196185922648954989737466406556114133488021367363005888432214879164185042973583676885362857112216731193244217303165612586699777281678118947787216546934431772688270137166550039970502606880969880803061600589592412891182441690763271932474895123621366337663448296911124320837045732686898315076007947129970638115123970537880805981813417020196752920397139953661245172574285579987378466317388036532749768086198740367870091222446776121348065103684070381092294602416277240000610831293976998910946140261633158904421056776458305051810129092852296505954765383906324218956510408283780535628831309576294924907410612841717947805934286426728154361683271189128687507158992156672782643768997516486190706697636934832515969748600965676197331689739052246022427305011708422710135174406434550069201814071562756128270896091192709147420284865642426178308274476497039107174040587832505719816387538686909959347501110619678531063481702129976449897801055759380417197079024862566353839987206940869844357312848966141208810494739838004883879445619017863697518091729520982364201583156957454551533345668825288071582552284813051875036833694182185688956815925547456196314096351298155209247950842755951675606181720843817478992549831415294719374674693343923787899300285162528066322116428328185143483566151450536662193616679242316911086830270588899280799809535546534991739754966787545581217192064750555304295067601580266795484444542731299132927744796552152670210685401246418298388008337411966720950116324539428372912476616024292777340288737926407483363716777960424148863963909015629712741537803464570899534313152477116654494056572723439196524553088758893317724261666493478311633551141371630710679447977816503923822091725026694747004613111537590778201727087154884694440433591606413443983339399154908003277319574178853315907087685716471111530143666059382985728989632278381341196261593769412936900175418433964922012314772975077797538761921365793978850907211730475042481074745980398166350996252999005058006889955787151659567864947587952324437970639916033517530507252408262438468179253412178710641273639585317100864765747738195300336850018102488646817068567890852750965822983356324163932070184034888293410709485025842694005559463218070392539184944687889194016549736561734418509343460906722100822488856416601047595098385434507805003122706926758650471000726914608028554048764762115113904443162636936515654958822591561391055733603431648663685700166205033741461110446700271824878874911223794190025449561066930106568753630722694930326876147707129406851377572286262982696778946431789220807877842120910898392745300775072724927778221777424484841792972713805841769793426716518778164262678850191324351511996159667569945995660180540817508516695442810411916522248319918745631910459253515921545592119669315715119935916394643040138663649368597682646805171415815067103602809309312467271506658199318829251745007830432684325393520412891253122673211684584968630622577593547501789733686696106091055183500028630918464793649936606339276295078944262286293828507686320102490990966920560647232637220746885145953528963584565748360847546254860119728332267577720655654011728247974747598141651947103054293217811267287810918400951155962277054847262249210585414988245833401257757776675970866730807117582685130170668091563727007620351620640110245550121530742175457715594839253456391789746288970269523458817689794620608621699092526007899038798764144460911207710088391216400863841165118842763603301546830820166222626341255127310884855422796355666358358242116644361755173884672459782772766806324445854963976584250820524906538282608552129544750594030242697574062669993435030546731174727652058089459715320179265675739761985507697389222501230635073413806136600965964001898613659784233995674023326014015911415127531737679934989800354432032300895399375618354288959650392205570293740955079016714406970380675709799013230785748764410308205628349697096661118059751145773434878949803606033572959374139749447665770993883847099364327749625466874421971754532767723624863827317935813233916561742454030939511359794096747354256427585561392865995528198197092151601352314615044353602712314230311693604491482999871245124655682269267745779610809177103924318246950468159858479658628747545585295474596620281630227850540178227005934331086724634461637331410393629145086080338706824931012682419988658439360199486356669554847194963935852959621551886237132607098801140817350548355008154604833153784600690177917647278668714912305589114966111595382499709976054883220584216339011789371217615942304092883233850189515651975989913521417827624183467215935859118451717426499433532635668301963791742938967684769735052400145628888637708225306461039956795463199399940755219844844602260055829706323088984330433793660030925017472369827478647294638989873480036038638635183271103978159516231196275382745221670678321416016533313549871028818994387743345404225604629356472743173444948197917588021247452521096997472904706712332643017131068830821367023867352845142076422697409450179036785910266467564898915772787951200949941180196937636587187014740954013543519472373946004886355317972893267197513513190645668698697500992177760221022198353319823788296357900511620362089924199281861962362606785563282689349850077562627748965009458433314695342971228330053606019012022549194056066363405912754891959389036371653020681832584142223975358013883068979631083566974546239669740046248421746129253922002239967332665498041100784535484460314602771486673985959687878274724576012943949568038297399049644581531260014469301786323837479282390368185338534860320744611920780836959481717122457856735814718366424343524308226283069983815684291821213949170878811409880418013863116748416711318603826799110433575397391231741499968832154120803750578709322228332547549302841944811290124313378080345852303018982764813214575335665351767116139006154240927206871907226630296112935234759843847707828743417037773800700852635681527070251065181843610719308858338265221161850111106046467297174619756192115579403135015553328964498281110935971087329110602648711625683738293535070845802363552205312266908063280099950336921661226358838420573328741089916464974325385023140974512811842047454430288430613570136185583486093291066118844704546311471630715086068750642437193239111717764124728788584619291423995758595704398834186614682103751046810091108010370133688749065233664320187419800220679763651638766163375242894866397726737752106560149563192528746806673203783619688882912479432477126868406720695549956090318348177645208625762617441947758141846771887969748536196996894804637377725880547415682355011169500653146914198625882328968018445825879260771547345782398548589228142491151710156554534899956520801709984088817743609432579399521642296003676563271041394981786407315217395405386299971371957629108234581754913432128992673264699023591024027746345285785449010485779734347938547653664343117535603137366071773846923075097852226626483162823581775136032133132568205713294843759750544611785044886653651692219884691009544993308672424665184383092985743910157593433659380171151683569662696437792295136431405266823175165042732792446722992754556520822602929493868701188071684786951645421601296321151144437791354260111200970700014544554046629347031624423986663666602751707660890626446325801439883899386502808734751191137120535870929347324691648621972787300942834212629611802435069275543496209677198126387112494558218013816359430097273453237678722935358501869219102823232553895696594960633688161050162840111601666217710182808436003939871742178383114143305432783538690777153643020473201953198435121781805200499220908711870190081436693764067526986282059970506142356748966939316244611201823338089422844745002541790803783490163073773842695803102550627478459752323792851194606160948044205972026564053518272979265154208898550838034338979481215175118734593310576162497246935406648451364781882050632991553740989263579572664587330575488160894610387915243387857328586315736836097500319820156273554375095565514339546146957517870865543965094879618282149769324734806558162977133043313858400749154406293195904566967764948496966752523299210722774656625254189173224954311236645969071816378974697206367890050633003249510791433120504818634846273198336464053573137296268840333968855099920713416088230867317183854942857852127123325438208493890164179294780916392190491932696405140054371784525076895692327984086148983068973925621586364800635323087619358687750053503020151311764536055102523542634893784657149602222577296462923776545953742095570992041634740183553632751879597416348925676502964295474926557983341426732866672358568400229277826936421528665409637410321625547220426746778469959501917468057914217304487437707457345659944005586825267291924316446204403562639426734964159348877083410210954980103231623156645419652690094933271147932086250301462304309209876597308015949826661620264803700911495850754897796621805037849798070932515395163429767488154361863949673678671101323506596841122877082150616873874531623114196604374452450682279084116257153579903293451141551483253059274860404855365934861702036645140255670905525919431713997860465289645106560231057039693339316505049559180413400203790090662787035886349991741861643002282551723981896891888212648014621933081247254587715249373870893781794657842377692310193729687859391766202099379843331796690212739495013566070447393965878235345208481031874465248491822705942829145806839026264913877165888417519217485476258266393811642986835448598522713833556332647152608160115169149382405219941912609519736351369364469145522932233817657024187113593517525491445095987821956689071737213250089256007100922746644047876754046468155332281432674092157457567439664477269977846481098564354822513350687862778971475966907347574251770756797174982520193290071204364205947440456898218750247220582158121852431712312657040809768532700161304030847441077071016115740943765115512207984570359527159404426523301157295547351466881886437158472193660471349497100965773531737656392792968462299888368022451362703271271423558718529997203457213758568549948993630412489315432475487195209666468422553397186458026027853652156163785356836263910629758181074303185970377016732548941606024863815953834897828718905914294239263060595128394229860507660390266220154876756526720820250746125611197110027209101496320726101409064289632744371576794828363068907386328381841598814917068260408777598667202504558112091984281534500630595765477830428543264757492710821586045356928512685887440860207352170094036830052813148873499124601257306982626596386230285607028182966306613298086328047327333304771691472625024533145335422711074366943087380095558111041069186190624350922797879777159838797756075419938422663483376387618822415454946916817765268986026786564225219187603452973167014132414452674334473230764597637667710009997380868786430489250898250050275805216250539605623850677560840806744158733185257479533618481007331594512522270016565278959685309496405540079513744565299963161571319971358064336383967421872686955551821396427671098134117492719942516866640776680372095318085654406713598859609979382974397884305514880438052407822523581366459139483583783203823504843012949026932845415682045412025361607083264517315188629355392845477265186511557629995268699680548169155206637154589962672964223418309663969138455339819132420857090937240690009693135667372818668962842533864819453939551066356764465910076592068810253508035769560719960517692545587478207799525763644689831992830790468286423765929563056680952631881769020646156146078341852764011719834171910360504258742708891903386265912712844138037913386958493881100082013520564302868056147138520623876502049398985251595172196921537954929621241186927679845981624086561141364558121342800726840901299509588488607202923020890196142030180296882330052403826567857681864076105152297988584432128585492041876696832973829332921263778310858526491368118863069990959193204699020832955241870188563633875333373686976938447548020292437426900729287708314498138937268378678571881680864590622643069197088611134298870043574755313833157228129233493412594957666276732456472263299305857281057833816104524695417077272157537037241769461389689871590132098753824878531237873089265845736044215490848084755274363008381066217780953536673619736639382197210399737502666553565124159936855008551746192639448197971458453316392434389654708332583875325950176390193628017468396782183400280990207498701494776002667623063456451538851322045093448575105487016724373129755942324259687040359956009775389525945493853355645927660432304031803848011545581231979146631915429479693120045788609816743081502028967898800939520461955791442625623407740921208946986326435020112800049274176933662770964409447076959368065006223563159151661941553249171699898042023686283073520974456830836293899972267890094926977613481747892951581233653097890922588809427118975718784198211184241994940257765796901810402012700122982273538867332734675332700106742808885159912358162022075364555296524871698360017209022193655803289536984226519786696698207382571983602610593213893341662264145961077388243449476552552239259291207757001972090633791294485537058403535398909794825424886835660454852006081926968572089658671129652677449330214467959306084161690224714825566749284098830449891338001877694699209345419034163829866505185475658378644037542032525927398664964398044939009819406669337399743838486819525160755212583517663424843756620487104542134582227239628012718149667786915344714331441412340830580558138037154261819969068250553664125781399392501287652069330272858644297290916222886346346077577569725412666786190943465942493441600025865949289722045756765075698095717304943491919243063676282542886593058953999757065492269817930853426217963775498441728206857560237211707153308931857644661287426351503174775260716756174785898732118612648447490725017413065505900263168619594669032907535803976995619290246849253929810302440499955115424349015722023217308621979732418282187083767752048826395001184329304037535102984306462070063041790657384182062923989761309426486220466638512918146038642696243275464592761801611589768681361829399204863956695018390476486368410060681968043540765046487492961788342908931587051893448269386638614222491892473638790761547688637247855211427396156830613042139412313432140676039951055741049112321385080930493379016879995770161182634728436811069849797463346163543341640113311583815672359713365890744047316512835756075816702036770401118527247527876042699032438317693730616014495219366962863877600074511833265432927969202550726029260899948544539514051016140181991063436534546921751620008821338581096822420791242622672294988406638407926617824786504144679669484999588310821567250915970532692198695174052188849785563976370024664912317846388130381393499531667292710305232419799262312694836052222412839201625005775523386889150598815159575139356298756201932716513963690846603199156564711870507198452496251782157524817221644751453980284694540162097250200817872061451534787406630474548209110437122109659292054624584039344123878839876520284758643823869141449417143104279531735920138545159447215640706724126731275417544960847015560716361216368601471000451022026963116499175514588451825875804361017339347077693396374359573784581295670332336785449626853467250752771565207433647228096481612226098951596936931064338929505389490387392206284152897028518225947725604313392260085062116594072276505032948836850065291385782512745419950615076465881362546039377021869578842160832016319059682206312226430413448717647380595721457569041464677439023195410740984635831279595432161038072283206813389432620376333754392252516140872742985212710199655447847864245409469653136373216011302620378343299618937584763712022752855749365756603502749212314039202102131535054620539819942722903932453805115264598120489195837660194049411064164011442486053742759164243640108435242596300009663181956561902123240648325213422227352755007071914323835553416973506346968918713103434722681667583117862802744332134830239600304286576823105446142817272503719025072629157064373288002788944931029830215969062508492132213429055220976049352581332123172183366755851938616188673016916127244375831745579883642232592290614038382832220799899082364846337293343133826634930442068740915847997375939107190077710108244855231653020750531546110929261282198051649263833293830022894888214865520001607081186891867065295972584414484041993892404741022172197026312729778157768137675071821980421695265507415305962379242365003585686045679089677565377737552311717516884048544315376292556071362495172189249516387908327641169152178470559329824471534040813844117190571771915560605326568923408413052549767598386627626712862517725499253760130914592164088976845417218643173613717433300170062263536236991913790178492831096122583390175699924992402443159608999321383557224959902349933497208022633731167005836854190811806258907511772615863633019912979902653469785369188095106489691729616636989425348002846556221919937236215735446057683956093413159129688838503047541651098216901771174625659766446599574026362288621813104106641060956023234210179568757586099816804449633464753119197464864708889891610241955435490495594021984297076102293062284261019023915845974009104928655040013581348112197810165201949309170032213246768620972797923160316630688984834312211030665041788000717201392356025389853929030885017779435959446002945276284454552201871909717489120639398902754962407569278817905251311792311133546496225119673241450029579069420072357391952605927981103183649056591398668209325985628607254719321289749367109835490394395419692921674587561870403752746688687866206409937021497873530252326959216225557496267078657019879426558681708756635877356523086359137961694143963656356445578672558001760978040979874991014736136194669958961443048007574933025664214573106401627183052708080078297334372137863729519425677342912326599853883444577472724541001088913263843915468698983977748673077724931642956048034361823725710981886555478236590591417421777431422081040181942328835664409496302614874234356746759144942993699378331681509906573846254476993819489559380150384127493505443267284629283110625800214930614662082185333733672303813430531038441910752551253690429391435966587945298803395560867598081162739980137064953055730482060595494289471103526821465197259287877083027351019557455592365283960950682333447956220858673755826880359657254803540939104606124653907000844061989154534692951303519657993895397165776208248766913510649328463779824373759882822047943841627363867416709372083938452946540375573483549990827228884673606099856481378295879094893258611932272245999060008075642997926331740491124753105466864266384874333156300247519982589827993392561804512342346918872655793151431321682973176656166315542298083354895638617000722361642728781689477014359886423485834461348739327168692006763127733350262157158128108679911716629766740773212467719977732318832382218380214703353972296807378462414673354907805084971942740413447041976365543857851040988737600373615563052694443210050133606649482676004221432102337500308242457201492255539104490439374914427902029229517798790093345088033331761307578742353870502461278791486913140526337189294599273052812227250591726688656049226203806946849567587642032633848172296043412121825067806390743641721687310284819627589070645943396295534462743204504218435003897976999094904805430872644516152188152998421530362835047143759519401014267255634323800297342129834617751395515473946352663540530236854612526714977268397298923307701646645677227695417216266939129754269599742459246391980966247552250359157733505472602340723571231440268349675785393689444045135461587406591741430353601645628097900731251149715910656437216162714229652127757716567825381963420571794701660731933991215336242165493333256485878300584165761108490319191028819183036171829845953051627243737169832483048360445535919019334596615099845913803177732477541252635526943939520452429018717338171417690946223705424149419161711498679444775392660597703950111229150357900216361388366546532618464826435429243576661043754689284806130502605417612070504669724151470834007974150788380848231303379489009229661887955507062658770980445730676519778975396859603075935092402770549514237924797456456201703831821415828244583811032382639574537495591854230036130160319498617866414306745458114751276647286119709614914255180355698243260907352998762257110711552117752212897296661735736836381416403783156253001484027057057660050022972902601662821809467713739792019421195212559999885965979301948991373172729082844761245031823234161122916436741683614490228642466132681195952915822899149794580682489866851645068689808355222701270618550840529577937849506224199312719626026656808921410837108723324592785147163460873034735994556853470676044845673527763355864244690257127027087326209718043234362385945204328193412464924959159148158732829173724446733436366774440148619821029397654790952023701606325061377344437709778072327428565660497546010243113883237377160293497210174186779401863337529593026666198925283465205353079682018976267075655993087839496322732363916354104527555210904379179849575577176195714672287614502387894693399584718238774739324008439584133332162150773682264293007270556660613477561295960352058805401048002845067423553686580560611285954412002677102576273896634541552713204892211027978731415745965393392072755100595497858424186790959644688781096563286248089325939879463283623921454249535777588735912150127968058274313491303953113993584281921303668675173407451022520469598761974806587293395431690051166708932338361720650043656877247945056286434664090550993162182057126182719846904497582433283268208817945805340773753815175217175116338716544871495849868305515575694366829618634067141502245003044839388547668233681327587462980653338962523492281330345471581428648796429174721653216571848983801340819178135451675200264847514188270311762881114033058957197921536411655144696814623280372045871000149886208589546158592017964640762601290743544218716714357764215443266009696927344017539681104030295465160964809921638183842744024807904259724066377843577409579014181557650687881545594421880706339069694089575338767157226355374834271637164566893258734823883002665442198840993191824778334866371061708393822927159885687766214306947558898379206094537420434230828969517747779832545099208602261285859835282123369870593667343024374030053538491646929010454229977445671776037289624293134242663129822913212724316200903146984403401352672039961700940071869978194544599898071452589930208713454670729145181132120057142339823375675883521754901842865847743192836050159550997574348316366171289836775969085866804017592735886562281030234897395783504693219604412380439246776876298225644398838333397118365647866362220454563375367426369873293935152904373921841978726142964099456307949879022074299734885865295961397852157637354392970121579750479012455692617434230671578209552908808424719276364999675250024374930633888729147794825491426861363106608179510296431280964185313072564250893618696918335298098616489076541013513012433928186197882798324996139494428906753809692202096118763291461241130301586466190320513809143458659451643171864844689483757336986051655873210220342419036926438387099135523777391533053943849468929044637414917511072407837889993515165829972185703449496147065611396693351322724559503430630179176229749384376746825756767591455067765441881593958232568124260617200184211424441904772100607349070479509820756174436488725124099897931977860900873775051634386768501756484828657676090084475629855714000360620541624309124396475804589789362262410320653225028364884573886446748322472542245589849045103381282430963406893959276245386911338843036463832536887387256899568905116681633102785689295436798390432459644632750276370266150700173126133092794977949290826928423265354399987386189156756828914678190335917419052665891527790967355032574578068476222641535554005924028807508712399754379645058859652974433084285415805050060651857572610048592472610400851561105774167475196988566784050779294662532881233243402619150498699787739295020120474096893586417963414866083971981585825800932244147960074156599676887568704976622816509641935287374403266852797371867913401392479525688989700773629959135942613629304431399910647076342130759775690484203993239313059298713824035145675135669227673103126202501019211609843988390703020853739937002539326738298704173655100939846449399646121709657121589286295513567624352191081126234526709275141571438142847101757122184225059183478596987026929434374365289759702586107516337573758599370494235276962121032112240651418615857889963954302106056444360433244541967569370533582121566439725035851650251715013775258547802796209488091128975055223807721341779584055327950987953152273382597318647490023004781603052848979136873664615986460541499433685290597455975738247394560587789270027643813352372000679839406853453509634410738512847802115373421073147906402590834331211053994900911359549070151180447071400283717365057430336209359058343235272852087726144391469008475340970408139389819002699027712342088459822401092934590834986262420031247543550867614114189224883509066676847725699988088781318364592937298106227190734403133168333497389871757890272843576603988825843491207550206796246051329667704797509269483976439183250467240705557183730304236124838265069430392415067057369375660833431097804620030633106735779856395674279240233959966429681970367429592778571273736858519032605677371734655921803163368408896147291305158942212910670365753229883136458126604703497993340588529179931188926906359980533279186386490286231667918235828036146976570358118534341418748306073780153671098895960726646291039673293126610531407652711966061567083145955588064684045902381656563646311264299387670153021053941427545756800717058250761193651550107554233485956341748594844356101986664659733702233212481575647676812113881411243054498990826999749712201186029804631685384053476988738806747577182058030863055288224195984222092303441966843425253693967353179459469873982704127286412126881944938450347629210379841790104130509253302664610420162628611152163419891572929476796067803566090627188190069892464827068151015005516518453224507998042645944254877589018540892294647880671549681987170812731782440155548847929569468497707698234797261589077501873822303941957975681284816930322171822687041793163354536244854537796957342835322479664728502807782004672735243710208930045140055732389956273090002403192941338207679426184843360852653385169407182899832851187854612367102868417116849946770515164633247004426861371117542300354942304297039086582688223943832142146154908672343838150343413067469159534006771505021793212884868743865150399403869295795049012359390516683883784386643382429361716277572321522604148298400656913125215051487965056426199499497000209992950335947287163072859803921184812092685124655956070218616476476757791897751754238994369002339058381929967898834999943931493692711919061986878335609913497955637917713833088562449908261712810563918417359076676814037947150599694911941242120130538094949535033378724288040278683017676886862805980092548460546455145832533416288581045098054375303956110666097166339992697135367236755245468552904172751498829698636473686002616025605644982307649879957441738742877260771901123760046988987235552454679481257745866016618362187819315277129661809688038240393550150492271153942900805651278750610046075468001099960994220211301339656278050229521019756027957277161800925173714658566778306772076033248924834735268412777148533849929018989075834074349849991377954208138814957905697578467524613200183317403201890194590283118852208714318754696136422308868392843171466992010950834236640304319098430978642828848351084869179180559159213499469083175583167999240955621356077401158196320202795561933287102591335687784113809339454432022183576050266997387231627695505301804288353950940234380399680814978823560940249403072173247327522077096043602729333817435150398335409848030591606926166058470078056953285007897934315659575168263852750109612211317928972401126440292180410979665335715629641386445979451160530407577546270329418976585304263348679762370701758240168112742578586957500938625157313397514698576063698796456949142329468166895154887399401441680177497810968976596049869161123985566477017342199183782055925449975468030917325470040335531869792922880218232470324921888321005660937261629290485962193848880061786323967923630452984861503333375118794819993922028949075583365048849981003823967385465249909486454742588836858327206412936755325170356579449049176007006886697999513476061908242352223101816583824514236763343766206643992313140957709830004972585511381408018849492915074326764056641797966866634301516414688788612172531514896058413024615419951409416299122160780853541148034913606858592390073988184560346809098115527506790772793930762132213811326434728511172585536472037548659961646444242654719967089716630784974510831670615761862400761479059347041846446532962738411499379977148426101165159177476608487903591277566411964702224552052444809674249443288434865459862235272379618781405665713208228700872008060712716563025134098335261226868821826737979151358077347300104597915948764223837296995389257062934639984827344393510093531960046921213815504677582630619000177980273617960649389007827072878761049171538328765896634186369279446289085995800970258748376595658379526681941231535563660353838482745360787612408356702886844250580542638050853316489901970065220087660137797436173228111304961018671587098029232073061834566556637935354726318076405993451433813858039765281504540879493377159221937495397080600643447842766446167983932831700316092245311449004665449310338309572593965390958783854527752511481464054560004513490009933064576471442959066743333462870240690426145399542937856115933323307117036365175094097128812388133629931926020051149565873902124312581812819301667811759267868257328109283838123518609120141424233486783527286162063162687876574190942383915730115657915127960732577547997968752330831474206564863939188373494682494643395889601471201161361209457207425177903042776554589674788066527107208752857602792481519240000506979371330263997173706975319489906319556236383129987631583545619339549907560180310855588060099833225368961296177899017401209609964271294772760172430619064726563246119821239789372904174161367859826070354396341602721647796957944739404928639833859637984305232801389567086244899708574154470633545053013416979447749387119251379208376551653935387680418437775441325129531356768659785706416192343894474399509928610032601734770230738369477123968509702421485600831920510606726799087814604686218162306271254800096031962517223700436513902221283854833409383511610581192571653664485346829669949158996250888674036771052794396250325986499281959316525773503402942587798588169125924750500918585995347623360490567907829540324268256308517493993124559722667662262414504121894288919491831506055779157947406992145143291753721670138651343580207773309760895737901975193126254581053218657402609941260609676267690016695941152249418963440326256663935662830191621595522347063708981573374638845462875306184301983535764050052327230245601369331863257016392016755182303273224844268465094506262346798174327469606553521922994752268751074290273594926628672934796078367383326027963696060279961887097670515687184379721321627405347252942658784185319652073223258166653286396838218811882622932836959707089438027781822111981010578288159937549808658681789729009423163254780728792181874518970139312316424177583585999890252097239833944661405928524512044316071184928146549275883246004274374663334508531512065636480447825574302727257207355960991136790224470942385757636523234031609246228824118173308559566953116599151939245196586388144775366688742906306055789841907135233466528697625904071949841222681151561724289686028646819166150988108711877811432477512097032936976888313098680758559139487375082791772467975189259218544488981197523097980161336130551543854335775290577086764748386780626901861472090298535689514103849643621573956557816808204797945075661247397416430247936351322648090324738295447654621263808560813776575266232210942001837435844976428749739007637084904033200917470403206322676617312098330886114891222414561022949749388943262869002025726695524778237419683797105271174051340386292406681604556700907533519481329772019530323556603648011961183497825460001915829742540376201540541203832233855361269068050371873042498491267553587073299538542796052087112629649659451912037115977131779611729548455887976783299646533982426988294679019308859719239335963149040076222819048776966967629720961335873632142630894792468348230859447904761189406001139228985419656687873936363366170506522899909490740044254182536887219423887457490907238764328759227505566890973523568595154420118579076769381459577091490036778604011358361417919721579493686572553763086509441756805504563656785157382523939320314373291607456940395910081445559340565634633893536304438980024836234058388311154110954529916374502088060881112583594977336042738162989692822997959243339441892630224111424343282574900095380142655552053332670906113720661244681933821180941399384089271459566810983645467454394094449711366796099550751794136344176875804615214411203584389658385444098539648599060350979516297476993754442475948368352583266603001209790133394043881752232493611555786736820454338062634876842214130291776662652176017220861284892058029762749236937808771302074794034384834995905738875588196813236352971346315573846818213776407503258495390594336082836941619494561595931875277471340297054107844329285320533697739017321422877094622458967798623783133997887095000079826243072216665561288822716639937716221652975841748644047842680165070445477547633435361203234009446212031023904710419011804687446131708925266898891415555400891367611479473895432994780618994639721951021678610075198997988151840501654836802404948085754596275732277296844035338439408570451602359860932163677785340716976612325400038878394801035089332647697986069562282031124499365308297700607898259344267847349907648172887894904457839749119623636377224010372840609069550341237582866584286523245631829321532200208972373871894459305455937368928182491474543739218470826933289689208405699187714870837670838801603613226661181516560342041101692607051470203818966462061746216615648498373596043835307883004264823308953566571423439585075424459352958505849273726643977407465189304058264831767853649223321542879889997246793685208517415376408547106705564214796994327360827720406489877803088200029103622522575619557112989190189602918148657500987173146504996391182757899041202879953834634985465008216092436434197526572177991343252485717977180889140497746678587487179583483850617211993960258674878965486429684924805818651808898571069187192909190096906171254582867770432931190252526238939474545600090489333633769181749014354168764855146387941572990301422536176780939414850301162198491323216477417842066018319201596995028089897704757072464118771542913747299213625141590541430826179624355107779885880314940804295014251590045471173769971447016038940805591277056173703932387803935589929357612634773397584223652252727854359487908422162286513068977675922221375108752302100412027367603604538670003900098448386566139607434360435663663268802183650257352351174481809496533291282195045582638637226872515712446189392623296875300662674101288690793837300180792098067974648081529357102493935290225012916242171895956926236168380813986857982006132721956284380011294220222640211076936351023739888773128424165512179363828697529886147531482577910326129654480393033875072592601120071770664553475958223729147572665351816952545008638578959839073887836571703789289704269863345580507753789688764696556511042002392999722837616670903877367998781217672302952928268867384383753453424153135333087872009935327443630925357658162752472882193706729931643147068761268454850639414007057549424004431555972904551001035966615080172907011874103698290824048765147382810819704112047218700259328562520057023183435604086101666587644936951866788327426894724206884048218490225630614990406985815424441126181660921700541061214500295417245938789228704789599212456581386815566483613150033642525299531416843592055535434398966566804112374376675099604756330905288777369490384959531105326321078905596633522985950701520327523040941569784566960935370549250904137156392217870689097190627735853454837840057334997927216514157979605514440690347202502434898417873036025018710976620322909583604816227963647310713762035416489582060186505020466282079118395814229590517123306199434902202484980543849017267128370748072971307484341742173409741974120888076526231120535568478057709664535251808629088110380562255299254352366330213569351917546739588713131161372548950296167404906168605634886397272367874160776058351733053662610213069033348471869350709017469805597372983150235285174939294591889682661226884842168556741592972964153607266197489530968523714063372198060566149994421757525184122738053668501095917836449331918242305744718118903239002342175711290867589234677451153220032400243305542983868235291204024758541522496121386146388323181936935726193362723608908070124718370803994224921988900371582581070271174290197380856234218421086181471048778104896875047833230373567342432339916508912552339530058864927290649471356465205173631786282808556393957585963427023205729338382564366102998370967403438046770162176790701749256774291951598020892439591389490391609113502706205069269734286552831313345437617345679813004295105319507817469130048669994112851996534151859173978515150892841725611356677694241920518938641740315879256196000650641498385893605692086182258524693205455162755645892326745738330810686534103943809617397088509675104312511614737789552139848668691504315667749771496969707366218098350206429929794667356572123479544841822319434412015900774289619276216090845931758400276406221711972276857970461023905253877945088276678029944334885215659779282856077487059598046276081959674793066210046553433281461949451394529604903112137878214062740602049790695823707397293429108045159267344274105809237545320354573957136841858177998165485076684480485334901637842485074434827551359230726998581757380601576411032654965708382798225088443507183541601498211612385109972798814487025253349522478644624940342785538103609417972421358214791693859456841570763137956545463605158883251377313430332264092239556862238129938645196540497252597166165812711865243185552368612970259879411115718415067593732176218217449924089408984907737256301265700159377303861201164567093644265927719053531646333525110499153058457400380486723068668362110509011513115626535394406787435028883970026253042725772259150175808996402710500043245285566222353062782534649011915780086709284180932154811779146871149298755159586085693779933401178541246898301833146339494545399549123869958066130335375146359383939815105496651642715880542064985633223422831931439588100879248294449149676052049401345841587589809002431653579823668856136753090514677890455374121973241755021810898598326220659994106741521374109740305066554576156948639065459900017556855337491745504511168230584483712937574166845158635159855594678092561414724161374065083989795830111391492664456531071322309895044771324641632726727820018084154239372910400433684075618630116187174439134827711318283140650720464723906912591715577289943335064417398836616283832888277249761942787364161783201106489620308238240005472694922833475159925333340256891720995513135283630955378744127923845048305353886970002221973926152091739785034932706046189705778595277599529649793360306937280077797351765222814553616956212693444710159135210819842115572091695502440204688899250890276293021304833158281009448641693992926445318238229074503570072546866198714117628643186056919371309609987943704211101889786209055275072187737984757659175061068866487758718126009613234786085405538938527450264136048744658001780719914672526495233713737308967578771931771340308917074979012836986161611950181193351556095897421582118964944567375937039922867012807955040586573987110561579704079606741315816120093547269007779229817876941169761247287295430912681617703341635391346706484322708955083313579853243210017961336552520155724337049448337012384125568310382876227245023811607084922712726963133326596058716016242527317462807477164473689663164947575191151840414446997155037311502646059049339754136682022739167543643939551920496371778957810721579979017924435097923777731452017307603279002111088456998620628734445901097296461988386698708605939552940870418861269023394833271181356418113888433961531383221535987330158322663326625535964169233064972237113802016555868402946224567489960851445587431454767212131795819410523012279612062515372256313595186417034249289756456207226916288331800913816015333665353227360251954810073580463264185635883710422902376913411193014710481878987292103135083544114124540889571017263423002259872391757862058164342675021648020743071178382592470729335331269081755343372396249000096803040690338554254348786856160505255285324564585676819357074653345266164356451212782200248075734644555272746572681808164144727496416855036203828106676024303819135863294949175312307572395376483278472291695191526119272198502513047936077553502274434718047976695837129526761034982604147307950046683948798041342720378563083102974732032872769422196739483707053780275202077876546203026622661545763314698366277661915728701813407340784544654038164428219821410255069517814625402243219386827435866735417538563690935354400215644091053202350943635072151930945561868826879138825372645035282058754160817879178126406408176891579359778090949370286580562653949472628350239536585173877361810502965074938015777060611320369623788875777381675312721650447779773691055821184630417987203137602949436343605402675997363652534773104032331780022703851958447053333430026360199351068433288751474910960369349957974444232230275347237430327084466552104136646335084619051369380738381389366569225640617289734779458119567191471549938821993235705767953423156276869213263027988143966227025939760435334735592170957824643450655013150071034998004967427131737434275040205368687855512802220146646087977633455611728163990908968808630440667822208896736309029322369129392455316203947079009832133535372502452149632607839689142324872903773326187133704664777520822363705990409431378874989259124343095487923836888279244645182477448970201314802131260316061430795409699198445424928219160829174127875778792464477024720635728047322454623503430843386413410033557826824403167640248624051500839182771119742202745198978209305144400545472873629381455594143105944976297134576713353487762389384710463634160425651685923858849101384017247729690678087839086137737242178633024470925279402995217948739855289837834404068306501919046463465165669809804124952101898480583182214597415645683144334312104357617100893766228744661591347996743903737340125212908156712066788380006584993544686817659517636925650537499922992787947413000672178567224901330321472020567006196117926302328125647110572591545710032817000705244805770511184394261215666379502545855246107844699448025668759909004039465790220817995090962275260766483301278640247045367822690067345705109306405493168510578962853879951721705350786684297683184028556187032427671182500335523464620414652553360223305561630732796790673387281280101315497072133185876720239415530315130445692288528648168099312292557977864477056472997730661344744951685266449165583435745810370684448191731895264624955978935318603053322971070362246231538890009967143704881166271480680460964179597128553958453934815078776392578325188828570954363457495906595610419844653826118414680836357561753281450953711541922755914538410784336472697099247711514417077919047505756615352997538663678740098309059080129364686216027632431352971195838203275098035473675390380780397460981153579527974201067835953869467520889821158482713625928445345945391353552577556416334814598734545723909988540384811519233144669745065912299627710365998353937113712803656168925164222757439232455677925337977043965365910232721842520852066031369115414192886540505535214749249303608770182214234707613376911412167454448755750855411596771816921226606924613754699084576455345258079591795958827233529174242342702065223526313236324594387155319232790969749572880397876574018183497792004239242473806479401693861413194623409533451424639845089472244499585379940534271546282121184204257604831100267130203499801000211264051028444813607175649790653653334175753538944718818225195386233097379009512068463643676602026564667798404535779876342093718396289478821257527665585095349095625095936889248013480933133967580885286999677563016720034062927828595505594762277892908180153424856373312162152277926889675548338296394373660058407260880724744266470790623952240407912524751750883347995096909454406148239936351584661094771145674706007298898374298502957366710177008167349665193006004542938258930742612464475947458940215055511467077538275355320027554546793668838934766257140432314767383706337983674335904275644107782347943588991082820549700321004932740507296773361620316228539005976384271586963988459603156525288287637173995163122254370214920688702351381886425238220932287756268461951063793922305713364144781567370848567102741641692168093569783695092713596023497090519804399975946070544102991828775193648447917531599051263175495293737138997611560628637249982116535838703173664225744708770029983459750727633471168643398858085075274300973836748711909698741233430962149500374372853118994662401165267317106136215151200482772603816503646051503139927591401944428270609534890015631204434231807323278948357203894863384111653744780597592895902161507688160264394197533038132982009911101305867046707634200638222108636128449669087336309701010285140737734511542992473945703291883692138611790639575122774390899373134411672260091668649299266603572983423596031867726831341000339394744870858517170775336447212000707975220121814296601110456553205414779622454599670751405310888744455059623067563150073296981670046154726480621062957674958386136372222643483119067874376125618894754044362305346008483271423009783363523746484038236228639086808943812578964591126387464925815543178991207800774794603918901652697571134984285404429847953782341865001245093768377350655927421768889362490394334497190255234735326824092299533279423069711701321678909560613139599995012405322833882391951937123409876761558145321273925124780212233596892571294314079944459500019386871274922986993562711800453757304491887126149643257592500680259901997539050452423561274424094599129599571430383500966059391472561512997885522588420402778829316029067448501505373174965376652121427759249708766924093328563804759176651138815053494682539913745865772533554676835943838409965196554040940785700538016138807338580296892216069383859468591756360730600649412606075039711782197833125697306306357405561394757668045298446580939390900004777857444101909043095799273418011397060176849508690268378086926621567036390283014458617575343366529098001561101155523982206908217216530977821999608212201935654184140629994112805891944547095309400924832122037771271492499701348993385229568447234895205353146493548425261425071985041110448089741385119438729912852989585896786880340414404142036415822656573526218280951643099522387788764519203949076303422387589282097544937749428799560558453128254873984260464294098114045844088404712041581020663252867002609161757429237730172881283382727110980288761666607992066621340816927903752491955681870604501047726290059100802405633736112183595244160802508141259833311744502927283870739233693418302856928003043051299921116544739945086228918322874182431689320742233867550246512789756827761713112410393705787661831925108628224346873585742693903665299334993865022450633253618964479186329281969425358200176508810938778869910965959264806289612956046621053472255993830961840485957077603090663369118724084438442845593993864296275865873547509299328425043064250059032726503237691441290819852820098919150954085187206677410836135472707916419464895938704956164232275046936817230430900402497231596152674597501379982843346333420175692427744477245273324717081696420223568389978040178059874954585598075172427414739519928228321811608242862937785665204520101303908395255329337424487913763802007012010496803484846030533916538280493228563414533247885252556049945642109505920100908496970516540798902676995898847878941839068703068185464052564600744191400685426431752812552915250490706859972508601203622315259656948573873019017147784885201968939883807970058610713741897966111279722410378949818487937661892895818310344894618656836080008914098841740175853864632041710649038506411804731842053954615173357906969938211031400823708658344187203992392291868011728184275682534825978217975776027745944037169953907452423707427813965186520204999407869032818320571960713981700776220751854585201352949727298961179069872281170329407198978223374071884925689551709517807819346740921449934241868289657781498643279570464001989665699736392100217638691931703827392267870504626028757913844882209330985214398007063165138587307741752414425112768263677522398106590761364421560417221895002916865300233051065453807424372630353177616686154711116294482590875845820057024546620111258534000802291354373086414166300126958488737117487382041050344989187108313607126639423287355464876256929847524976808004268443618303786623792625769092000229085295227657103089777940655941531273390674727493414749717081573167056930343856997728483778233671569920471171164670138341806545476062171179879828161147191956635570481573456404219330909796235824283087805220809044788169864813208983597781927563356277323033277175430619592579294919663164537127753295317259340634864936760650934471917506662704700752048076697692419942295281889076615877131478181157700981177449515363989575224838789749571712018354081609300219118086113020053822247496640516101803596213113692722596066852707308292881590615413212853587151160597581814281701869670891512761172089247659828718427269505509859628307003663490298251218557254848557800775143199444164753571231979545925518885596570190719435280081116598150623034115057341325623906019044276805935385526104207722509196954264567537760261351482075343884260286409773738927537823517335232622482390085024586841168513961137530535074339738276423891642118407223007700294421842122876412407985216949723750234072619896965958471119623522689534722130116797416969058502931485591635141094739141238801479943686497635997425814043871363813073513335581279322115451194532322786086583773497793120945661761024286910413459423714643340214947397700957915431605204488663955644569502282189360800923134238833780166305722567708834273995940300190624567062990025840636825711680099894072704879829108717326994348509114974688439361150714318821238566515232204876656048773766333298575585359791697900540584202171680059668657918092928650247759283375071126119465738193957378384177991996698901107275688613499177829568959855909839165724938781331711934544944762418976109687846738411056941479129373903890712737560268391481427763419797799673795547792023604054362581124420008456633604098334769384870545513879815375050976786574539671750801988046699157514744721567936156288153237757038488227507090585487182134982707412813414082824740332318711799251561709868532345510741788305663370521213646167167140116453473067612334133751664584821145595866461296174155154146388726047708614148895413554206105170935129529819184789029740777762849411231925888794107679307965221284526052327215960383223282841821251749153492407487615750682311794340003661006378777330854556711408164560912365786799607529956741904228626699514409411025079220063154233342523047107413937775828105704611939549522343565829589527711953166814566768810829463967004149875766010433329886222075404546020831408950401511184243341617598087610442170007707299037655436458617300694561150694819852005468180145306119464234214023999474504896375199552630653103009908358247800481004476713924343660113133827989680327560488964720197102665092298926836633788656919907235041323924502655488417615111228744086821963587572447612251119652195312432240931561375880146413499053377468615298118880170726880718869620459558939411298909101551672848989207683199428521093168679045424786369708236259045070429912375363659124865886306987183001491863608216666076976858309746092174806193310780123022765581492438365587554379765881530033057493086970754324687714088463314339873703969828363326188994430640947859094312214504814699882055609613321521039005445597196416662445985802646007752608499881560227505832449862334582262724292401922039256301273725465131382927514910565097486545934321358507341472412940525498079250913656193307023045728478026824842019798981150790523206695789924261453051380587096663025016304469326192790805440350390853442600836317167925163355962338471360824146486181325801366145226368203663170768697218958392334190063604143384114637844394645688991764799200041563712611121169501954585989255116543972119132066034157211708166951814213137817955905430949576844358260921592587646697349943327327780867078018037866294018616558846100265770039912003659673431116594069356324892191938478691329652802245688976492272858945261726057571413928114842281164039462892605212704860064864255791682815249223340778265367975337319230779919290377105102028443264828418540533145521909041646609656092160083660955224145555615336070216258480620087811746364248744264491864458463021202263944136271963523939179784155098652185670474663912164716632574055258572050977203000828987797828163422439223381159911232853375794844973012196075795959866677938158302958689674354902463488074329437414478916167752004402588153992898758621874563884994357142940955514584459357562346330213915883982450485074638234001178934232665461642591982656191898163109805511465481673617027043847753903699500028755021627242919122019649095351971012168220574",
         "hidden": false,
         "locked": false
        },
        {
         "code": ">>> ciphertext_gold\n16267953061700775952887717715792098970593365942160006852408290705373236889804031194352091777420084799431343486826680244795228057305513975662212023554804852539340420543088163709741312762751537376295014229069901135557531068480946288677788301537031087692238371004541905183371900305098674192151164261699731823345528845133947776066911072699755806729609131274265857912884705663514401840209681686480539321698863579490790042250181998884324837323273821095026303449608607451350515912291830005552151794552470801892927134500623631196980484070720369867560275910069080125459210687807744770977985080847738602597269434572552094418372668513018392753440761389621605645639038580122604999846867495943795546616031999334679447914760181264584783263085469183130940949567865319806583977647904444274908779816979909689905315914656715048754944898327732020579471327638195303834474046507583029026046391001211253468528197474660043875203865551229376802690072565913149050074599234119282282706499960398726200857798944682055428487746463234007821032523420936950257716261133706321481716793417137007485488751388418273132402510438991513172544279503222774691749358679520625678047625024128585502393696412759967948295604101066156155360177520533915180535563239862009465607776091702411813302224021869234928455470766684278999983640955280469143564778553235519194820115838448176101332019128449710571184063329582322399653614106199822779994427603150655079809741597631369994716787423128674304965827410410656234913901878620929429190957836825552873140031298970693345219098418057934036959983461791888361310096451959136424926684370434666598833760938636396326746037286022933854676117132204665557890989038401917486523449629145759885179965388996032199240444701147457270953569157577366383278144590680286496430760770187404351418359833068338330382250545916997066731649809145644333022412769039687311330703765832068086212553268555297462694689245366139822904028393280851144533926238853969944629438163936881927069213868054746611458403121829846252205387413585253932470199402479961494258324944348752623495091227326618236811575890548903359677509418856676954827102973808988113031638913442350415464988077416678195831542714796992100754042657757302287262639281353193252728221702953417158272017860305720009291733491331750016587445467603090954266417030485264357339758346937036587500197913710995380297905043852531460150764458961278844395048362061318214514111766334873979073503839471396236416380436171206905199478079596483396055353328233741121516656020929382145507248436090014284014002162165278595036170317862396120771085494374867242037757317386315208114386722281945511171114254400356158803329337359022892096732670327322828961441942101438684123210680988559733814547881294110211617443342606368674845484296508327567938150996992511810714583071915112278891889920155828985958829902917786534247027351216670005378376230623873314335474220710167660508193690831275504605654555426776867280131928096251135185652056528440850532111323593359286642957416615841264930490026993841707628449720605507804555876633672974901551912974886297361375248001467986079233322258515095782281225698705661077917299690567219813497864351784948334330729112007532918404383888578185596221737073737295952043534348781232331564789775040903071950943892764583783038171759746015748251394670226965865663376029632650722617081288248268124774840760998688888036874178186525868292122281474729093603673457631917800979910376099371470049347797305566804015112774887890288392969585346792059664462160209802073253893855497796211852614674641159384901681944457869745332318512035161805598916415510764974535145731792989301730078034354269955126051149832948205599151384399296250814912563836696537444453348057602189582265152709731081583365919300609371997773384968740512295151977881994696794025382585167810682734255477466010535162116117124781297877523618291798769782367230094055571126417866562094401260849203286939084858222130436207980253035045003099770577923322711561695158531858235499878303911196233898141766015779320807701942414665314365975145350207780239956619106733299241272504560251178067983343585357023899856168037510195441686023848180318758847014103512705414316350514415752967880198639635042808797754392960151797032190330515996626090670578492288325091781812997411756462287408015418251326261043004789866008657634939829890172161518335802526020164991642294613670123035858371769831379268099450000211322444224865829641104857069329441748772785144059885849536554020008846585945663920331050745282515027896788140970579363850131061869043402291443956669893342319928178243486518260442282830869941007883928200987971815359281747730023146270661033889921163935770679416352865190939755147162298096106717154448567796621921054435263167151245868950353455568577335080884046496983574836799479388910421262325337532727466344345541727900324711474804229420189254781991371232748782187863776126692142953496695572491442866048480218712506456499068907903849561806510064488216130644987706403685353487941865725645643460705675361743890572078816130764539189342413704188429738756746687305018671348676948443177880422210520043769361010394940476197380721699711718513439333113193888804806371858245884384244582960646414331752835637160558942858079230211567605740603931322289605881495068011601957963858215587590276655306012880805956495517455720754307262265254285671970880230321394352193603975757473971351892158281451754398281635276238375371450470262251421935429772581494581254699491955739732400129991889432807294158799076637752325220920296821059389752717199369269692688162901034123165523146971500318054950312962215933567102554840375793976248021581092179707998239144878243017576589467114615905187485874764346042672527093244505343644695368059724594962683376687359887772602649882212671380536664591588772399670351565590423820109227363161191041365104924718400178525991197044700596323550655416921197954756578818046182030796227062199621358959775797085451733090985373145043475447374980702302627287970342101941361308086598383812521981034537612760019648212406818392684491233972545050539155430442607420131280180455639500716639022539148092943288011213107022468890128174271373017941470329512172596928699786396099874111952654684137631557821543153622673747096498504614638641305746871255800817689727647128479826452705494720947183892062684444444311190375739147152022482785617394674263076594086580327802524000034437601769588225542177888540491297079237159667322229463283314676517590954857317159139409338595518316380761296579720928616148659227234967253730555096167913767192155433388075139825671368413377260777537318149505305847801482349316041968124013280575885885351317395903350275555675017837439287631473502119937594952296108357146911172536054827880643007058342994109977735253923287622535001648983795053552351561636653008338198038088631694245766650315578435099551458077394705886980767179958388299276931795355293634030072916402191532820428900711766292314757607166584184070824701721000091923942137134526980346556302392874558233775096909393658085257801908025724816706263195592883885186192963740452113030583439896456179885316370250607251966122682409893135788495617593184581693054909934444196804233476967448243793970733855762884860030861271549397563990189459763904560578509285051466824029914741050531678872998497048629125362583133544294947726725928790039497102358097008739215809451265100360504819098447916254449268089621687215638351457370181128288556657219739682394441731437855996532012218493094933071779658247176860319593123700200744259232719451252421371328579503018361966500453047230669214769310575287086775804669779287551345670977462777404038191774495250161119269826281114328726849866976247806798056797252389413977625853683494125709144623913584129703788650122747546996409226072811510966815824910212540717230170015946163604682579967295648714832143511213627904015907211590056489739694283070557721357967344610391762954100855169753045469902154251382526580774456719241888063130034450415822816347076929051563647947875959221527124514786451395424273933491257882034509969061862890601063164629488432788119654571952944286414537082110467279288643161425722194322139712825274577393524726639503130304118574129848303976747043123536449089353328923998875291013646217995182925097174602421317252612605900417283031304142131160252563460836734191452316902632710336332160002287127375927400174685638187194212940322743274097255974091252311230472124103774707956448638722452994921174030713662411858349822663680185128976875888061019671354782391294085797536787752855570804366962966599820647648482347477854729481653769138762175048277778442777656481279301305401974995585245625085013759802881675739391838016754504045422717421369120088656671631289404619062312456715361344131816226548322339441432395035135799210767820010670022540101267010001325798166479747164733180615890451737612256381155798284440329934315989104586996725669060218401935270944778842972394702490309411329943050281890408991272961223727770841126776976840825840189190120794087812694539441270893359692425984022512438936258953029077105711098798966764881634232882803562279174702194476577848599611561617843916754592995022007809413566845661287912444282701588772171708049274700835421027087071924432809895585429864113107002790041925848519194897516704384838698011156079756902100228046941611860165013230099459130269108011916098268389639802713036543814049052466327665874408288995309149201106389498281121963206877250707281108150508431279645656547099881517491797909980840353883462400197724982198249357931410040027990868093570800776009969368763970030385271721591619960327321683973638245448957871950952684382131550320752308308017844689447851749309065318514859211138408505851969918677224156909082566990225726593345815572518803088004277769118005523219035911367925746349437715533441758497550953574759257830983172289738293511819588700075063902064870116907042524263934477938055237706225833017705659666976119274870220756252545159959438411846903505487990987594296716776894184605944823119549845700814952122525214814261700994223943674054729740020746464225189416625873307073295081652812005322519275019554360673028805770279603680362707563614209624183522432657601416795809514782116143261443559460051384403862746724313372570316749299023055072573864132836419343346617838918347702376603046870673437621847332979770444797447868121458038881958624849867791207046948190441989321745332465922312408530454571092713729665787976550497420952539237833767698589932551382657859058574468446587947438375899609798212923632655762122186009167594183561615778918365799726033763358201019255983305914089521277584962389866765376014025364746969511176506377937115761018385270101560730792645764317046728536575247220499267590960056933006089490728891998065471587651293717281033338088164528726655956251909142700508599132873627203155432094874641192126492572177922174801114594402760276537674842894827163552255346622609710975051360837174946518042193373855550492146680528811260300470964602572433875825562982440113897894710152354559725830501859210359272284108020868693602843036182310164714216225278908511538432456675675872238142827074825087893359878557564473779055365505118409592740321302069149295160817833095975392308653562387642267060512324276045067447340516998592251890305152112679356669540190177275072331043319931484702075093129533922941778222369951167373866292468084907560519635385406377430545734758378688729061488510827089089876201787600955484863703130463656495904378100041848384879465060735255564149636381584332983325404781364226638749118621406451374843907629564684006694874728495058280213556254281227307252786950056001290888348726393493848732481726233607700891323434802926254472141532954893287020956781154474837178964623217956634035454597155750905006361874777813640738350799854098291633163380315125135649542530496520687652730617465681420730398852370372729958122744423206415841460708218783483522485297945083316849215242559195454114825414507694275116061809223909345445774512119820194011044447148589922141827352259284463626442202571221795640060052614947033925438702550458571954229471546902536420180522631559795258533857312399724501148091726546329993563071741974423631299886791365498925440502081935609775577239901920239155927585656023388686951867393996523956322755566061330875407335937182193420921931051493861352655238745382714719210963219567116387147904671262737619001241948821849113404005459672243522244853993987688251069234921574805679791088544391868168000470624641315523031572446908231741867185813057195683570724393147966133336831235059543413222918889193293961966790119503149826639625407537379723448686204973645259284673114151233057881972599780034649500644226821560751433994362059325557537174647438297552908736517004413172201386540864745764044191074619893787612634116813429657241953533993581449961560598570430752604092678374348333257001578164947251554929423731304905368362712247899468235290298813932671155636558274432547465617822026170201974130884586251083243250262636652509947866639564869954066810680808841511971432325714043870051781451523890049872336474635775303659515792252241722511906962247965836936229922759163521373476239952808603680800236771385251706735234261461535432045434390403450068315137048859573024362879733069495279130071899154682923964492753808920351533717300568401837722800997094889369248014441480742887882491379896531214454130194435177400279363743422561387993072084024846544784761815272955115890769544890663976705434311734214222555684116012854926831642560608111855454780850820180207604019258882073245236839467559218958920766509412417941487487495045353773076839421931010602466754985074490165814079101091173103601057837252356704230634583679512826797771559874231402201815709113654070387220662911891456043947267483812936055226811492875016508318076657555905908721395289225347488374138741029428775181241769769490171787554308361624432976205330959865334026648472223640583245654061216964956403138862257757598040357806219673212880903461984899629395846457804991181589905662555875831179634058285304458609803097464487986922960221942844493176821754066034506345386474639844199429411908815089271845809232415850864084832852550055604940319672286644438405086984372851017956776324591531187662541039149824104668550109304022580422938489431245502675853333541005218602838025537934797570849697253745382930959295528528923696171522097782436568078926511319589359747147230072314969302196337483814027969600943383842828081925044379522219600148474731482000140949465016907473385071818426384955538439834943025804504597545540180251051201207661464119713938895885348151230182209971973581469480157183650071604072960544236971931014358353518602502496770383412690119180010341350186277985672473840368534403248918914892239553408174812738151614407026532653262997671890206458866647153406114725285118080034710584442753755624178277524119714349821424539170533566656064110155043270904640410905521053503965166768330535103679386732076717721403607412952550849970135804714907971342198062305583932388227528997869369097694501833620326300722025492053060138723671538346064493835325716668420018640977850647881892123302049767617795047268385154639389872254326670038618851159958912077975344833295890195664496058321194559196116074221537047501216210473604431989381012186418811195355426695053028438753140166598138785784141227738298802390877432196601374076673267544583571671215564903676807134454180312044934580752897877002087880435626271138709724498674188531195711261611219943584225598858220577767790394405382969251212486131613109923046806082866639595887016571743504407798110676690673516408267836578548955191306094336418207939486617568386069170037683239955101039711151726410281584197744913244323026489513308693091588648561443818573828866859087022369036358480148789972692137276011860521937450732289703978443707554571700137905294945219992691471654265364669803391423364886586459989818457319359285158115460382619312748543696745928087247377333304698811751827041122497490928875380351438269030654315406346024936918596240783483332331444405527064315878289384751113092164803503722220993452934219710187328985640839274189703202178972173693554752157479908326812252113404047662112868930491689279314004826807405697811606638534897996632627468814377320081624816708250367154733712624522776018161499427034567845122555387518109341813860403427446679773946363880719259018558901098973885915453980177677833524303353903201726987935613877460605686017256583169311735039911671613455701734947424658144232128799478142652475285525963989694349399413104613427850832507059230129331873288466590924489010387324419180802460116872109771128396249159790255076224068242671245410194441322558915854518914973746025195225725629826112597442549848870139268020584376397916797762300145819555983069811645771865834300842381057770457822151733721043399193711264470249017023524845107203729093624667403936032689344973765909317596740927758684944530144944833126499586830979842399287855597198436431808325718970551290956728707957233263548672235722663968136996095108146360348122374665531168708253963854728326328529108043146305738106901142216020914255780190658530144647709320572913721173124039422800630256514831152888611476757167993817500081083958270101871982749836271769676021640519862456817803845146899226143984032779280495744842663341872663838095844011508703909185868477505852445410129638803641479320010315728678730251240796111222130755656064018163875126370528211311842272408428329524405638454231300188969193055214187934656943997613480487219004051445456955042683675991019925485675003351629802884208040197651669437900227188291881126025366759918241156649866652736178040034504592713386472069850149721664463215859146583711667994561731189578663379450885923216581314791201242688974976838818381069060460721338237302444519409931746353474123363995721391555993477769893659253507427100635792142926532819974272544324541585266948164950914739439988477107525850270304513683586175849224527398704673501759452421127591900436480240477455762311033646242860388528762259330107064289692865785411620628745403696760167315369281518118408663990772410239878442213817777564069365302920354165914406587754855553126630724966812270211608106888710658615620178185394944036463455167805455123489238847642789981706037088413822270047711944743148178609948562428384983171208194463255987312468531060750325542236963001264396297961312247955072019543874234032351538689558863543483541248827844266244688748130624412383406049834759240977299901890895396222014418365200065450981636417804712132899653725558999074919316263501640238369872369403811836345031785085521954411976784988399201186049052944273605797576501547563371124291509499166222220218290909887505850316557035722846488851451356577569434852728564091130605604718037240538190731832757930875356704751483517732359728120240991662180168206517080681930892009069676881134928073789834818573352030111046028876309701987195253557304865436585902958225614129842429571028588309258719322116759730307815847695165689615294875662440062499193334707152813842992414140420507235358915590685428914984147160977664726571565510057610972293931043949056405734772961374433333330552235737024635000155007633548384285442941031494104698404103376639045397094925348752745847452496772486531393296289729495098414989132773087333306699056910003506774911995191439324337491165778557531311842435628588250519157624851422750782088475288614298766856447699333223251499955090507642969766755821053493460665064093483240797819003028716261983368377808169296272448585887325064762419961616058279089101906445385409158425505808713199982966944488853487713495617712359577282513777070736600516197220879823103822028045393713714009227277557439583809829303148482726512060020700571695519046903086263114756176614442855380389760143060596435327050686287160112717828620940842225554924284931319597917291202680272438147681475253676123512674131998312019968153750795668552574916537915208124292058890749594588603245961725911463067724089844792454106109091498426565335672348706076399876895038414578814475685226891643948820217080537563614436840201886169399367698837355097533569283338961950273680983547694775728125248437035598777287121938103530001623562360537910442405361750199669548363131445680976936618042960762023710737051432279088305123098635067969689487430606362008363885783269578019677456582817576570464345852141223889511923797130323100746303604216895338324526214765504745039035190117453857931962686329242817167339711241043496802242483729363534819571581354392228543429114117010508887738969906880486186344981047580907454376009638089863814780509014837869094016718075070480882355969191380710351493977689650802025728669228232385974624582598553089245061511196548666858535555424259667071018316516627732442005105676513704879242539219223531007499849239227116998131434942848476553348694856259026162279881997071646261479748021377915107382129696559743142680382041792941924526114725891397492574414910333080324980925621201498578423031656700321804309452771868901411991373089658724238625379696985678468597433058705096156499585837847713905091609408284797460858409096689754111040868655909188955912622845806188223460180286742766310340335295984065181246006348507242339976722106252343974403232709440669222254952411235902764466833153672356137212651941000168467400417149529161557175248373691633787478671888710045053804320189129394909959482220039585464473631646781045230332089242064990458355921425121660305775446940749723635292232896665882099163240233806144766516578437558130964134884972162730323652994899290858674090173936764907125698007121974696992358784395492261156282746707934860233404480499241843853055863624468026504532310377620953791675957982468830685693294963860182295198604979101000232200045907216712899814477028719928600278687245205185726713583645662822882553388083446182190000297215074619623755346299364962432856794977059260151815727686517489932642212976245012371270167814408099208669056048095091230079430336798958946077386209221893465158054539889438653655927864616901187104136985422157062883183067111509759912101089085099459146412613141148976621452415102753836665445032771524742056540161468282233782112876633604577778751034668685871601055983066567634646863046336309175059233048546802292632158275826729040028436264389380917442229053103938940632162097613197673226531575379910320654287943163228375359026448891268422522648400995879291822079966816804799569708882116330023989251998781204848699943413816255957121116169301788023462689215412831749699693583943301483064618890980207411652692490329031903474196989718709899338836702507378297534951277412721844037588534560022192270392780988253915112251800072793800217438663971077475247950393579474907564568471623109569295710748585782870992550505255181642521069916791394560069191755597650680371865794174210763938552666678892680658138271832603829133654587439184070376956948306580466562145624049122630885547087391475795330839309687533361287950823385407016422883182638227820085211505566421616488730817143153363954198950490299852398167790340398012431543446000505387518531429043686297345089827902749846200864658116720909507533825748369211310126701431922474437838926643203782669319598188498795516273838605985670166767559573741942059510078982746391938848922229894543462385546457784110824388051809146264369949389440353904882515598317680322675719665392395045352791570590700149514546572815982090450119565245236047609388815763493931411932233154670957350877251754421121593744530871985078570925741762887801760095189539407376766233308253424470804885801859263954473142160819064757831664531511443181366503422566509919882835035615172774514085952723651292634473362786474096017624908810575508079360921901972984627972243388501893922371133906392616245102189467226727119687841635127800415400208960282167443936906010390936783071863475466043171688370952515169003830019176420032317340876546794251105789010690411056767595395749629089574414152093514952736934251579819920030322718814469379326811685087043347512518429393451375330732896821842313428019135118042145272565110075095009891535955646874309970800068885557031473297582794168102590764008234846226356101726611630743579812718143610044619305170313327259529075732298380314381652082391245166994024984990268427943267989504602773477266707327996789048108608209304235553946846736867371661693031464449037372774082459645893084670736241149715934096649501775676229274388564744895588236471565670831309104780998898305105942641736952389699419916730918259424806729549216770628893613056354874142255116756864343911632727795308070747332740351690568665719851237628593691850033787268442268876269716946698338193111295452546219029767889041108410989435885504020820471309411552271938083348589040679749984338784996451855059069934448448514228664609308498017750186909135714412974362759340065964718607272295983587499215539154661927994831602962925836544124492052132877043188447845577029134321234469809541943964116664111079439655840537147794494232387539446208819748070959066936211846429735221535948428188988375718084239329348598322372197750910876712703100496177340908153155117746250933546059000772870598843675526369153893482667043559618995631019606866779338062692603883436191693177409873020269632715861658528883689335945735042199555471176866048623239358473972912979941264863088427257051687398693635466891499236945885093911983397987611616950931676016841657256188898578025220787537638308592005029611461907732739132523841633645498828540571580478066435892692115226245804836537568033225143080968898083235194144809277106125533867050365664101680905832050076529366486312795162405466115214162854751351171760075101732266702325157149302518107327869354452162240639743185110082642662846821963755774371804548984073189834168868155223352478001782425276266178232973122042221928004936166173538214481069981062097055736874208001136629951431881489944224127413914903592468422117720947733005421021540590099514530411918194056710607085025782740637590742239772797792164344532500334753786317705982112987422008811574835356717399550980742704832329745540007182440992582066223265809959337547802475464000337243979873581639494067764139893512038292723466545416713504366534396216242450965656941405129598321448524854933199182516207942277484326231365050511620742036963924328118253172260566875063504549797273451499349259944737887313596475976569719624379968805579748632015030083286091434620098406344225187049443179665450086920994007104409455214821569351643947851792980922225503215133001120565326188928360702614114331575056962644321957887715678387725845025790796656052619354502944513150124544006031249262877464560537070912486757582317382021525918959332815789309400849430038566973263560584944040800072363988142537176143201548483876876233287841390573312971852781739072345694330756758760380634060713366230518870479921326361238648751942480055160847435037058744944107430804429702454447388157282678039061219388604828874888733083964747311369764624188027640693871211137407178244483171005771664974446551524616598215488125461182969679453386880579516803925678501593592727678780487355872303267006378378188651822428065124656132501350007128494452614909399644146727068640275019038383956181782191262775466047513100289485491964870326728434843072322021190766402933095029277103533810257295024004828552989850325648967188325936740012317334911224713498510108047238993722345457174501625405608951668437839305246222035082245342387414492600418832466607596790500076642110113415263569730832226486228164655282303287577732294407938302688749813997759476022181200140086857307200684381303517056570192905835943301310103083435499751488510862254158961894117592290892193266661479368432125822387358122649397843619729007444959107855871100442785914162943648032753496961252494550729761290095792640243333400636743321186911171302709204281082193744900541348957617546987992005644840459347487637835844710204343053813231335193719231486401006872400517683547268212341215985834665735728382175959659067182013037003823584432548931855801970812487765188791677204828293992284172269227334479694544063377036062586236247428805882042956977938171386598920847025433627198282915764056333522568139890754049825136567989298903849792775861590134896879270621762611326681632454131509914623962783365331319059695702123382679720925062498562364287875053799333848914716425599302595338636783797576026715104999551573938556140771140939333995783215730175074408755231409668135946495382125141911665321671451468746302434004432563118914747812709683660674884560944405599579124900654404415217198843739389318184169015101976535335924956377519521353623829515093784980795518989975102443036833942825008638682338967141800961701752360327310487146137725285452588237363784521002932569320683465060614169786507696768938219470155038688602791690047293999818200612657760566006779659466748105964079488156404706544884462999580345338039791186367019319112202005261371839988802222542893311748328410196053562144375435814134548204774676995736130451422976397649541386824684570244045568425703873466514493586426505880643875103438860833389043341397897260890417889641097338535448130668075452958591483371336331983877942991345087395038041223036099346542308881478066671596690089993851123170600996869991310339310088564502557123315217632731154502964814003014180612393678411882140408721993571643009542951351246223086779787664224466923547693499702808277135379974398960361857684950701781205183822384564844323449073995583463028501990090206993049750291901761431096208248498216298358105183985113572654253880368570611827828044056443840068264094753130308104561644690668290307073911354162424181416996553433832003047759611098598701474580619880663407308969157997177423883471222862622494301629320932703410574165098793349659081911015817581528788167205374810163802130008695748162567490892146466569970733625506996669109979726842946775945815888819759578529527312081930157499116520677866501953575303751602049765926099289688789479174211277331328338390313368985812096216687207242616973773222543704226309789434448157948909615348263213369282384256629862057121490487221735847970713273631751687321518768270857453480053857671873834761416556014123333010027292061427179992386234849095952616026422346402853333010839220673957532168090959635765556812008130001883193866626692323462399812958586807879670533027260777916264693161356203469334705220621807882093381614061888073854563878977268726189205089389103329564069230575334082669325783891389748259060955962185054241817731392856061008148840067943726727971708128093672495276277719532285162893206885613770695575692383136295536395872820646784617707245769531881322662670863516141398630916786107176416320048525420896345144030035252633945210052475975361096023753551527760612090722233509124006083677736249987830733856874284808518376388769449655859472738874017525369570295807741490344818416678243395095465961589286955935419315663035561810794706094472148451625463812970925890171486457460800281231739684326691787515831874645721930101956039583757122512381704375633961005782933522191894356495747730239552169247606057324212839874041808652629298191336629493981741435495125386547399954097310539143645120319595051925031342653317038623101505774857230685281073987618304629838203992495403604479485655834561127952430464243538325515107451471635598909854029683781529186949831831535976766494996897901153931872894303573128364088935958757494354894057201314741249702918135078940547946579066825487598342576279313505062036937078661572456545614307212076653471717635365322977594944279001810903172086205747465814594384431364090448957187044821757020340122897885249393874891964182103817919797998887665756302652862443096678808340083373047369826432281920430985506945117244925528842199734909982574191946863261614569471939098227461249471736011739192471248969367801851198287075387743605904720079456467732622828124197300186123240506860361930604891405448917007922098260848475196894728031081832304900754625801443355319285235521241897234123445279579849127174524894680409010957509996654457351759828928894405324488570020398964043947080198302164199662676141707219891425742614447407710269898977577203874151854437987471424629884477637494093118054792022098175789772385567096890141128939974985657748026643987605857102534976411078485220190942526045313855236201716640916409842967507780002598587803564644006293611939013081758664460220426670913255529911696350744540613371823276099978860134296395814236894021128437076912458905675936229360274472314174616495748463141644332042065842237670695785412789429564994919921118323430069114055709273242808593632528204774217959540253996631098007190475299677229156575120078203435212269704635077678817818020848031427808668751042928327403101679935349550845304782521117655993542639014715974455438059606143302417787655900172553077186263502312280483813765701084096282927856196845643151883758652759079892904131867657220616927973420263324270281625569575660580136501163120706520188952094018758101032908266125341242742079061149807312877397477774083431785185837161295104736343445829152266146937806587792138607285715346844915867669125680303233967216615182300124595670384722636794316467126468142146294438097092631742561757396711553307719364850092024632835888199809586672866909496561914902642649583635451284603041475653968803963417063006920979760277610917847488233332120174536175241263416044652831968337555450415176520984083901678927752076269394032021305662217845122260030207574352394533237429027237528681216231354432177019129624454014128716603465969714272931799091601914352188091629273061818464834623024815000905546813053580365093004734855902831221067767183114513139354156359101951758114204072328593162015772040094008373047332303232525262472084075186915925867159530155685898443569566255181574934447608566402956861439784618178661372756728726708874042880539096640993366565310939366357352458261864978686057964902455252984217500943911588008079302005299416117958785017870063034439819155208336392060872756653624449167230252040378737950508519158750134688646561896878308361575858888545813137215995131343734801805387241868021369840376385887757682121706098828267364065062225002147504895718843325679152152874431638281868495686290760087247035610317723619130245356103487888494326886947643211658827768358098779296142034005069513932233839575047184898054383861360797187838354932691597438816451816503481909516730028468756206089376844978970424715982426030294426325045717885162133683998133385501190902892373023930133109367972055917211085471456663371203264152778140802421381117003477053209272377888421526567848864490954394699521966161342536525739128021598677323564608939502596674845615898640173636698190311760495880833439942715787269737947319869448726709035759156172996439044305068305524988495149383890584159471151007945919390040287836585246379247438976298657212824197578623846434511583807093998594187357474438838717044575538947396536196373168150417157346918452457208155831007773900710699395476475618682778426465469879710996016616936563469154778835901144312360833751399854538427623364579869431959283169972435046788427073650641832690449967697924098298350893278108757479424713304545680810294407694334898399667799478164179296660796829798467929765759273716791626295516923800503123523985842952977766678393531839681611176425158039861115911618847370818063351442874724919594490484855206807554198436241740446903749540775760171572155639223735366855487338216255850856047466631340886214773399978119596915997893227297010949444318314721222825541687075665359251910261818035666486752620638609300244545937976775287968746825484982669995187208106415769032457289875989739942553394669303149735810180370312178022874684642814429633342000002006625254867851825293100938112665472544233989042920896994238478182141362053402566693478176514809259278521300451928763346228039359966032109618592797817600901158995580796702556335181019984970498540442920264551097949930694855790470600764716769955562197475492850839777103936885018230265014362913869790052388103279176054245904176170058776273601982703419106039064550818320145589822694734381452781076866332827461435818185062756144104728322703843299494172948044884897649390573751823062926749318636515280280647470993171357555381999477225643637435882926124331078425600348144671407944696228321108017290067549797946406962747470227079644006829435874324050434823835939293839515365728009164674300190728141067877634099556326050055547526090053966873057474536670621763765127795468879541348594550888959684230541500355301542585320375504131375106601306482697578449643051750465125388073110827959144667601227104727374172079428766320312200305330586884530768812309055137303130470862709276708098898074169978057489064564120894397521248478423708537887394243814268776619344211325556300511445545132760610497494773973155915708144070118595146164662020286700662359185870197450600383261073138128150998926691250234765392608544800843774766671292650780822942580368030715423496650170961702693462546711978270268419802955609338426091148840621685392035045080834747583122904379393811191335120661318401120935576380071183488271858476362373653681705532085650994310831945308220216313414426344456886338183474835943129724830636456160852679143126643347576442408406152033830299608629480799700557063486419834955593956809544200074212252852510538977790915293001104777290001336427727508785315049152766688664059198019329919818771995221532677018860383595709693592329029360609859800817232617705870111728662960771496549837419459455728639339821756757082063378372153674266773555915553698380021644424007730690125575725137191161232815388031509602253492861942367184175158071007677175514940504056573772617297522371251018615332916751699618365600570683738101397728968339029396061336007710814124436361678983070317654853694660636697206977300124806985000452330663625182181940489334194431313892675958448351429296569272897588844410243024390515436121160240221069142058763401744192481482089917777720138987761851469310684946144593653270674920049965072930773562494314878742963135091311729615602761121706242561850397216811115292323937973280936338377613162502572519403187222639189086293464983516557078406062938151321576239428036848967000098097522464104416056318026510028400837006083169373668085908058641384945113829929557488739391412835733451018885526033889013645832022420922840006342438382565609502467489963382326882466314433852088286712090983428566756030195562077764564807014760837562312666490099293119713353312105788591474796198103853285831176173655015507049153619404375392500597785301894427515891647412578319060162931641176986085464510380992899615921066480465662047510853125600961189491869470054581784890855954827196187194045059106689856012455817321762069584596499985611829258907562332869014534252719572911969444289205059723035491306843601803888683370789124285595082226568487399898792161776770352336197465278821704732530010460197597762073346603547786152794578662983823866177627893828745370072439507255644526798363963125648422584918420865368694132177902372876388597752728510502111331250434557022492259354017948651567271733557232244053170692376955391825800774106646873606015025297765297603544034202603657035703798357922702079303012981296890707340224715095011881491672096340740457963456598359964980854613790269073446263093563173069008626436288701239843135573244660250540642087487210592195237474237425703563693001267289146407940028205757429478021399357332727304812765831576565966560521363213870785909381641650918663061306919382487214488981267106640238204775791743018323643135576020741442703190101990900264163875769635103230638392193342042616766372478413599832115033059907329963613327039830415634548912932172574287590441880012083336684859228907566798940955839501624572203859821243548110523089389026334915703949182341135857405566109137687096487512223781132973500630580755844931352030034019098149308225303085051498963369561447743208131105662893571345502488996710291540355999738033038844959118533755303526056455841958201122466283501790054530368756701512385035275361995758481217471480932514041800562655551611891407116043635026128933680544909501820314908569114736669997259951926603533623807365067084849823355280822103294691189019846786112389502623352899408367359068225034787442378265348434530408395016820904776005355167692064110069124958508848439647668949331091552812758669171454998254289927195145670447108280042442179254223631453646689581216975975720456883781205236574937792088291504777971086922543592042907686583367874151369908844489871843771604492262987051540661081830037233450408608068965538982575844053102029899884604214813309141485744506225179081445001152030751654862969064059309667718210665439465523465568832915764218320394863928511173836841078643333950408334755497812354765731895715607356302216479893265933613009056943095201649233675084994180509442242557875801307490291696216898789023979852038225817531344071856187700574101034995814366180700758217639680330913419827347916978180929544681230353020489675190255606497826585523178618066312117791185357402696132944146522493802152226589351753781722620097858390512076604834212154426561209640395758819179243302547587671571765551107304131978604503259009905983253989950353120311953996692775074869231965638633566567438066470004500800525025892418217576809363947374441663419671295800750284477006730454211718636257113830586979306452254943346484890365971334217592841114049863506959502620256239783690574221947027279388300913462701345236532582975325751383064499041412433008207937199008064897468356125009874267778459490865178250349033921122876176405188802173317849369267426592067921086961450303689713525782440218589763502311602323543611244441562708978048855998732491227936573304172692593853657731706350281437747940030393371674569148164451370070273625766255408953599565632774880433242456109365334947220053545056349104112471707167588280013980203030085264059329179418153441476747481930669858629948965923508784186708826748231435658593169249884014541185558389084829622022548491472071218948331529476652151741712510529461525228125280853239078763200357160695229389400337129316183335566529769120848301921827719485263633895471601469107165728815491185557780273654992101599201069996154100984701551776746817445896024350761599032763536119483338995719396993415823866491631009289795524218927377174064521462773614499485302316952910004645108879498120828498623079982148126657650172471676660760935181466515398823366983106832232722511182443656755053937143736476888271928056240929448508548020144704037070467357178658466877281107581054316251998725494992313195488419188441230873323004215232807509671884659144991033697438648277687073071587296501794846199154808693369154816505603994506824870712296911672758375231778881560095792890212288471579864549861279512086838927269072519725884437470640186025203237715167727599371763119458231674935734919432874800862978226818152714555330481660270237717221935863088374063417266165854348691313084196042814054110488722101724171740237691213095339499802426390884615707955137533116319520766450035621298407300248521984561709374501800509476994031739521452120310198904264932626165041261953424727510858928807468669316654426415481229764760755844928775911782946699147370442463155801507756895834903037431557085789314911609552782723192458211536381493682876010758646304233304689249110618493002484549184624653806611844612925829866716010458838741593151095706644325517398162795443640982328391213085948475777506236623692443637605911467716020470647060760453359647212964787713514542525893762059644235610395096498532982402780058336974095507541692887753101887110720139038812834371761833183332837644613166474686233978680951220838285259942165122702538739158357361658536212183193265994677501743468594259964428446731028635541962192453938009700308341961631048098043284236764005688555963177063865019706518714502016676026117259598947118893177500008782225319259557534493907346780896470098683892640535319995978650008326812516235220123883989775542005935725142204068514771450815858963029427082808432372746971066652154837750116889059996129463731334950234128872158398550775364614226520380113253693349224600913294947830030922856783013312075810866462137299192807969859804864668191308868855752303550388124350292989343364767108094964167941779484228768161833200165246688743471695188577430997728420231519946165126309768526178203627837448328000269653645181797713066985991875654619211325535069128230399350333461660197764596770178310889572771988757501390571937014514299249718424228905086447506649449580971273305026691634493202566964830386734969233608496659630842875858792233624240595141603848571543432721271404915294133903833455864070717042539251974501439770101523611305487593111090916942354490465532409599261870889880786963795409203502925368211649820875992908057820315253084435980916923153450574861076972677916691800777992652426988460134447874116928875028452591494460766826712671900229289845637685043412124820890292218111687980537346405357454742732437705786933650733676741764111958016434380488692949809333283095563687167338085025319154047957478430397135275310329135739866938414643221873000318825379520169794689827903052792198725017402095436438168048885479493651918014659480449262790822475985660151602327271562872516112210848938575450057532504238986590203863550341575907415167771469119623719274206446957839310691621490641987585564693879594259350053886692762097200986489232991789316286579059693330512320964839516353735196660597934493940313913569267899294573817099697109386553455709941490960955011663232469353428283374619684939172846008035446892236624067008487529063861022812636268052786059519122438902067250565659406208307290200242047977186771922698514647968047202970546649671601592380855416984756585634466366702795273820471039571969406012789694845790925264879050801656281605732950309410043262648251425927411057248432310455138294935539362625589104059155175278729766399287178800751326943665902440988166830502894631954450022487299236370569295629529698264409897810157991794245789781506211526065479366821082818980469838893674366437290516530620139049971177757462120096358288222900099841879110803443295073539753791359345707498920168228602479556175836526986782707630094687899602882095758267101771422109371613052613815893909232975557287309843497956448498174992093876770837953704124651277744867613844259354246710637260318619537039978057105940734664670484825894247493503372367434272147339109455205027100195295685356510283481142831255881181134853300340998012256765022680084403040404191055872965072170193688693212040103062370065840835957276653502259886510529617988659981666286455245687758428426889027520616203194859218968302674632479663875865308763712885234331166521026297741383207058467409162908414892727255192584760108449154512108770935670556466249333725129732040173073677199024626780001425841639202323258377678074451934095137831771062178863519371850883291251561547840967101969337095433256596985432537556451976504294323348516160286215333255899037019815022975553459666685996100820954420631349550363605663591372823213220531358912574701823276441022233526201266032145806782894668134800754256569275786883118488556823740265710523824476584138057650336780638961469609240834140936676888284747073344033617734102515737782112631110634194206108556239356826360660766967900248553464504932086439130433421935279235892144157164908307875893109539774960125575988529566873196628652570943029364455870886739142218495585403159745113703284646940564221651314158982756502875266874524699376403255333219324186689616640269563610191697304677461317642597996814646108984246194886816765425192342526045174996812646130862211947872031670019454553548575073942820004661869086624111389178562927615565381047031321621273660673583222288417085783052249963246323091220147268265711843537652840617354169909599281181155419499372896035424891051667029838668602365223438906203997007886842520325228387091013075088663984262931714224393632706163283551651686410476598252918605949667298499572129214606833408232571247429817521368960857031543325236326738144216146489405431287621973688004388632450477637288518426344823419872498216250907723948330492781889360685718559854061017825881059019913612447309078864421796525669406586233491896831418510849260659130599970921504745792206729185036326937095893030722888430348242074544680748638860619432895530702842584912612932322913371868437987622848951513821949661205359291447736011167765625126218078016309874884965440993078057084798138924003615353770377990521009413465839154918048194704211566835431499667719824070692065677272857349026625079713205918902108250647580127616871035831019764976924507623414330223282828339094603240853823677424196762014067114782442550195866563243429385104023034889482425044461117525582445774070015835695833513983195269928366952148474739875475538900647362286944990753037055916430694717813740812813845503642178446896583788082062347368019937277628354282048594649749644656688314968905082690479790853283525894417725377088566476024065200588546413927851907661771712752850107803791467928252267592559315155361225348921868417028054952875079970223552921574300638104843218176223561895319604317596478412812136266811292848999730581439560101935107115520660020222047660983056441838918844005277787603351564222549497837503780881939491087489530155003251092643715741813394785779180092789218445944104228045072978940218535027089663899542077914858902514745824731203653383238117045404749298917607871510868104716472749341882619445493646146367493911413629915569537369533189121030670268548300297891117407834643716862912009244633423116081306904599567128231738170524395669587228529646223251018220544802609031227845672409732285894488612621179104901236171779291107269415024754757253918883824779045020314076570107121340346032737448971376477736046262387255523261581090486747854139650858202997013693347920123941065670032295496917495423258369605583612899079213870606031253936859597985396039257713156154132204627664804185740897675005853298165807084433412430807979957908906532340174955474970234879404849772580500966749810010663428386285507709044163096995683799224962479868819487724241895467875923752690496541044267688698099506397572629301145125730509065891967800371538786194463705566398559790526305173109903072472024906640871524209156408578185693812687791010498200382129433862656746541223006089434420539290972082894990533109253863427636596181909436904710491610388626584393548227502874878182542307756152758203954534815132409397147054995397360827738109116658639423181736189389601603137139075799231023217118138722191853504371248150876356014092600447638712127059557377100509897720061300731557842863104630490965555134621022656183779097338750489206938723820446118206174071936066095725763784451511409169048970481508528043684196619576599632808657438590491589480197969240968160662784032792023422234162143355340292784024245771443104432725156396622567488629911116089737208632167717315912762126965022095219730846546059037210887379316016286930302882814541673772492824700188480260708682939148259368109597521834058612611351557516000111971474823722856501554468022240011294408862377254611841703858363627321576482755966190731413940986669734655159693798376537425193597948299056571651073178222030262931401167030263561170745829677593202836557868495519724684833652906006953991170764809263076566203758444662140757849414214541501752394342531735463372947122493692851148689748687156661327445595600437169339475052469800749834243754746422450528421433593446774208918495985707692945366191614008511815397964458942804379536581236502531769227607839659291927916041685463110446550926351556170559964342857292130837243723035827455727041198644466539530844210352530528467937892050959143237107143331615695665766275336476594922663898102120033258755185455001196632703038045044595472852253794468813785571400633184578076406267133343980369504148150343795772363398623072553517475060701388152191221688805851723138376924881613322648771691816446544882785357731693207568104224765153684211888717591480678468078329970922471503873086660705417704427127972624337588694212342292165360514889137651319514189467075424419377694831288703878463982048130076521996890807243575619090741825765100639173962815531211015483825341139183677542476135747781882971190259328642112419789702543123520384424200217179892975887238691277217549786504251718259359839850083049851006573086723218902440686989004174598568631632328869558955218929765956955932984783482165921020599911125438905446686328630635072542881213583887859000053613346490667346422227944454457692341802492635503680921397763998245648846342639617006903312074658375974531902673639095769337785076337541402089462017079345987642288165093894543384737953330900522673255116443861507311996153639558402095241022829186158209408164324072404372450594428241635808074425507098663643483815802686857588981158222820766794955896417413010348081144047236605846921918605106163440881695426615481643242348811516210732949164480995836087762679808102176093640967793128911426610166311531189882420944376993396382694205305947538661676947837214049487090749256971407835370950060375250183769101569830445845427368205440827125413509183412823616394265751787889754507112154449354905926613503653709827990148563362416425960056825873545868028533297695826713786155085668424314182317894856682155031412938576186332326207512871441423860493092082392484038208919538271709289942770489144421200090273578836771847466020936365098721387728196657139913235988140806242298125670654336283145819011063189676329198873233784609546161952222685925385076030115665738977796097545693064719235271530207447564571193028771622444845979798827044744829976535760080041196279441682798350641034172155222389864865293970432488709675519386879125364325383882562249533315244250118648132355739739730846679112848026299258828984651043916874559750844157779271195870103369012284187882366164266300915539259411067577525799675566316878188039186387818242233933672347528700321229751117113887262638168530057655739876998210986752855765631938059049434578436598880206989839201674696425618870815628788148101418819483376234650689306805203363744128015647663444109310910226722008876261934095325018464011064257338543426801837074531507255428946355779199732604246305572861067486474962709244960081096649838026539981067679287138978744415759339754376210818329940048465370380610039161687451403180601613731020030793988695017862664690115422157854186339177737637071360875834448264501329004061350240465094388372796595748400521867450295643907512225210137227237687846178639485397120737192185217108342258030675100963667150587007224719195882499690019664490614248261760606766986316990912378264775600179394027673567040618450733901347957667474426925034464493580892549164221417724331956479745545538197316479973710246189946364626790692047752674305511099923686260974396044601813251144013056407688255707588767169665513057149335746103790834368348631047699014448067656359650187366087343974310038282190554469300017845609754261477952900357187064703563802260673605332262345863801437246883745393591222088855254890639985592235312190176433130017066500633682811464101947806940257867330049913986449600195422891133709259883542229186292371206119423036299105118089759636269013107583753019804041572935600936096712271653683618109101183360413588645645256057762863265509008790589481039019388061604449337858102223986119534231269653877617678704918436329387684086726174092519235741435265569515180351527891475368672475049239453775458752637374820337951809066209099602724439728469128515850027824292550897382450112859888641498998252925854385781727448278858347787433983796619023434825352659845158210550118526519442273979818280984832143541696443676224312548279903122997939557597991284511052977029844690722975705988706243443246648067898845502364474349227691811808218063328053868202244638520323540208973169856888331085230728238591101292879225007036571603394886832847126002011723629766246748896298402385155018893107996103278477626669088688170584028960509178701022060216600834638637693545276399722848666100431518788662326775564160376962201947242482293821128029364396645742091239058152605858588338213745193614076642839421787598220467357520992683984001298776439300505188857438443331535188444034209997414525125678367687271688303838264086311229820173705983506938360454716413538741406999110530400683526530089552117394679631516798288019187312093880852280023619695121395466311009017867480697399542153607162815670371496854183949034217932717704883024296704449515534504753125817299643362520737263688831905892873121628749077313660346298413433080309295736498093068125165297836407872849520494152113150201293372387448773990304994364005506580163650135002864728629627563988830366178950220077192825031633379936824614768437517124108255098066485156812004381586393945593279006999361564348348840872757247762215651631437984304725931672253917219803919859918937817030560830103257990261497013850719772528506625904235504037048627152780280982412994767225518552905368413889004205495214509066007298700534344171525755110216885788574939792882276729141094507635697971801139409256734159202516831846532798018561836147094163163864807792219436522599048077280265386694373107797524354446984534641267296492451592405600880530690795670060988229959524390477680664518546350970105933498466192184407881129040700132917629407528160753438941128377712645558897102274923922835605513753691858657193753591779123183722006354324336510325993931080534633277442206403812988423621490928596919597637425752771400652723576615724947075906693092085894404974509276999033753804927189170910182668912080838536659900563729257785645781823062089638543989104823990016190276397210929692672065269464213897060100049761455259979872561803691549387744458420323888049740804548073192643712040414362189574342554666440431872033683044362839420540629362064567885681394428883313878857902547084794096689318348241530672439128877815567445169770971171906527477342969259500104859341948647984815973348581140301923739866186870360432855723707560025407226150122949694045521647000667627674355310501032241593841950006107146513184037190328862748673407838939165057993605143760249902838056463183853809655612508184393647093957163003108169905698349438896097760224829720523638791574746462065154002498538565345018233191190028495611683587770153934365142213764008613262419791730482493667961333722259320024061947347332858495159615102305956543747325394418544546914948658688063228231933433036573464593572529006344796477489739814850659424486293954749494654774341921714808884621762400729652089962538332620466568274893258693518009615647565628395826181601478586355778737904277175616778174513818702170717799592920229262545085602991055086737997283788897218128060822540535160358765717276814096656180521393915307936330766353525771781628493207385044109062114571973549508467816265171412187134874148568838654453679158906319604133059607475171506211392591676246087946098210193083987525527513306319864561346872611785680259015874980230541095850248160079221858582788172628571794678804897716883707599553300804407348210930704800678474589387543028976571280268681595733274640474418559993811581107176557284869576862677456001624053973917456862555473492679010888771900791232642968600493294732375944770541655824766161047302505270395519400100358805744677567024588383542857720769358538366331870335614692751552278507671916973689796291313299654086915048991191840929944331339705408684949966919252726936655098689275372716644150914355182044532637973227834640434515708110132388090400409106975564851822113104980897721366642502472962241954604314097133230845938914415680325706302496019666517440424966744742489345324728054715477247772374772074985945139143209566436906439524259489077140329861859733864834973910908979503024806849779668568142942448338843495659396592294862171738986225445853524247184801147417306106784415825385743452759971024414215082437852464792561755776865383276843953840874403480598942042546970305559407106942400963238293404008531397852324685001218396911640289779489663576367324596548181017474374021004550410391512848474620794357352210045821843231987316290162053322439395067255637954355842538726623085586018827748915680999558311256130181603999667777333188101662246134649654193451793385936793189703232906742875778971934603222136153225456368418793299411263117476580985158430622187055537951509588202057073640535996637766163064535657365320708955702716169966772540993532156879440042925227289647159310874321022784353321002036151786325220422608278893946874994681183557825095504853243369427558605966614614570663967866047096601591293558628906734047020911490384271474399331388436049808478321981806364709938720290325486617024601361337937412684321538304452174213107164917430032266876605240459215023694478069835337417138969500034998257293305372618330105629269681766595585288693546733268230625507185795755348789693800714677069325813192660077172311772707275095371797871923918629987140106191112519125551205941201662943132775593722493925050906447259009932686533214236756416934573165548801480723687351102223457638961245147486193351215309442187785919388531326619399651143405778639597036195125585630397849198717077569887015863739471766912336878149913910975670776563743173627107812040447341846151674440724484208634845039011782190386425537254065671985038578228816517842136175554158490942330564419158505283201869790700005633060844117294759369244955257844801832885067309365591373904798331167381029731012648184490711508753745611284729685083709578293033581253052807828158078660069429286602298175704268359820788322704041586060666495048390118605169732389445938707515304052148148473497066218416950845635445115280453865912254679930600800072325630466728856150807867999219742353499321605360216424631810633085968122731317244123882667650278836801573303479111760330406537344419811061185787871347557925267291642392061696704762864850572718796654484821697937187811676245507419518067393422522640779184181073608336167551508688287114311018853197306722453714162546698704934363468774826382210526290477042095383709257907899356429304404697121238643284256099022271894507933746640445026129078658863660675193421343636271888550253910714691177476871039606643312059047427609935155021020263818695268787857865030903679193072283924349280237506639629182497436843968601451282587785067949565929132033555993362800143633456496163113307279301846778103578867033049139839603279955310219210619882548661236040510225184940842050705889368470212641115110365934279360859251411183277844147040336852864994243262272047367708809684174185113257775349976082968413821733530799218238082600269262148891011146323198673462638843874376036614543443236281416324951844862539990494091481801130097897274300017180840672426972244640371065877305970158591866154032926202926995785794620213483315630435526781387702111294252651543416832220371399601592899493880318536582861352080827995253192302440571384758422007347656888389264936845021143652289635021500002597974620984087006604739913298330419576709886231864697118854885713945811832437944751887793956351410906241180437439929972658750459154923944582527581375207107700902076151794393326434671467153526038020198220983921901459599323885580765811355598875942274975277474825295467286826146827788911629754047467677825607726343778068808236133246582226904926806796727157002515064191072706221070906090329604198306856219466588316618991575845480792028177222475791542279658984991849022378770717619861151937848354337854980677181038357983343922548888923971792084046964739297131825542427438196425398701087363550801996717289273229903701035148384444661435778573453809049486491442716776420419842461205743527915203585661566483329193879647997821215777602978838999418524894914890494060330565055072791441625175749407795052014614229230634097453130036388007001800982673886288012658178613969614397001216573899815840846863325271794152959493562118435001289534003727714385688880604151836920915065591547607964288032403224277314259008894958686665741043996857665706572561974214444851794277636937202483264757138847992727520246224970107852571309422550471339184278040936346129987692328834740377165963339168203582629645376991313319611014854113661908361535201896305523190521651881687595250786053010824617425912236225282205322057702395365605692693508153325177774695229626727954640441649069993228545448955740360639159019117986913088069154357477943266632859476570368707896007360528434653372742319648969426778108106561520583228757404913000918055338328705259914900398107351195536095961938525444229978875611115854572231630269303560326799558108375126333690584877775849227157508053145798581086989344080103823683583111468996717665941160848792209433563846242260383976157165041076354556156514194970718775631217450263290072222208076209521191297070507993215853070477838404927541078093490156583797064241552947236858044618388305463452744019831762585137200599635586079675736054025810859963273001671659778139285283664414827063949231238326028501979541483491519472402011289793311669178938467730437008806482990352500726642066778427720326158836225743467721836910735418334632413945324698433640917968930381941511388389529146593136003431468838889747589940519186736198325077751028960007676766949446094282112991740468395184076482787965743442242223710249957522009680046348130498158981741804510074997788805057758111041369940402559838568468016162314796742744987847589172076186430324771250857298931796456929471931667874734336459418426112372470385370539647412640245208964945872262642169788776858334751687298409286864805604099806951873033825313809051713895950518867699493934819181274168466520678035445962573306627140146914441736331471975182266213306835883161516570786894893337294292714152560550231984845924791641759939474806961646474848626420753606085997454925829773365943247652398842127357674642354195409803112656841003098778503761367234562892593164964907106644627715601076651803113809458152341487431638635761319779419615370455929022287756693447769638049245917607178877702097946380129377287147218615387923004923921688331339156394301806878085444413883289118540218725403508668799560918096621023385584497861754536210307462743639741781571523294504069948297578484170491700342076605407626602336618140439853678211879523312231451664331721206732413798816197209024936521840641914287633724626298283068894300833315176234020293600937735949430529379960497051518005216408887419992349532480137630692532132653029427620053967047985551007254787402035141779256769206522277589532317532222438941045338879974182796235088673624364313827745823048719021465760168997984760780133477172726793163039593668511145621236806423158924773066993142186929608328626168285890441006747576514530776081614412890404804649206227070502383624851747747328399704168030894645520614085269366495910259919750780588070447122310998022915139523478451970915630126616502729357501805698493854823155411844333917006872852661562503946705584862671687901157226117609214981199588786297960694326485873991393461591870328214429657602390697693941199542455158009463750284636484919676409220817613902376272822120069439291630144382302525056641976238304237274942056344695408192340949554597241697487976220566933950218296182395582306723165960652728797230867053561723830405320121798126795885004225467225099886220022823190682259990872116622142929776101738499672514919244034447232175119395469882788339883114675213697060974135576637846961635160075801298761133875799489552353835283278693860593268785002786859190772888638364947684388780266695106261098697675876688586170931808334374958972830742732369788628315749036868490714779612190562261690640568846565784503670092875992756729862088464504107050042510737917711170096981080753288239821983647270761416051301431900370962886167323267164590474907159574378300211313483889195735084383137474557252639283534888974362585419412486643176816034048320239847477335406496541584426705227564958954181928919495905683220728976008698264967337021283885381746320175706684857705212146992449156638450966874728254861138690552903865525835820199949350181232131565825511846363562771860451692839182017986969568206516380210986390783653267908189332680578118004779910047543384181111543817498374038186013014991094854640233374474700747289769466649133038140289742451443187734979877557417461219229595524266152490683834768196361840023289108082815432530795597184236682451775903147459633663808281403460360430414872350796452585547565807971087585769323034735648644637430573742230124879534032323095969336892364952546851505292982035804483729809597098788344953432540786639263943996258902469140973933640918457047894384927354225720351536483274084061599496171963455144780276597492608940512693381520681959205436032662876078770797061575678031440218627324455596083420864211903243831443664875532437070611272011814610464375880655085446887519909295746589557055231082391649720038107911445438572824825550899291004290533352508092084549621394394702958630765351107302651350722137086697482480109899532510721490244736291508593619167273969666953302398665816311193733331010017896518335726378691912538341140602997791053043105980224599369971328649684701335662446468609529714317952161986625777212787500765676647208755420124936945936939904654526485444022824044779045270912200640924096555045874121431529630304697721285419954055599919506524108428252637830898114623012161762522796369345449682933963012690829139044936004789147564106482929027720605931525961385882824655908106276256790155987319258117901322173471949965208629715259063352934695995221004060695701861804262122100154549221396497322540898222275059217425989110301995008579320435256645002530734238726791390000478512518641230666644021697263439274353885607783455709194238722422356791088591247221085798561682926465499918015605005443158026525250288292440360071286344175416156010981964408707004330014271467477911487631500039712706029566020345515967702948895515052220218979906882429853136429732810816831673737178605176676777990191923896601390548102704829509471629194855379049254619835476569444159660401706712502366177520864828533858656548165737220536872051655223900973358466711253223801038655897005127233675960719628538157229136693119209160744171389077617366790957502085729184000096822840931895858874579804369188323340322196071575866582320168184728732292118452628986761348933474782947490830553515184511261085571133479961240914519069941369425297817871046680048198360316103251827923500057285929180095382663377237918783392957634880633848852905271343032207872165677572646900187711251146392776797736312587924094477721933911331784345857835691201187811792986098560973687357386161109055413838771964973345338306196348822342477336459996404446352468660562553268539310015396533092260334602693185652822124986043562950754017956680694071892671386574719318063507821764272557431367667002480997605964902786450485731282561950130042162138208343214368178929410329299003920635730549187550986230268074453895316408809315076223756261142856693110535500140824116660102444392458603176793533896462528526945278189003289097051439589011082631217144645567341548027285611352158163371629116538663105978090027819422757907762487460510770815178088051868263487354547845661807572978133120338056851770738175110412860653207812036073065614524686535263207002500232890777840377787568404043872311811595827270406168628680560344552330380536821206160201261882283017723243949887366055973746172679264178311343261108293174054335389394499263538907720252508225676438632053383291260922139689924566665998191609572107608789553648368352446621009458041690823835277531981396966896698888557125330856251598744454552234553146661453221221535679358138416745429356812775154275145374819359187251326093206764915054112291891357665806233141468374555692930056586459959097027515177846368359365355378944438265066733069770591493266247093895810132892739594432316862268502220380424128929662587918630580883861906453903278959441012791640303922521246629216885286584998306441132317365015386959037521146091792323572532559196005804173091624926108008055532308550038094583261759053472667860364695020817536375595310009373142010905233993749667270610488565679298310240445870182448848063193074326059775575265266132011424580242714841216029700940199332513899501174262531967848585900346568393380466064815338243607352854845542331678895141563672310284668389524694657899976411505830207157716698834490507663690820710158528157845342008866650772141418226408231985329952068396991972674742812651742415184062608455299099634634916851537531691093153155081204319271218881581248708874635181511963398341532003938840717561100392004163992989471751311229667924033355369714922195622300418954871560201562082304237207040933014129341312106112798234697899142141072441979617831972644489188968384183570319327959443607196500976259747480499327998806362115477583299765350517888179766425523191100595352127381685239096645129708544614491277670375369246013534918533493917535117039587784183496729511423574569385153714466613377386021072733372875261874428797166478048667949060718522917673405307620536309145079175496271950772983603074056890019216706580761354036752820933393145792703615634608712792174166666296224970005530214076299620705297312400951166219664530197297515574577543651833695409740501459101374412819393519481721953",
         "hidden": false,
         "locked": false
        }
       ],
       "scored": true,
       "setup": "",
       "teardown": "",
       "type": "doctest"
      }
     ]
    }
   }
  }
 },
 "nbformat": 4,
 "nbformat_minor": 5
}
